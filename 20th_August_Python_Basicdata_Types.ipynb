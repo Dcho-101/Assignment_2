{
 "cells": [
  {
   "cell_type": "markdown",
   "id": "2739520b-6132-4aa5-aa75-76090c045c24",
   "metadata": {},
   "source": [
    "# TOPIC: String Based Assignment Problem"
   ]
  },
  {
   "cell_type": "markdown",
   "id": "c9c4a75f-47ff-419c-813f-744202116502",
   "metadata": {},
   "source": [
    "# Question 1 "
   ]
  },
  {
   "cell_type": "markdown",
   "id": "c603b75d-0d3b-4f77-9a14-f120685543e7",
   "metadata": {},
   "source": [
    "Write a program to reverse a string."
   ]
  },
  {
   "cell_type": "code",
   "execution_count": 41,
   "id": "5178aa9a-27c2-4912-a638-7811a52c2b5f",
   "metadata": {},
   "outputs": [
    {
     "data": {
      "text/plain": [
       "'sllikswp'"
      ]
     },
     "execution_count": 41,
     "metadata": {},
     "output_type": "execute_result"
    }
   ],
   "source": [
    "# first we need a string which have to be reversed and stored in str_1 variable.\n",
    "# in this case 'pwskills' can be taken as string.\n",
    "\n",
    "str_1 = \"pwskills\"\n",
    "\n",
    "\n",
    "# next step is to reverse the string. \n",
    "# in this case, the first index can be taken as -1, and jump can be taken as -1 and stored in str_2 variable.\n",
    "\n",
    "\n",
    "str_2 = str_1[-1::-1]\n",
    "\n",
    "# now by printing the str_2 variable\n",
    "\n",
    "str_2"
   ]
  },
  {
   "cell_type": "code",
   "execution_count": null,
   "id": "90c1a8c7-fc97-460d-abea-1b8554608da4",
   "metadata": {},
   "outputs": [],
   "source": []
  },
  {
   "cell_type": "markdown",
   "id": "b7c1a7fc-f6a5-4cf7-8cad-517607d9ad7f",
   "metadata": {},
   "source": [
    "# Question 2"
   ]
  },
  {
   "cell_type": "markdown",
   "id": "f1fb7ad9-9b7c-4809-9717-b52154ea5739",
   "metadata": {},
   "source": [
    "Check if a string is a palindrome."
   ]
  },
  {
   "cell_type": "code",
   "execution_count": 42,
   "id": "43168703-ffa9-4073-ad5f-83bcd8a43e18",
   "metadata": {},
   "outputs": [
    {
     "name": "stdout",
     "output_type": "stream",
     "text": [
      "string is not in palindrome\n"
     ]
    }
   ],
   "source": [
    "# palindrome is a function which is returns the same value even the variable value was reversed. \n",
    "# according to question, first we need a string which have to reversed and check if the value remains same or not.\n",
    "# in string, we can take \"pwskills\" as string\n",
    "str_3 = \"pwskills\"\n",
    "\n",
    "\n",
    "# first the string is reversed and stored into str_4 variable\n",
    "str_4 = str_3[-1::-1]\n",
    "\n",
    "\n",
    "# for checking palindorme, if-else statement or function can be performed.\n",
    "# if values of str_3 and str_4 remains same then the string is in palindrome \n",
    "# if  values of the string are not remains same after reverse, then the string is not in palindorme.\n",
    "if str_4 == str_3:\n",
    "    print(\" the string is in palindrome\")\n",
    "else:\n",
    "    print(\"string is not in palindrome\")"
   ]
  },
  {
   "cell_type": "code",
   "execution_count": null,
   "id": "43932d7c-c109-48c0-9f53-2c3eccf97b32",
   "metadata": {},
   "outputs": [],
   "source": []
  },
  {
   "cell_type": "markdown",
   "id": "287ab928-67bd-492d-805a-5a3e352c93a9",
   "metadata": {},
   "source": [
    "# Question 3"
   ]
  },
  {
   "cell_type": "markdown",
   "id": "579e39a8-dada-4e29-8299-a3715c6255be",
   "metadata": {},
   "source": [
    "Convert a string to uppercase."
   ]
  },
  {
   "cell_type": "code",
   "execution_count": 43,
   "id": "a155b3eb-1dad-498c-ac88-e16aa9707cd5",
   "metadata": {},
   "outputs": [
    {
     "data": {
      "text/plain": [
       "'DIBYENDU'"
      ]
     },
     "execution_count": 43,
     "metadata": {},
     "output_type": "execute_result"
    }
   ],
   "source": [
    "# for evaluation of this question, I take my name as string and stored into str_5 variable.\n",
    "str_5 = \"dibyendu\"\n",
    "\n",
    "# for converting a string into uppercase, upper() function can be used and stored into str_6 variable. \n",
    "str_6 = str_5.upper()\n",
    "\n",
    "# now, printing the str_6 variable\n",
    "str_6"
   ]
  },
  {
   "cell_type": "code",
   "execution_count": null,
   "id": "616af0a9-1cc6-44ec-9f04-e95c6c7c3e26",
   "metadata": {},
   "outputs": [],
   "source": []
  },
  {
   "cell_type": "markdown",
   "id": "1976d424-0b54-4948-8719-f4a4b043786d",
   "metadata": {},
   "source": [
    "# Question 4"
   ]
  },
  {
   "cell_type": "markdown",
   "id": "44dc0b4d-d40c-419a-bc0b-cc3869a3ff24",
   "metadata": {},
   "source": [
    "Convert a string to lowercase."
   ]
  },
  {
   "cell_type": "code",
   "execution_count": 46,
   "id": "6ac003e1-f27b-4cfc-a09b-9602b1565c67",
   "metadata": {},
   "outputs": [
    {
     "data": {
      "text/plain": [
       "'dibyendu'"
      ]
     },
     "execution_count": 46,
     "metadata": {},
     "output_type": "execute_result"
    }
   ],
   "source": [
    "# for evaluation of this question, I take str_6 variable since it is already in uppercase. \n",
    "# first checking str_6\n",
    "str_6\n",
    "\n",
    "# for lowercase a string, lower() function can be used and stored into str_7 variable.\n",
    "str_7 = str_6.lower()\n",
    "\n",
    "# now printing the str_7 variable\n",
    "str_7"
   ]
  },
  {
   "cell_type": "code",
   "execution_count": null,
   "id": "71eb8cd3-3d39-49f7-992a-3a393bbad5c4",
   "metadata": {},
   "outputs": [],
   "source": []
  },
  {
   "cell_type": "markdown",
   "id": "ae73aa01-7684-4194-8d7e-cc7183ffe5f1",
   "metadata": {},
   "source": [
    "# Question 5 "
   ]
  },
  {
   "cell_type": "markdown",
   "id": "15d538c3-1aa3-469e-8ac1-983fe8af4c32",
   "metadata": {},
   "source": [
    "Count the number of vowels in a string."
   ]
  },
  {
   "cell_type": "code",
   "execution_count": 47,
   "id": "a74fbfbe-0808-44c4-8655-b8d28d380be4",
   "metadata": {},
   "outputs": [
    {
     "name": "stdout",
     "output_type": "stream",
     "text": [
      "5\n"
     ]
    }
   ],
   "source": [
    "# for counting the number of vowels in a string, first we need a string value. \n",
    "# in this scenario, I take my full name as a string. \n",
    "str_8 = \"dibyendu chowdhury\"\n",
    "\n",
    "\n",
    "#  all the vowel stored in another variable (let say y)\n",
    "y = \"aeiouAEIOU\"\n",
    "\n",
    "\n",
    "# count() function allows to count the number of the vowel taken in the string. \n",
    "# with sum() function we can calculate the total vowel present in the str_8 and typecasting with count() function\n",
    "# counting the total vowel and stored into count named variable\n",
    "count = sum(str_8.count(vowel) for vowel in y)\n",
    "\n",
    "\n",
    "# printing the count variable\n",
    "print(count)"
   ]
  },
  {
   "cell_type": "code",
   "execution_count": null,
   "id": "88a20db6-4f50-48f9-b0e3-5b91244722c5",
   "metadata": {},
   "outputs": [],
   "source": []
  },
  {
   "cell_type": "markdown",
   "id": "f0f3daf6-0eee-4099-9164-cab4e592566a",
   "metadata": {},
   "source": [
    "# Question 6"
   ]
  },
  {
   "cell_type": "markdown",
   "id": "067eaa02-9b9c-4ec0-966c-d51d6b5fb503",
   "metadata": {},
   "source": [
    "Count the number of consonants in a string."
   ]
  },
  {
   "cell_type": "code",
   "execution_count": 48,
   "id": "2bee04f9-7909-47c9-9722-0c719a2bc739",
   "metadata": {},
   "outputs": [
    {
     "name": "stdout",
     "output_type": "stream",
     "text": [
      "12\n"
     ]
    }
   ],
   "source": [
    "# for counting the number of vowels in a string, first we need a string value. \n",
    "# in this scenario, I take my full name as a string.\n",
    "str_9 = \"dibyendu chowdhury\"\n",
    "\n",
    "#  all the consonants stored in another variable (let say z)\n",
    "z = \"bcdfghjklmnpqrstvwxyzBCDFGHJKLMNPQRSTVWXYZ\"\n",
    "\n",
    "# count() function also allows to count the number of consonants provided in the string. \n",
    "# with sum() function we can calculate the total consonants present in the str_9\n",
    "# counting the total vowel and stored into count_2 variable\n",
    "count_2 = sum(str_9.count(consonants) for consonants in z)\n",
    "\n",
    "\n",
    "# printing the count_2 variable\n",
    "print(count_2)"
   ]
  },
  {
   "cell_type": "code",
   "execution_count": null,
   "id": "ef5b92e4-e7c1-453f-b643-530ae9fbbd59",
   "metadata": {},
   "outputs": [],
   "source": []
  },
  {
   "cell_type": "markdown",
   "id": "e3baa3d4-7ffe-4dd3-b514-feb26c3a5629",
   "metadata": {},
   "source": [
    "# Question 7"
   ]
  },
  {
   "cell_type": "markdown",
   "id": "f048b5d7-f086-41d9-bb4a-05c661d076d0",
   "metadata": {},
   "source": [
    "Remove all whitespaces from a string"
   ]
  },
  {
   "cell_type": "code",
   "execution_count": 50,
   "id": "d89eb276-5737-4352-82ae-e4a334c9ca50",
   "metadata": {},
   "outputs": [
    {
     "data": {
      "text/plain": [
       "'pwskills'"
      ]
     },
     "execution_count": 50,
     "metadata": {},
     "output_type": "execute_result"
    }
   ],
   "source": [
    "# for evaluation of this question, strip() function can be used.\n",
    "# lstrip() allows to remove spaces from the left side and rstrip() allows to remove spaces from the right side of the string.\n",
    "str_10 = \"           pwskills          \"\n",
    "\n",
    "\n",
    "# in the above string, strip() function can be used as it allows to remove whitespaces from both end from any string.\n",
    "# output of the operation stored into str_11 variable\n",
    "str_11 = str_10.strip()\n",
    "    \n",
    "\n",
    "# now printing the variable str_11\n",
    "str_11"
   ]
  },
  {
   "cell_type": "code",
   "execution_count": null,
   "id": "8008b329-a339-4d06-9097-6224654cae78",
   "metadata": {},
   "outputs": [],
   "source": []
  },
  {
   "cell_type": "markdown",
   "id": "69f2e11f-8a23-48d4-b9cd-8160f8d6a35e",
   "metadata": {},
   "source": [
    "# Question 8"
   ]
  },
  {
   "cell_type": "markdown",
   "id": "90d6ed40-a3fd-4ce4-a0b9-52b64843d698",
   "metadata": {},
   "source": [
    "Find the length of a string without using the `len()` function."
   ]
  },
  {
   "cell_type": "code",
   "execution_count": 51,
   "id": "c6ee928c-2e37-4dcf-b241-b284a067656c",
   "metadata": {},
   "outputs": [
    {
     "name": "stdout",
     "output_type": "stream",
     "text": [
      "8\n"
     ]
    }
   ],
   "source": [
    "# we can also find the length of a string without using len() function\n",
    "# first we need to take a string. we can use \"pwskills\" as string\n",
    "str_12 = \"pwskills\"\n",
    "\n",
    "\n",
    "# in this scenario, for loop can be performed\n",
    "# for each iteration (s) count will be s+1\n",
    "s = 0\n",
    "for i in str_12:\n",
    "    s = s+1\n",
    "    \n",
    "\n",
    "# now printing the value of s\n",
    "print(s)"
   ]
  },
  {
   "cell_type": "code",
   "execution_count": null,
   "id": "91f50004-69fa-49f1-af85-b691c202b05d",
   "metadata": {},
   "outputs": [],
   "source": []
  },
  {
   "cell_type": "markdown",
   "id": "7cc7fe2a-4d50-483a-bad0-91b7d51da34f",
   "metadata": {},
   "source": [
    "# Question 9"
   ]
  },
  {
   "cell_type": "markdown",
   "id": "22004e99-79d4-4a32-af8e-b9df033e0233",
   "metadata": {},
   "source": [
    "Check if a string contains a specific word."
   ]
  },
  {
   "cell_type": "code",
   "execution_count": 52,
   "id": "a129cee0-9cd6-4ab4-8849-abe43ae5f811",
   "metadata": {},
   "outputs": [
    {
     "name": "stdout",
     "output_type": "stream",
     "text": [
      " the word 'is' available in the sentence\n"
     ]
    }
   ],
   "source": [
    "# this query can be implemented by using the if-else statement\n",
    "# if the word is found then it will print \"the word is found\"\n",
    "# else it will print \"the word is not found\"\n",
    "# first we need to take a sentence as a string\"\n",
    "str_13 = \"my name is dibyendu chowdhury\"\n",
    "\n",
    "\n",
    "# from the above string, we will find \"is\" string\n",
    "# in another variable (let say m) 'is' word is stored\n",
    "m = \"is\"\n",
    "\n",
    "\n",
    "# implementing if-else statement\n",
    "if m in str_13:\n",
    "    print(\" the word 'is' available in the sentence\")\n",
    "else:\n",
    "    print(\" the word 'is' not available in the sentence\")"
   ]
  },
  {
   "cell_type": "code",
   "execution_count": null,
   "id": "cc023ed4-cde0-472d-b0d3-181c822d3b9c",
   "metadata": {},
   "outputs": [],
   "source": []
  },
  {
   "cell_type": "markdown",
   "id": "348c0d10-7953-4ce2-aae3-e6121ff4dc57",
   "metadata": {},
   "source": [
    "# Question 10"
   ]
  },
  {
   "cell_type": "markdown",
   "id": "4140d278-60fd-47c4-b4b5-6759e9ce42bb",
   "metadata": {},
   "source": [
    "Replace a word in a string with another word"
   ]
  },
  {
   "cell_type": "code",
   "execution_count": 53,
   "id": "146da0aa-8a45-4b81-b2b6-9174d3a857d2",
   "metadata": {},
   "outputs": [
    {
     "name": "stdout",
     "output_type": "stream",
     "text": [
      "merry christmas\n"
     ]
    }
   ],
   "source": [
    "# for this question, replace() function can be used. \n",
    "# first we take a string and stored into str_14 variable\n",
    "str_14 = \"happy christmas\"\n",
    "\n",
    "\n",
    "# now, replacing the \"happy\" word with \"merry\" and stored to str_15 variable\n",
    "str_15 = str_14.replace(\"happy\", \"merry\")\n",
    "\n",
    "# printing str_15\n",
    "\n",
    "print(str_15)"
   ]
  },
  {
   "cell_type": "code",
   "execution_count": null,
   "id": "7e2b3f22-8140-48fc-b0fb-20f7ab460181",
   "metadata": {},
   "outputs": [],
   "source": []
  },
  {
   "cell_type": "markdown",
   "id": "038b25ee-a3e6-4d9f-b61e-9ed9e511d6b5",
   "metadata": {},
   "source": [
    "# Question 11"
   ]
  },
  {
   "cell_type": "markdown",
   "id": "14e33d79-22b7-4484-8cac-284a38c3a51a",
   "metadata": {},
   "source": [
    "Count the occurrences of a word in a string."
   ]
  },
  {
   "cell_type": "code",
   "execution_count": 54,
   "id": "74291e36-3b58-4922-b6f6-ad9758cabb16",
   "metadata": {},
   "outputs": [
    {
     "data": {
      "text/plain": [
       "2"
      ]
     },
     "execution_count": 54,
     "metadata": {},
     "output_type": "execute_result"
    }
   ],
   "source": [
    "# this query can be implemented by using count() command. \n",
    "# count() command allows to count the occurrence of any word in the string\n",
    "str_16 = \"today is rainy weather and it is best for coding\"\n",
    "\n",
    "# implementing count function\n",
    "\n",
    "str_16.count(\"is\")"
   ]
  },
  {
   "cell_type": "code",
   "execution_count": null,
   "id": "47ffec4c-0f9e-4fc3-8d3c-0daa049677c7",
   "metadata": {},
   "outputs": [],
   "source": []
  },
  {
   "cell_type": "markdown",
   "id": "50fc5533-1b8e-4be9-b1ec-4a743bc7e62f",
   "metadata": {},
   "source": [
    "# Question 12"
   ]
  },
  {
   "cell_type": "markdown",
   "id": "f71f8824-51a1-4417-a968-a90b09044fae",
   "metadata": {},
   "source": [
    "Find the first occurrence of a word in a string"
   ]
  },
  {
   "cell_type": "code",
   "execution_count": 55,
   "id": "f346131d-0387-4f03-8083-d5dad0573c0e",
   "metadata": {},
   "outputs": [
    {
     "data": {
      "text/plain": [
       "15"
      ]
     },
     "execution_count": 55,
     "metadata": {},
     "output_type": "execute_result"
    }
   ],
   "source": [
    "# this query can be implemented by using find() command\n",
    "# find() command allows to find first occurrence of any word in the string\n",
    "# find() command shows the index value of the word taking first index value as 0.\n",
    "str_17 = \"today is rainy weather and it is best for coding\"\n",
    "\n",
    "\n",
    "# implementing find() function\n",
    "\n",
    "str_17.find(\"weather\")"
   ]
  },
  {
   "cell_type": "code",
   "execution_count": null,
   "id": "01b4aef2-f6be-411f-bbd8-548fd576f87b",
   "metadata": {},
   "outputs": [],
   "source": []
  },
  {
   "cell_type": "markdown",
   "id": "4961c8dd-bd35-486c-bfc6-8f20c162adb2",
   "metadata": {},
   "source": [
    "# Question 13"
   ]
  },
  {
   "cell_type": "markdown",
   "id": "0c268654-4dd1-4e2a-8a61-3407c2555ccf",
   "metadata": {},
   "source": [
    "Find the last occurrence of a word in a string."
   ]
  },
  {
   "cell_type": "code",
   "execution_count": 56,
   "id": "61a19459-23ff-4ca6-b9f5-3f1ca113beaa",
   "metadata": {},
   "outputs": [
    {
     "data": {
      "text/plain": [
       "15"
      ]
     },
     "execution_count": 56,
     "metadata": {},
     "output_type": "execute_result"
    }
   ],
   "source": [
    "# using rfind() function, this question can be solved. \n",
    "# rfind() function returns the last occurence of a word in a string. \n",
    "str_18 = \"today is rainy weather and it is best for coding\"\n",
    "\n",
    "\n",
    "# implementing rfind() function\n",
    "\n",
    "str_18.rfind(\"weather\")"
   ]
  },
  {
   "cell_type": "code",
   "execution_count": null,
   "id": "d4798c18-4d95-4d4e-8ece-5a0b2291901f",
   "metadata": {},
   "outputs": [],
   "source": []
  },
  {
   "cell_type": "markdown",
   "id": "0fd5efc4-6a38-4cbe-9687-e67f812ae3a6",
   "metadata": {},
   "source": [
    "# Question 14"
   ]
  },
  {
   "cell_type": "markdown",
   "id": "0ceb437f-3ce9-4dfd-ab62-3a89b36ba849",
   "metadata": {},
   "source": [
    "Split a string into a list of words"
   ]
  },
  {
   "cell_type": "code",
   "execution_count": 57,
   "id": "3d28a610-e7d7-4ef6-b7a2-e153904ad3c5",
   "metadata": {},
   "outputs": [
    {
     "name": "stdout",
     "output_type": "stream",
     "text": [
      "today is rainy weather and it is best for coding\n"
     ]
    },
    {
     "data": {
      "text/plain": [
       "['today', 'is', 'rainy', 'weather', 'and', 'it', 'is', 'best', 'for', 'coding']"
      ]
     },
     "execution_count": 57,
     "metadata": {},
     "output_type": "execute_result"
    }
   ],
   "source": [
    "# for this query, we can use the str_18 variable\n",
    "# split() function can be used for this query. \n",
    "# the output value stored into str_19 using typecasting list() function.\n",
    "# printing str_18 first\n",
    "print(str_18)\n",
    "\n",
    "str_19 = list(str_18.split()) # implementing split() function with typecasting list() function\n",
    "\n",
    "# printing the str_19 \n",
    "str_19"
   ]
  },
  {
   "cell_type": "code",
   "execution_count": null,
   "id": "fad95176-7841-4397-9a54-fda0e2778da3",
   "metadata": {},
   "outputs": [],
   "source": []
  },
  {
   "cell_type": "markdown",
   "id": "855c669b-a317-495e-adcc-b079d22eb1b0",
   "metadata": {},
   "source": [
    "# Question 15"
   ]
  },
  {
   "cell_type": "markdown",
   "id": "1331e807-25a5-4f55-ba5c-8b5275d814a5",
   "metadata": {},
   "source": [
    "Join a list of words into a string"
   ]
  },
  {
   "cell_type": "code",
   "execution_count": 59,
   "id": "9137f5a7-8e9c-4c2a-b2a0-87e86c2e43f5",
   "metadata": {},
   "outputs": [
    {
     "name": "stdout",
     "output_type": "stream",
     "text": [
      "['today', 'is', 'rainy', 'weather', 'and', 'it', 'is', 'best', 'for', 'coding']\n",
      "today is rainy weather and it is best for coding\n"
     ]
    }
   ],
   "source": [
    "# for this querry we can use the str_19 variable value\n",
    "# first printing the str_19 \n",
    "print(str_19)\n",
    "\n",
    "# to join list of word into a string, we can use join() function\n",
    "# we can join the list of the word separating each word with space. \n",
    "str_20 = \" \".join(str_19)\n",
    "\n",
    "# printing str_20\n",
    "print(str_20)"
   ]
  },
  {
   "cell_type": "code",
   "execution_count": null,
   "id": "83a41d57-c055-40a1-a5f8-98086b7ee5a8",
   "metadata": {},
   "outputs": [],
   "source": []
  },
  {
   "cell_type": "markdown",
   "id": "4eb49bb3-21f3-428f-97d1-ee22bd654ba6",
   "metadata": {},
   "source": [
    "# Question 16"
   ]
  },
  {
   "cell_type": "markdown",
   "id": "22cb872a-cc5f-4a29-874b-12114df11a5e",
   "metadata": {},
   "source": [
    "Convert a string where words are separated by spaces to one where words\n",
    "are separated by underscores"
   ]
  },
  {
   "cell_type": "code",
   "execution_count": 60,
   "id": "c4da7656-fce1-4594-bb60-47c2036aef37",
   "metadata": {},
   "outputs": [
    {
     "name": "stdout",
     "output_type": "stream",
     "text": [
      "today is rainy weather and it is best for coding\n",
      "today_is_rainy_weather_and_it_is_best_for_coding\n"
     ]
    }
   ],
   "source": [
    "# we can use str_20 as the string\n",
    "# printing str_20 first\n",
    "print(str_20)\n",
    "\n",
    "# for converting string where words are separated by spaces to words are separated by underscore we can use the join() function\n",
    "# split() function split the string where spaces are available within the string and then typecasting join() function \n",
    "# we use underscore in double quotation according to the question.\n",
    "str_21 = \"_\".join(str_20.split())\n",
    "\n",
    "\n",
    "# printing str_21\n",
    "print(str_21)"
   ]
  },
  {
   "cell_type": "code",
   "execution_count": null,
   "id": "e0a73d74-bf1a-4cd3-b6ce-3a42a4681ac0",
   "metadata": {},
   "outputs": [],
   "source": []
  },
  {
   "cell_type": "markdown",
   "id": "69bdf4c5-a76f-4df0-b220-59f1fe4520a8",
   "metadata": {},
   "source": [
    "# Question 17"
   ]
  },
  {
   "cell_type": "markdown",
   "id": "531367b2-1f81-4e7e-9550-80a7ef0a25f6",
   "metadata": {},
   "source": [
    "Check if a string starts with a specific word or phrase"
   ]
  },
  {
   "cell_type": "code",
   "execution_count": 62,
   "id": "f2760490-9363-4f40-9c46-2c0bd305a61d",
   "metadata": {},
   "outputs": [
    {
     "name": "stdout",
     "output_type": "stream",
     "text": [
      "today is rainy weather and it is best for coding\n"
     ]
    },
    {
     "data": {
      "text/plain": [
       "True"
      ]
     },
     "execution_count": 62,
     "metadata": {},
     "output_type": "execute_result"
    }
   ],
   "source": [
    "# this question can be solved by using the starstwith() function\n",
    "# here, we can use str_20 as a string\n",
    "# printing str_20 first\n",
    "print(str_20)\n",
    "\n",
    " \n",
    "# in the above string, we will try to find the string starts with the word \"today\". \n",
    "# as we already know that, 'today' word is already available in first position so it will return True \n",
    "str_20.startswith(\"today\")"
   ]
  },
  {
   "cell_type": "code",
   "execution_count": null,
   "id": "3abf3385-fb1f-459b-8fa3-3ed36fa48200",
   "metadata": {},
   "outputs": [],
   "source": []
  },
  {
   "cell_type": "markdown",
   "id": "90d36104-6e8e-40c5-b632-5872cc2c0666",
   "metadata": {},
   "source": [
    "# Question 18"
   ]
  },
  {
   "cell_type": "markdown",
   "id": "19d38866-6734-47e3-b1d4-383318bac9a3",
   "metadata": {},
   "source": [
    "Check if a string ends with a specific word or phrase"
   ]
  },
  {
   "cell_type": "code",
   "execution_count": 65,
   "id": "a3e8cb2f-b46b-4707-b8e5-ebd011c684f6",
   "metadata": {},
   "outputs": [
    {
     "name": "stdout",
     "output_type": "stream",
     "text": [
      "today is rainy weather and it is best for coding\n"
     ]
    },
    {
     "data": {
      "text/plain": [
       "False"
      ]
     },
     "execution_count": 65,
     "metadata": {},
     "output_type": "execute_result"
    }
   ],
   "source": [
    "# this question can be solved by using the endswith() function\n",
    "# here, we can use str_20 as a string\n",
    "#printing str_20\n",
    "print(str_20)\n",
    "\n",
    "\n",
    "# if in the string, the word is available, then it will return True, if not then ti will return False. \n",
    "# in the above string, we will try to find the string ends with the word \"today\". \n",
    "# as we already know that word is not in last position so it will return False\n",
    "str_20.endswith(\"today\")"
   ]
  },
  {
   "cell_type": "code",
   "execution_count": null,
   "id": "68c1d612-f024-4ac2-8105-3a43e5b1a5f4",
   "metadata": {},
   "outputs": [],
   "source": []
  },
  {
   "cell_type": "markdown",
   "id": "28bb3c91-69c3-43dd-8f74-fc3b8f16d115",
   "metadata": {},
   "source": [
    "# Question 19"
   ]
  },
  {
   "cell_type": "markdown",
   "id": "76af2ce1-2756-4b2f-925b-6759344a6805",
   "metadata": {},
   "source": [
    "Convert a string to title case (e.g., \"hello world\" to \"Hello World\")."
   ]
  },
  {
   "cell_type": "code",
   "execution_count": 68,
   "id": "e827534f-0dd6-4f7b-8ca6-7b60756e347a",
   "metadata": {},
   "outputs": [
    {
     "name": "stdout",
     "output_type": "stream",
     "text": [
      "today is rainy weather and it is best for coding\n",
      "Today Is Rainy Weather And It Is Best For Coding\n"
     ]
    }
   ],
   "source": [
    "# for converting a string into title case, we can use title() function. \n",
    "# for executing the program, we take str_20 as our program execution.\n",
    "# printing str_20 first\n",
    "print(str_20)\n",
    "\n",
    "\n",
    "# implementing title() function\n",
    "print(str_20.title())"
   ]
  },
  {
   "cell_type": "code",
   "execution_count": null,
   "id": "88a8d5e7-4d5e-48c0-ba09-eea31d36cb15",
   "metadata": {},
   "outputs": [],
   "source": []
  },
  {
   "cell_type": "markdown",
   "id": "e1156d03-ef57-4f42-bde8-0b4d1c6ec449",
   "metadata": {},
   "source": [
    "# Question 20"
   ]
  },
  {
   "cell_type": "markdown",
   "id": "4ff8bd56-4aee-47df-b381-f0cbc2ba509b",
   "metadata": {},
   "source": [
    "Find the longest word in a string"
   ]
  },
  {
   "cell_type": "code",
   "execution_count": 71,
   "id": "c6344ad5-54fd-456f-b9c3-6880c837e83b",
   "metadata": {},
   "outputs": [
    {
     "name": "stdout",
     "output_type": "stream",
     "text": [
      "today is rainy weather and it is best for coding\n",
      "['today', 'is', 'rainy', 'weather', 'and', 'it', 'is', 'best', 'for', 'coding']\n",
      "7\n"
     ]
    }
   ],
   "source": [
    "# for performing this question str_20 as our string is used.\n",
    "# printing the str_20\n",
    "print(str_20)\n",
    "\n",
    "# now splitting the string into each words and stored into str_22 variable\n",
    "str_22 = str_20.split()\n",
    "\n",
    "# now printing str_22\n",
    "print(str_22)\n",
    "\n",
    "# using max() function to obtain maximum character value of any word in the string. \n",
    "# for measuring longest word, we can use len as key parameter. and stored into long variable.\n",
    "# finding the longest word\n",
    "max(['today', 'is', 'rainy', 'weather', 'and', 'this', 'weather', 'is', 'best', 'for', 'coding'])\n",
    "\n",
    "\n",
    "# by using len() function, we can obtain the length of the longest character\n",
    "long =  max(['today', 'is', 'rainy', 'weather', 'and', 'this', 'weather', 'is', 'best', 'for', 'coding'],key = len)\n",
    "\n",
    "\n",
    "# printing measured length\n",
    "print(len(long))"
   ]
  },
  {
   "cell_type": "code",
   "execution_count": null,
   "id": "a916726d-ff01-4e41-90ed-f4cca11bc700",
   "metadata": {},
   "outputs": [],
   "source": []
  },
  {
   "cell_type": "markdown",
   "id": "8cae075c-2373-4b86-9783-a5805f95778c",
   "metadata": {},
   "source": [
    "# Question 21"
   ]
  },
  {
   "cell_type": "markdown",
   "id": "174d9dec-cb5f-4d5e-991f-dd99f8bd9202",
   "metadata": {},
   "source": [
    "Find the shortest word in a string"
   ]
  },
  {
   "cell_type": "code",
   "execution_count": 76,
   "id": "e2e6c8b5-19c0-4df0-8bd9-b00caa1ac479",
   "metadata": {},
   "outputs": [
    {
     "name": "stdout",
     "output_type": "stream",
     "text": [
      "today is rainy weather and it is best for coding\n",
      "['today', 'is', 'rainy', 'weather', 'and', 'it', 'is', 'best', 'for', 'coding']\n"
     ]
    },
    {
     "data": {
      "text/plain": [
       "2"
      ]
     },
     "execution_count": 76,
     "metadata": {},
     "output_type": "execute_result"
    }
   ],
   "source": [
    "# for performing this question taking str_20 as our string\n",
    "# printing str_20\n",
    "print(str_20)\n",
    "\n",
    "\n",
    "# now splitting the string into each words and stored into str_23\n",
    "str_23 = str_20.split()\n",
    "\n",
    "\n",
    "# printing str_23\n",
    "print(str_23)\n",
    "\n",
    "\n",
    "# using min function we can obtain the min index value of any word in the string. \n",
    "# for measuring shortest word, we can use len as key parameter. and stored into short variables \n",
    "# for measuring shortest word we can use the min() function\n",
    "short =  min(['today', 'is', 'rainy', 'weather', 'and', 'this', 'weather', 'is', 'best', 'for', 'coding'],key = len)\n",
    "\n",
    "\n",
    "# finding the length of the shortest word\n",
    "len(short)"
   ]
  },
  {
   "cell_type": "code",
   "execution_count": null,
   "id": "1de451d4-a00e-49c1-a9b6-7fe77897d94c",
   "metadata": {},
   "outputs": [],
   "source": []
  },
  {
   "cell_type": "markdown",
   "id": "aa894355-61bd-4704-90f4-abf7be70a03e",
   "metadata": {},
   "source": [
    "# Question 22"
   ]
  },
  {
   "cell_type": "markdown",
   "id": "996c1f45-2037-4009-ac15-f2b1603f9fc6",
   "metadata": {},
   "source": [
    "Reverse the order of words in a string"
   ]
  },
  {
   "cell_type": "code",
   "execution_count": 78,
   "id": "15c2c832-bb5d-462b-afb5-bccb8429b2e2",
   "metadata": {},
   "outputs": [
    {
     "name": "stdout",
     "output_type": "stream",
     "text": [
      "today is rainy weather and it is best for coding\n"
     ]
    },
    {
     "data": {
      "text/plain": [
       "'coding for best is it and weather rainy is today'"
      ]
     },
     "execution_count": 78,
     "metadata": {},
     "output_type": "execute_result"
    }
   ],
   "source": [
    "# for executing this querry, str_20 can be used.\n",
    "# Priinting str_20 first\n",
    "print(str_20)\n",
    "\n",
    "\n",
    "# for reversing the order of the string, split() operation can be used \n",
    "# for reversing, the starting index will be -1, jump index will be -1\n",
    "# the outcome of the program stored into str_24\n",
    "str_24 = str_20.split()[::-1]\n",
    "\n",
    "\n",
    "# printing str_24\n",
    "str_24\n",
    "\n",
    "\n",
    "# changing list to string and stored into str_25\n",
    "str_25 = \" \".join(str_24)\n",
    "\n",
    "\n",
    "# printing str_25\n",
    "str_25"
   ]
  },
  {
   "cell_type": "code",
   "execution_count": null,
   "id": "979af10d-c495-4e8e-9a2e-86f1f9241126",
   "metadata": {},
   "outputs": [],
   "source": []
  },
  {
   "cell_type": "markdown",
   "id": "61f54ae5-573e-4143-8dce-531efccad40e",
   "metadata": {},
   "source": [
    "# Question 23"
   ]
  },
  {
   "cell_type": "markdown",
   "id": "bc45c0dd-3a6e-4034-b770-5de52434968b",
   "metadata": {},
   "source": [
    "Check if a string is alphanumeric"
   ]
  },
  {
   "cell_type": "code",
   "execution_count": 80,
   "id": "896bd09e-b296-4ea0-bf1a-20350d49b254",
   "metadata": {},
   "outputs": [
    {
     "name": "stdout",
     "output_type": "stream",
     "text": [
      "today is rainy weather and it is best for coding\n"
     ]
    },
    {
     "data": {
      "text/plain": [
       "True"
      ]
     },
     "execution_count": 80,
     "metadata": {},
     "output_type": "execute_result"
    }
   ],
   "source": [
    "# for this question isalnum() function can be used. \n",
    "# for executing this operation, str_20 is taken\n",
    "# printing the str_20\n",
    "print(str_20)\n",
    "\n",
    "\n",
    "# if the string is alphanumeric it means if the string have alphabets as well as numbers, it will show True. \n",
    "#if the string does not have the alphanumeric value, it will show False\n",
    "str_20.isalnum()\n",
    "\n",
    "\n",
    "# we can perform this function with another string to show the function works properly or not\n",
    "# this time we'll take an alphanumeric string.\n",
    "str_26 = \"dibyendu101\"\n",
    "\n",
    "\n",
    "\n",
    "# checking the above string is alphanumeric or not\n",
    "str_26.isalnum()"
   ]
  },
  {
   "cell_type": "code",
   "execution_count": null,
   "id": "798a9ffa-58e7-4257-a9d9-0a3c9644af21",
   "metadata": {},
   "outputs": [],
   "source": []
  },
  {
   "cell_type": "markdown",
   "id": "edfd192b-20f2-44d1-b672-a3f6cde1b5ed",
   "metadata": {},
   "source": [
    "# Question 24"
   ]
  },
  {
   "cell_type": "markdown",
   "id": "05ff03c4-a7e4-4a5a-ba4d-15e40fd693bd",
   "metadata": {},
   "source": [
    "Extract all digits from a string"
   ]
  },
  {
   "cell_type": "code",
   "execution_count": 81,
   "id": "d599f154-abfe-421b-99c2-6d93b6c3bfc0",
   "metadata": {},
   "outputs": [
    {
     "name": "stdout",
     "output_type": "stream",
     "text": [
      "The numbers available in the string is : [2]\n"
     ]
    }
   ],
   "source": [
    "# we take a string for performing this question\n",
    "str_27 = \"it's been 2 days, the weather condition is not good.\"\n",
    "\n",
    "\n",
    "# for performing this operation, for loop can be used. \n",
    "# string splitting can be used for extracting the integer in the string.\n",
    "num = [int(i) for i in str_27.split() if i.isdigit()]\n",
    "\n",
    "\n",
    "# first split the string and then execute int(i) for int value in string 27\n",
    "# isdigit() is used for extracting the digit from the string and stored into num variable\n",
    "# now printing the num variable\n",
    "print(\"The numbers available in the string is : \" + str(num))"
   ]
  },
  {
   "cell_type": "code",
   "execution_count": null,
   "id": "097d16f4-6dc2-4bf2-b738-f5bf519d246c",
   "metadata": {},
   "outputs": [],
   "source": []
  },
  {
   "cell_type": "markdown",
   "id": "677bf1d5-03a5-461e-9110-abfeb125875d",
   "metadata": {},
   "source": [
    "# Question 25"
   ]
  },
  {
   "cell_type": "markdown",
   "id": "058038e7-9097-4ce8-8430-9cc83ad85fb5",
   "metadata": {},
   "source": [
    "Extract all alphabets from a string"
   ]
  },
  {
   "cell_type": "code",
   "execution_count": 82,
   "id": "bd00ea08-4d0d-41ef-907d-d089f66c7b65",
   "metadata": {},
   "outputs": [
    {
     "name": "stdout",
     "output_type": "stream",
     "text": [
      "it's been 2 days, the weather condition is not good.\n",
      "the extracted alphabets are : ['i', 't', 's', 'b', 'e', 'e', 'n', 'd', 'a', 'y', 's', 't', 'h', 'e', 'w', 'e', 'a', 't', 'h', 'e', 'r', 'c', 'o', 'n', 'd', 'i', 't', 'i', 'o', 'n', 'i', 's', 'n', 'o', 't', 'g', 'o', 'o', 'd']\n"
     ]
    }
   ],
   "source": [
    "# extracting alphabet from a string\n",
    "# this question can be sloved by using isalpha() and list comprehension\n",
    "# first we use a string in which th code can be implemented\n",
    "# we can use str_27 string\n",
    "print(str_27)\n",
    "\n",
    "\n",
    "# creating an empty list for store the alphabets\n",
    "alpha = []\n",
    "\n",
    "\n",
    "# now iterating through the string and checking each character from the string whether it is an alphabet or not.\n",
    "# for loop can be used for this scenario\n",
    "for character in str_27:\n",
    "    if character.isalpha():\n",
    "        alpha.append(character)\n",
    "        \n",
    "# now printing the extracted alphabets\n",
    "print(\"the extracted alphabets are :\", alpha)"
   ]
  },
  {
   "cell_type": "code",
   "execution_count": null,
   "id": "fc2a7d23-a429-4c68-88e0-3e5aef033d31",
   "metadata": {},
   "outputs": [],
   "source": []
  },
  {
   "cell_type": "markdown",
   "id": "924f1eef-84b5-4d76-8ef3-908bb1ed7347",
   "metadata": {},
   "source": [
    "# Question 26"
   ]
  },
  {
   "cell_type": "markdown",
   "id": "325ab5ae-2c30-4db3-9630-d655b10271a1",
   "metadata": {},
   "source": [
    "Count the number of uppercase letters in a string"
   ]
  },
  {
   "cell_type": "code",
   "execution_count": 84,
   "id": "956ce8d4-ccce-43f5-8322-46dc6422affe",
   "metadata": {},
   "outputs": [
    {
     "name": "stdout",
     "output_type": "stream",
     "text": [
      "it's been 2 days, the weather condition is not good.\n",
      "10\n"
     ]
    }
   ],
   "source": [
    "# for this question, str_27 can be used.\n",
    "# first we need to use title() function on the string for getting upper case and stored it into str_28\n",
    "print(str_27)\n",
    "\n",
    "# using title() function \n",
    "str_28 = str_27.title()\n",
    "\n",
    "# printing string \n",
    "str_28\n",
    "\n",
    "\n",
    "# for this query, sum() function can be used for determining total uppercase available in a string\n",
    "# for uppercase, string.isupper() function can be used. map() function can also used in this scenario.\n",
    "#map() function Make an iterator that computes the function using arguments from each of the iterables. \n",
    "# map() function stops when the shortest iterable is exhausted\n",
    "# this program stored in new variable named str_29\n",
    "str_29 = sum(map(str.isupper, str_28))\n",
    "\n",
    "\n",
    "# printing the str_29 variable for getting the result\n",
    "print(str_29)"
   ]
  },
  {
   "cell_type": "code",
   "execution_count": null,
   "id": "d3e37db5-9d3e-473e-ac10-8dca953ecad8",
   "metadata": {},
   "outputs": [],
   "source": []
  },
  {
   "cell_type": "markdown",
   "id": "817dbb64-d592-4d07-8ee8-c44d2219d2f6",
   "metadata": {},
   "source": [
    "# Question 27"
   ]
  },
  {
   "cell_type": "markdown",
   "id": "a46c2153-881f-4737-b328-83b1a1ca50ca",
   "metadata": {},
   "source": [
    "Count the number of lowercase letters in a string"
   ]
  },
  {
   "cell_type": "code",
   "execution_count": 86,
   "id": "b6f94e4f-8238-4c29-b36c-da655c3f5fce",
   "metadata": {},
   "outputs": [
    {
     "name": "stdout",
     "output_type": "stream",
     "text": [
      "It'S Been 2 Days, The Weather Condition Is Not Good.\n",
      "29\n"
     ]
    }
   ],
   "source": [
    "# for performing this operation, str_28 can be used\n",
    "# printing str_28\n",
    "print(str_28)\n",
    "\n",
    "\n",
    "# for this query, sum() function can be used for determining total lowercase available in a string\n",
    "# for lowercase, string.islower() function can be used. map() function can also used in this scenario.\n",
    "#map() function Make an iterator that computes the function using arguments from each of the iterables. \n",
    "# map() function stops when the shortest iterable is exhausted\n",
    "# this program stored in new variable named str_30\n",
    "str_30 = sum(map(str.islower, str_28))\n",
    "\n",
    "# printing the str_30 variable for getting the result\n",
    "print(str_30)"
   ]
  },
  {
   "cell_type": "code",
   "execution_count": null,
   "id": "c6e46a59-ff5e-4ce2-9b76-018a5b991c20",
   "metadata": {},
   "outputs": [],
   "source": []
  },
  {
   "cell_type": "markdown",
   "id": "a174c90b-c7a3-44cb-898f-771645a10ac4",
   "metadata": {},
   "source": [
    "# Question 28"
   ]
  },
  {
   "cell_type": "markdown",
   "id": "c936443a-1241-4b94-9e0e-732f02c17107",
   "metadata": {},
   "source": [
    "Swap the case of each character in a string"
   ]
  },
  {
   "cell_type": "code",
   "execution_count": 88,
   "id": "e5f639e1-2411-4a36-bc86-c5990a56a92d",
   "metadata": {},
   "outputs": [
    {
     "name": "stdout",
     "output_type": "stream",
     "text": [
      "It'S Been 2 Days, The Weather Condition Is Not Good.\n",
      "iT's bEEN 2 dAYS, tHE wEATHER cONDITION iS nOT gOOD.\n"
     ]
    }
   ],
   "source": [
    "# for performing this program, swapcase() function can be used. \n",
    "# swapcase() function converts uppercase character into lowercase and vice versa of the string. \n",
    "# we can use str_28 and perform swapcase() function over it\n",
    "# printing the str_28\n",
    "print(str_28)\n",
    "\n",
    "\n",
    "# the ooutput stored into another variable named str_31\n",
    "str_31 = str_28.swapcase()\n",
    "\n",
    "\n",
    "# now printing str_31 to get the result\n",
    "print(str_31)\n"
   ]
  },
  {
   "cell_type": "code",
   "execution_count": null,
   "id": "6fd8e01c-9ec8-4eb2-8566-b919d0f8ce2d",
   "metadata": {},
   "outputs": [],
   "source": []
  },
  {
   "cell_type": "markdown",
   "id": "a615f4bb-41ed-4709-bbd9-489eef2e12aa",
   "metadata": {},
   "source": [
    "# Question 29"
   ]
  },
  {
   "cell_type": "markdown",
   "id": "3bdc936e-45bc-4c7a-ba4d-242c48ba775d",
   "metadata": {},
   "source": [
    "Remove a specific word from a string"
   ]
  },
  {
   "cell_type": "code",
   "execution_count": 90,
   "id": "dd0997f7-714a-40db-9e83-9431466d287c",
   "metadata": {},
   "outputs": [
    {
     "name": "stdout",
     "output_type": "stream",
     "text": [
      "It'S Been 2 Days, The Weather Condition Is Not Good.\n"
     ]
    },
    {
     "data": {
      "text/plain": [
       "\"It'S Been 2 Days, The Weather Condition Is Good.\""
      ]
     },
     "execution_count": 90,
     "metadata": {},
     "output_type": "execute_result"
    }
   ],
   "source": [
    "# this query can be executed by using replace() function. \n",
    "# first we need a string, here str_28 can be used.\n",
    "print(str_28)\n",
    "\n",
    "\n",
    "# replace() function is used to remove \"Not\" word from the string. \n",
    "str_28.replace(\"Not \", \"\")"
   ]
  },
  {
   "cell_type": "code",
   "execution_count": null,
   "id": "6c48b358-5687-403b-acf4-15b1827e0deb",
   "metadata": {},
   "outputs": [],
   "source": []
  },
  {
   "cell_type": "markdown",
   "id": "d5f6cdab-6b58-4da7-b150-fc9b95b4085f",
   "metadata": {},
   "source": [
    "# Question 30"
   ]
  },
  {
   "cell_type": "markdown",
   "id": "12e3083e-6f9e-4d37-90ae-49c6e8a396e3",
   "metadata": {},
   "source": [
    "Check if a string is a valid email address"
   ]
  },
  {
   "cell_type": "code",
   "execution_count": 91,
   "id": "f1e71a29-f4e4-40fe-9741-a050e98c94ab",
   "metadata": {},
   "outputs": [
    {
     "name": "stdout",
     "output_type": "stream",
     "text": [
      "example@email.com is a valid email address.\n"
     ]
    }
   ],
   "source": [
    "# this querry can be implemented by using email module\n",
    "\n",
    "from email.utils import parseaddr\n",
    "def is_valid_email(email):\n",
    "    # parseaddr function allows to split the email adress into name and adress parts\n",
    "    name, address = parseaddr(email)\n",
    "    \n",
    "    if \"@\" in address and \".\" in address:\n",
    "        return True\n",
    "    return False\n",
    "    # checking if the adress part have @ and . then the email adress is vaild\n",
    "    # if don't have then the email address is not valid\n",
    "    \n",
    "# print execution and testing the code\n",
    "\n",
    "email = \"example@email.com\"\n",
    "if is_valid_email(email):\n",
    "    print(f\"{email} is a valid email address.\")\n",
    "else:\n",
    "    print(f\"{email} is not a valid email address.\")"
   ]
  },
  {
   "cell_type": "code",
   "execution_count": null,
   "id": "5eeef38d-6120-432e-8ff0-617328308d3e",
   "metadata": {},
   "outputs": [],
   "source": []
  },
  {
   "cell_type": "markdown",
   "id": "f2c6b786-f1d3-45d7-bc2d-4825ee6f2bc8",
   "metadata": {},
   "source": [
    "# Question 31"
   ]
  },
  {
   "cell_type": "markdown",
   "id": "b2a3c217-2045-467c-8552-62b10dc61866",
   "metadata": {},
   "source": [
    "Extract the username from an email address string"
   ]
  },
  {
   "cell_type": "code",
   "execution_count": 92,
   "id": "be6ba73f-40c7-4275-a9c8-4b4a89e244e4",
   "metadata": {},
   "outputs": [
    {
     "name": "stdout",
     "output_type": "stream",
     "text": [
      "example\n"
     ]
    }
   ],
   "source": [
    "# this query can be extracted by using split() function\n",
    "# we can split the entire email address into username and domain \n",
    "# username will be before @ character and domain will be after @ character and 0 index value will be username\n",
    "# we take example@gmail.com as our email address\n",
    "email = \"example@gmail.com\"\n",
    "\n",
    "\n",
    "# after splitting, username stored into username variable and print the variable to get the desired outcome\n",
    "username = email.split('@')[0]\n",
    "print(username)"
   ]
  },
  {
   "cell_type": "code",
   "execution_count": null,
   "id": "d53e606d-07fd-4f2d-a947-45776e59ab65",
   "metadata": {},
   "outputs": [],
   "source": []
  },
  {
   "cell_type": "markdown",
   "id": "94241be8-d3a2-4e99-9744-43c3d53bf47b",
   "metadata": {},
   "source": [
    "# Question 32"
   ]
  },
  {
   "cell_type": "markdown",
   "id": "02326589-4306-48ad-b4d0-43d47aa50194",
   "metadata": {},
   "source": [
    "Extract the domain name from an email address string"
   ]
  },
  {
   "cell_type": "code",
   "execution_count": 94,
   "id": "d2366de0-a1a4-4548-9336-f148b94ec132",
   "metadata": {},
   "outputs": [
    {
     "name": "stdout",
     "output_type": "stream",
     "text": [
      "gmail.com\n"
     ]
    }
   ],
   "source": [
    "# this query can be extracted by using split() function\n",
    "# we can split the entire email address into username and domain \n",
    "# username will be before @ character and domain will be after @ character and 1 index value will be username\n",
    "# we take example@gmail.com as our email address\n",
    "email = \"example@gmail.com\"\n",
    "\n",
    "\n",
    "# after splitting, domain name stored into domain variable and print the variable to get the desired outcome\n",
    "domain = email.split('@')[1]\n",
    "print(domain)"
   ]
  },
  {
   "cell_type": "code",
   "execution_count": null,
   "id": "603843a8-356f-41e7-b786-e8b72be79a3c",
   "metadata": {},
   "outputs": [],
   "source": []
  },
  {
   "cell_type": "markdown",
   "id": "a24ad618-1823-4e27-a958-541928f3a951",
   "metadata": {},
   "source": [
    "# Question 33"
   ]
  },
  {
   "cell_type": "markdown",
   "id": "74c2d154-7909-4110-bc55-57bb3eb71eb7",
   "metadata": {},
   "source": [
    "Replace multiple spaces in a string with a single space"
   ]
  },
  {
   "cell_type": "code",
   "execution_count": 96,
   "id": "edfcb793-2cf4-48ae-a9bd-178f49b95558",
   "metadata": {},
   "outputs": [
    {
     "name": "stdout",
     "output_type": "stream",
     "text": [
      "This   is    a   string   having   multiple   spaces    in     one      sentence.\n",
      "This is a string having multiple spaces in one sentence.\n"
     ]
    }
   ],
   "source": [
    "# we take a string value with multiple spaces to perform this operation\n",
    "string = \"This   is    a   string   having   multiple   spaces    in     one      sentence.\"\n",
    "\n",
    "# printing the 'string'\n",
    "print(string)\n",
    "\n",
    "\n",
    "# split() operation splits the string into words and removes multiple spaces present on the string\n",
    "split_str = string.split()\n",
    "\n",
    "# using join() function which  joins the words together with a single space and make a new string and stored into str_32\n",
    "str_32 = ' '.join(split_str)\n",
    "print(str_32)"
   ]
  },
  {
   "cell_type": "code",
   "execution_count": null,
   "id": "5ead6961-1204-497e-b7ad-76ba4f2760de",
   "metadata": {},
   "outputs": [],
   "source": []
  },
  {
   "cell_type": "markdown",
   "id": "6349df79-783f-4c37-a651-3bc35f8bdf04",
   "metadata": {},
   "source": [
    "# Question 34"
   ]
  },
  {
   "cell_type": "markdown",
   "id": "a96e2ffd-63fb-4933-b395-3d8ec52c51f8",
   "metadata": {},
   "source": [
    "Check if a string is a valid URL"
   ]
  },
  {
   "cell_type": "code",
   "execution_count": 98,
   "id": "af1786fd-b18c-44ed-8b0a-1d1286134081",
   "metadata": {},
   "outputs": [
    {
     "name": "stdout",
     "output_type": "stream",
     "text": [
      "https://www.google.com is valid url.\n"
     ]
    }
   ],
   "source": [
    "# for executing the question, importing urlparse from urllib.parse module can be used. \n",
    "from urllib.parse import urlparse\n",
    "\n",
    "\n",
    "# using this urllib module, user define function can be created.\n",
    "def is_valid_url(url):\n",
    "    try:\n",
    "        result = urlparse(url)\n",
    "        return all([result.scheme, result.netloc])\n",
    "    except ValueError:\n",
    "        return False\n",
    "    \n",
    "\n",
    "#example usage of url.\n",
    "# here in url variable we can place the URL and check whether the URL is valid or not\n",
    "url = \"https://www.google.com\"\n",
    "\n",
    "\n",
    "# executing print whether the url is valid or not\n",
    "if is_valid_url(url):\n",
    "    print(f\"{url} is valid url.\")\n",
    "else:\n",
    "    print(f\"{url} is invalid url.\")"
   ]
  },
  {
   "cell_type": "code",
   "execution_count": null,
   "id": "96c7711e-79cd-476e-ae58-346f98c22edd",
   "metadata": {},
   "outputs": [],
   "source": []
  },
  {
   "cell_type": "markdown",
   "id": "9ed0a982-9551-4e53-aae9-ba486eac4e65",
   "metadata": {},
   "source": [
    "# Question 35"
   ]
  },
  {
   "cell_type": "markdown",
   "id": "fc1cb0b8-860c-42f5-b6ea-c8426bb27dcb",
   "metadata": {},
   "source": [
    "Extract the protocol (http or https) from a URL string"
   ]
  },
  {
   "cell_type": "code",
   "execution_count": 99,
   "id": "9833a85a-9da3-4db1-acd0-cbe35a121ed8",
   "metadata": {},
   "outputs": [
    {
     "name": "stdout",
     "output_type": "stream",
     "text": [
      "The protocol of the URL is: https\n"
     ]
    }
   ],
   "source": [
    "# for executing the question, importing urlparse from urllib.parse module can be used. \n",
    "from urllib.parse import urlparse\n",
    "\n",
    "# using urllib module extract_protocol user defined function created and code implemented\n",
    "def extract_protocol(url):\n",
    "    parsed_url = urlparse(url)\n",
    "    if parsed_url.scheme:\n",
    "        return parsed_url.scheme\n",
    "    else:\n",
    "        return \"No protocol specified\"\n",
    "    \n",
    "    \n",
    "    \n",
    "# Example usage\n",
    "# here in url variable we can place the url and check what is the protocol of the url\n",
    "url = \"https://www.google.com\"\n",
    "protocol = extract_protocol(url)\n",
    "print(f\"The protocol of the URL is: {protocol}\")"
   ]
  },
  {
   "cell_type": "code",
   "execution_count": null,
   "id": "251e7668-4a1e-44c7-9008-92da7d79d3b8",
   "metadata": {},
   "outputs": [],
   "source": []
  },
  {
   "cell_type": "markdown",
   "id": "ee977cf5-afa1-4b16-9bc0-775f239b85b3",
   "metadata": {},
   "source": [
    "# Question 36"
   ]
  },
  {
   "cell_type": "markdown",
   "id": "f7565cae-bfe4-4089-b416-a810ec616c9a",
   "metadata": {},
   "source": [
    "Find the frequency of each character in a string"
   ]
  },
  {
   "cell_type": "code",
   "execution_count": 100,
   "id": "9211020b-94c6-4543-ad63-687e34b38b2b",
   "metadata": {},
   "outputs": [
    {
     "name": "stdout",
     "output_type": "stream",
     "text": [
      " the frequency of each character of a string is: {'d': 1, 'p': 1, 'h': 2, 'v': 1, ' ': 6, 'l': 3, 'r': 1, 'o': 6, 'n': 3, 'i': 1, 'e': 6, 't': 2, 'g': 1, 'y': 2, 'w': 1, 'm': 1, 'c': 2}\n"
     ]
    }
   ],
   "source": [
    "# first we need a string to execute the coding\n",
    "str_30 = \" hello everyone welcome to python coding\"\n",
    "\n",
    "\n",
    "# this question can be answered by using set() function and count() function.\n",
    "count_char ={i: str_30.count(i) for i in set(str_30)}\n",
    "\n",
    "\n",
    "# now printing the result\n",
    "print(\" the frequency of each character of a string is:\", str(count_char))\n",
    "\n"
   ]
  },
  {
   "cell_type": "code",
   "execution_count": null,
   "id": "486855cc-bcbc-45ab-9e35-39b7a7be1c35",
   "metadata": {},
   "outputs": [],
   "source": []
  },
  {
   "cell_type": "markdown",
   "id": "e05b87ca-6485-4063-afa2-b58bf9775570",
   "metadata": {},
   "source": [
    "# Question 37"
   ]
  },
  {
   "cell_type": "markdown",
   "id": "4a121dda-a6aa-40d6-aec9-5230c09a433c",
   "metadata": {},
   "source": [
    "Remove all punctuation from a string"
   ]
  },
  {
   "cell_type": "code",
   "execution_count": 101,
   "id": "90bdadea-e1d2-43b8-b7b2-52e246939b28",
   "metadata": {},
   "outputs": [
    {
     "name": "stdout",
     "output_type": "stream",
     "text": [
      "Hello everyone good morning  lets do some  coding \n"
     ]
    }
   ],
   "source": [
    "# first we need a string with punctuation\n",
    "str_31 = \"Hello, everyone. good@ morning$  lets: do some ! coding ;\"\n",
    "\n",
    "\n",
    "# importing string for executing this command\n",
    "import string\n",
    "\n",
    "\n",
    "# translate() function replace each character in the string using given translation table.\n",
    "# marketrans() function returns a translation table usable for str.translate()\n",
    "# punctuation() function is a collection of string constants\n",
    "# using these function, we can easily remove all the punctuation from a string\n",
    "str_32 = str_31.translate(str.maketrans('', '', string.punctuation))\n",
    "print(str_32)"
   ]
  },
  {
   "cell_type": "code",
   "execution_count": null,
   "id": "45462b33-a7e8-4e26-a1b9-e6294a9cf665",
   "metadata": {},
   "outputs": [],
   "source": []
  },
  {
   "cell_type": "markdown",
   "id": "dbd6e3f9-546c-4e16-9e87-4ad6a7bc5a7e",
   "metadata": {},
   "source": [
    "# Question 38"
   ]
  },
  {
   "cell_type": "markdown",
   "id": "f05b36e2-c404-41b5-8def-d009ca62f8cc",
   "metadata": {},
   "source": [
    "Check if a string contains only digits"
   ]
  },
  {
   "cell_type": "code",
   "execution_count": 102,
   "id": "6e3c28b1-b81b-495d-a7a0-28b49ecf89ec",
   "metadata": {},
   "outputs": [
    {
     "name": "stdout",
     "output_type": "stream",
     "text": [
      " this string does not have only digits\n"
     ]
    }
   ],
   "source": [
    "# we can use a string as we need a string to perform this operation\n",
    "# this query can be obtained by using string.isdigit() function\n",
    "str_33 = \" this is a string which have only alphabets\"\n",
    "\n",
    "\n",
    "# if else function can be used in this case\n",
    "if str_32.isdigit():\n",
    "    print(\" this string contains only digits\")\n",
    "else:\n",
    "    print(\" this string does not have only digits\")"
   ]
  },
  {
   "cell_type": "code",
   "execution_count": null,
   "id": "49256b7e-3fcf-4b8c-b5f1-4132058498be",
   "metadata": {},
   "outputs": [],
   "source": []
  },
  {
   "cell_type": "markdown",
   "id": "9369236c-a7e5-4dfa-a909-ad6d63359a53",
   "metadata": {},
   "source": [
    "# Question 39"
   ]
  },
  {
   "cell_type": "markdown",
   "id": "118d9e83-f108-435a-a4d1-378887856e50",
   "metadata": {},
   "source": [
    "Check if a string contains only alphabets"
   ]
  },
  {
   "cell_type": "code",
   "execution_count": 103,
   "id": "467d2811-4612-4b0f-898d-ad0f8526b5c0",
   "metadata": {},
   "outputs": [
    {
     "name": "stdout",
     "output_type": "stream",
     "text": [
      "Given string does not contain only alphabets.\n"
     ]
    }
   ],
   "source": [
    "# we can use str_33 here also\n",
    "# this query can be obtained by using string.isalpha() function\n",
    "\n",
    "str_33 = \" this is a string which have only alphabets\"\n",
    "\n",
    "\n",
    "# if-else statemnt can be used in this case\n",
    "\n",
    "if str_33.isalpha():\n",
    "    print('Given string contains only alphabets.')\n",
    "else:\n",
    "    print('Given string does not contain only alphabets.')"
   ]
  },
  {
   "cell_type": "code",
   "execution_count": null,
   "id": "eaab337e-0750-4834-bfd1-2c0bd445cb6c",
   "metadata": {},
   "outputs": [],
   "source": []
  },
  {
   "cell_type": "markdown",
   "id": "4cb56d75-f899-4755-8d00-e70364edb301",
   "metadata": {},
   "source": [
    "# Question 40"
   ]
  },
  {
   "cell_type": "markdown",
   "id": "5cc3a251-885b-442b-8949-22dd08e45e14",
   "metadata": {},
   "source": [
    "Convert a string to a list of characters."
   ]
  },
  {
   "cell_type": "code",
   "execution_count": 105,
   "id": "bda18982-dda8-46f7-805d-cd2f33b5b2ab",
   "metadata": {},
   "outputs": [
    {
     "name": "stdout",
     "output_type": "stream",
     "text": [
      " this is a string which have only alphabets\n",
      "[' ', 't', 'h', 'i', 's', ' ', 'i', 's', ' ', 'a', ' ', 's', 't', 'r', 'i', 'n', 'g', ' ', 'w', 'h', 'i', 'c', 'h', ' ', 'h', 'a', 'v', 'e', ' ', 'o', 'n', 'l', 'y', ' ', 'a', 'l', 'p', 'h', 'a', 'b', 'e', 't', 's']\n"
     ]
    }
   ],
   "source": [
    "# we can take str_33 and perform this operration\n",
    "# printing str_33\n",
    "\n",
    "print(str_33)\n",
    "\n",
    "\n",
    "# converted string to a list is stored into another variable (lets say str_34)\n",
    "str_34 = list(str_33)\n",
    "\n",
    "\n",
    "# printing the value\n",
    "print(str_34)"
   ]
  },
  {
   "cell_type": "code",
   "execution_count": null,
   "id": "e79a83d6-6f21-4a19-9e9d-2d7a57e6c490",
   "metadata": {},
   "outputs": [],
   "source": []
  },
  {
   "cell_type": "markdown",
   "id": "867a20d8-be96-4202-82c1-aa573b7f457c",
   "metadata": {},
   "source": [
    "# Question 41"
   ]
  },
  {
   "cell_type": "code",
   "execution_count": 106,
   "id": "532ce9ae-c516-47a6-807e-80e398143c90",
   "metadata": {},
   "outputs": [
    {
     "name": "stdout",
     "output_type": "stream",
     "text": [
      " Tom Marvolo Riddle and  I am Lord Voldemort are in anagram format\n"
     ]
    }
   ],
   "source": [
    "# anagram of a string is another string which have the same character but the order of the character will be different.\n",
    "# in this scenario, we need two string which have the same character\n",
    "str_35 = \" Tom Marvolo Riddle\"\n",
    "str_36 = \" I am Lord Voldemort\"\n",
    "\n",
    "\n",
    "# defining an user define function for executing this code\n",
    "# first we need to remove all the spaces from the string and make the string in lowercase\n",
    "def are_anagrams(str_35, str_36):\n",
    "    str_35 = str_35.replace(\" \",\"\").lower()\n",
    "    str_36 = str_36.replace(\" \",\"\").lower()\n",
    "    return sorted(str_35) == sorted(str_36)\n",
    "\n",
    "\n",
    "# sorting the characters from both strings and compare between them.\n",
    "# executing program\n",
    "if are_anagrams(str_35, str_36):\n",
    "    print(f\"{str_35} and {str_36} are in anagram format\")\n",
    "else:\n",
    "    print(f\"{str_35} and {str_36} are not in anagram format\")"
   ]
  },
  {
   "cell_type": "code",
   "execution_count": null,
   "id": "9ddfcb3a-fa51-4b40-bc08-4519ae18c0d0",
   "metadata": {},
   "outputs": [],
   "source": []
  },
  {
   "cell_type": "markdown",
   "id": "dedb7b79-7b6e-4584-9bae-83022ef1ff01",
   "metadata": {},
   "source": [
    "# Question 42"
   ]
  },
  {
   "cell_type": "markdown",
   "id": "7f4e8f1b-8619-4a6d-aca0-04b1e6226a0c",
   "metadata": {},
   "source": [
    "Encode a string using a Caesar cipher"
   ]
  },
  {
   "cell_type": "code",
   "execution_count": null,
   "id": "7622021c-b4f9-4bea-b5fa-b7fadf7a50bd",
   "metadata": {},
   "outputs": [],
   "source": []
  },
  {
   "cell_type": "code",
   "execution_count": null,
   "id": "0e4c435d-b224-4b89-85fe-ee75222d51aa",
   "metadata": {},
   "outputs": [],
   "source": []
  },
  {
   "cell_type": "code",
   "execution_count": null,
   "id": "38f2b709-212e-4afa-a6af-36652dbf39ba",
   "metadata": {},
   "outputs": [],
   "source": []
  },
  {
   "cell_type": "markdown",
   "id": "a26b4271-e08f-4958-87f8-81dc1ed90407",
   "metadata": {},
   "source": [
    "# Question 43"
   ]
  },
  {
   "cell_type": "markdown",
   "id": "c12baf74-1a2b-47b4-a0d5-87fc3f301533",
   "metadata": {},
   "source": [
    "Decode a Caesar cipher encoded string."
   ]
  },
  {
   "cell_type": "code",
   "execution_count": null,
   "id": "4f0320f6-2ae2-4a6d-99be-7d88549eaa33",
   "metadata": {},
   "outputs": [],
   "source": []
  },
  {
   "cell_type": "code",
   "execution_count": null,
   "id": "c2d3a944-7402-47d5-963d-d6fac5c96f12",
   "metadata": {},
   "outputs": [],
   "source": []
  },
  {
   "cell_type": "code",
   "execution_count": null,
   "id": "721ef214-927a-4ace-bb7b-b937caf72afe",
   "metadata": {},
   "outputs": [],
   "source": []
  },
  {
   "cell_type": "markdown",
   "id": "78b81251-22d6-491e-84c8-a45de62ecb30",
   "metadata": {},
   "source": [
    "# Question 44"
   ]
  },
  {
   "cell_type": "markdown",
   "id": "d6e11f0d-2311-4b16-adfb-43c14eea0631",
   "metadata": {},
   "source": [
    "Find the most frequent word in a string"
   ]
  },
  {
   "cell_type": "code",
   "execution_count": 108,
   "id": "d085d06a-abbe-4f78-86fe-2e0373f7b9ef",
   "metadata": {},
   "outputs": [
    {
     "name": "stdout",
     "output_type": "stream",
     "text": [
      "['I', 'am', 'dibyendu', 'chowdhury.', 'I', 'am', 'studing', 'from', 'pwskills.', 'I', 'think', 'this', 'is', 'the', 'best', 'platform', 'to', 'learn', 'data', 'science']\n",
      "Word with maximum frequency : I\n"
     ]
    }
   ],
   "source": [
    "# we can solve this question by using mode() function\n",
    "from statistics import mode\n",
    "\n",
    "# now initializing matrix\n",
    "str_36 = \"I am dibyendu chowdhury. I am studing from pwskills. I think this is the best platform to learn data science\"\n",
    "\n",
    "# making list from the string by word\n",
    "list_1 = list(str_36.split())\n",
    "\n",
    "# printing list_1\n",
    "print(list_1)\n",
    "\n",
    "# getting frequency mode() function can be used and stored into result variable\n",
    "result = mode(list_1)\n",
    "\n",
    "\n",
    "# printing the most frequent word\n",
    "print(\"Word with maximum frequency : \" + str(result))"
   ]
  },
  {
   "cell_type": "code",
   "execution_count": null,
   "id": "6192178f-10cc-49c9-aa10-ba401cfb29e0",
   "metadata": {},
   "outputs": [],
   "source": []
  },
  {
   "cell_type": "markdown",
   "id": "fdd7b06b-6ec1-4b51-8d73-04eee3014d31",
   "metadata": {},
   "source": [
    "# Question 45"
   ]
  },
  {
   "cell_type": "markdown",
   "id": "af8773c7-9330-4cd5-b9cb-af5bdc752aeb",
   "metadata": {},
   "source": [
    "Find all unique words in a string."
   ]
  },
  {
   "cell_type": "code",
   "execution_count": 3,
   "id": "20bd3d09-de5a-4e74-8440-eeb3ca78ffb1",
   "metadata": {},
   "outputs": [
    {
     "name": "stdout",
     "output_type": "stream",
     "text": [
      "we have one unique string. from this string, we have to find some unique words\n",
      "we\n",
      "from\n",
      "unique\n",
      "words\n",
      "to\n",
      "one\n",
      "find\n",
      "this\n",
      "string,\n",
      "some\n",
      "have\n",
      "string.\n"
     ]
    }
   ],
   "source": [
    "# first we need a string in which we will perform this operation\n",
    "str_38 = \"we have one unique string. from this string, we have to find some unique words\"\n",
    "\n",
    "# printing the string \n",
    "print(str_38)\n",
    "\n",
    "\n",
    "# splitting the string into list of words\n",
    "str_39 = list(str_38.split())\n",
    "\n",
    "\n",
    "# this list is further converted into set for removing any duplicate words\n",
    "str_40 = set(str_39)\n",
    "\n",
    "\n",
    "# we can use the for loop for executing.\n",
    "for word in str_40:\n",
    "    print(word)"
   ]
  },
  {
   "cell_type": "code",
   "execution_count": null,
   "id": "3c1fc58b-3d92-42f4-a3d3-1d569be79d31",
   "metadata": {},
   "outputs": [],
   "source": []
  },
  {
   "cell_type": "markdown",
   "id": "db1c9125-8375-4f17-be36-5cedbef39bcb",
   "metadata": {},
   "source": [
    "# Question 46"
   ]
  },
  {
   "cell_type": "markdown",
   "id": "b4fbc45d-97e9-4343-b194-f053810e5856",
   "metadata": {},
   "source": [
    "Count the number of syllables in a string."
   ]
  },
  {
   "cell_type": "code",
   "execution_count": 111,
   "id": "60028254-5c47-4b83-94db-052ffaa7413a",
   "metadata": {},
   "outputs": [
    {
     "name": "stdout",
     "output_type": "stream",
     "text": [
      "2\n"
     ]
    }
   ],
   "source": [
    "# an user-defined function created for executing this question\n",
    "# if else statement can be used in this scenario and multiple for loop will be needed for executing this program. \n",
    "\n",
    "def syllable_count(word):\n",
    "    word = word.lower() #to make all the word to lowercase\n",
    "    count = 0\n",
    "    vowels = \"aeiouyAEIOUY\" \n",
    "    if word[0] in vowels:\n",
    "        count += 1 #if vowels found, it will add 1 value\n",
    "    for i in range(1, len(word)): # starting from 1st and ending in last index\n",
    "        if word[i] in vowels and word[i - 1] not in vowels: \n",
    "            count += 1\n",
    "    if word.endswith(\"e\"): #if 'e' found in the string then it will also count 1 syllable\n",
    "        count -= 1\n",
    "    if count == 0:\n",
    "        count += 1\n",
    "    return count\n",
    "\n",
    "\n",
    "# printing syllables in a string\n",
    "\n",
    "print(syllable_count('HAIRY'))"
   ]
  },
  {
   "cell_type": "code",
   "execution_count": null,
   "id": "fd054b06-6c96-4868-9143-386e20819c1c",
   "metadata": {},
   "outputs": [],
   "source": []
  },
  {
   "cell_type": "markdown",
   "id": "797a0e4d-8502-4de5-8d62-ab519d24d9ec",
   "metadata": {},
   "source": [
    "# Question 47"
   ]
  },
  {
   "cell_type": "markdown",
   "id": "1e85e5a1-a3c0-4b72-81bd-492b9ffea701",
   "metadata": {},
   "source": [
    "Check if a string contains any special characters."
   ]
  },
  {
   "cell_type": "code",
   "execution_count": 112,
   "id": "e078e3eb-6ba9-4473-923d-29ef1e9edab3",
   "metadata": {},
   "outputs": [
    {
     "name": "stdout",
     "output_type": "stream",
     "text": [
      "this string does not have any special character\n"
     ]
    }
   ],
   "source": [
    "# to check any special character in a string, we can use for loop in this scenario. \n",
    "n = 'pwskills'\n",
    "\n",
    "\n",
    "# first we need to split the entire string\n",
    "n1 = n.split()\n",
    "\n",
    "\n",
    "# this question can be done by using for loop and if-else statement\n",
    "c = 0\n",
    "special_char= \"[@_!#$%^&*()<>?/\\|}{~:]\" # special character set \n",
    "for i in range(len(n1)): # for checking if the string have any kind of special character\n",
    "    if n[i] in special_char:\n",
    "        c += 1 # if any sopecial character is found then add 1 to c\n",
    "    \n",
    "if c:\n",
    "    print(\"string have some special character\") # of the value of c is greater than 0 then the string have some special character\n",
    "else:\n",
    "    print(\"this string does not have any special character\") # it the string does not have any special character then the value of c will be 0"
   ]
  },
  {
   "cell_type": "code",
   "execution_count": null,
   "id": "46016359-7641-4c41-b9ae-cc1a8193e921",
   "metadata": {},
   "outputs": [],
   "source": []
  },
  {
   "cell_type": "markdown",
   "id": "520547fe-c1cc-416f-8f33-80c253f1d271",
   "metadata": {},
   "source": [
    "# Question 48"
   ]
  },
  {
   "cell_type": "markdown",
   "id": "bafab540-b561-4973-aa61-392cfc4fc99f",
   "metadata": {},
   "source": [
    "Remove the nth word from a string"
   ]
  },
  {
   "cell_type": "code",
   "execution_count": 115,
   "id": "91c1facb-cc7b-44a9-8265-faba9284eaea",
   "metadata": {},
   "outputs": [
    {
     "name": "stdout",
     "output_type": "stream",
     "text": [
      "['this', 'is', 'the', 'string']\n",
      "this the string\n"
     ]
    }
   ],
   "source": [
    "# first we will need a string\n",
    "string = 'this is the string'\n",
    "\n",
    "\n",
    "# using split() function, this string can be splitted and stored into new variable\n",
    "n_string = string.split()\n",
    "\n",
    "\n",
    "# printing n_string\n",
    "print(n_string)\n",
    "\n",
    "\n",
    "# now removing the n'th string \n",
    "# in this case, removed 'is' from the string\n",
    "n_string.remove('is')\n",
    "\n",
    "\n",
    "# now printing the n_string in list format\n",
    "n_string_2 = ' '.join(n_string)\n",
    "\n",
    "\n",
    "# now printing the n_string_2\n",
    "print(n_string_2)"
   ]
  },
  {
   "cell_type": "code",
   "execution_count": null,
   "id": "5b098aaf-95e7-4f70-b5f0-b3d7b04adf90",
   "metadata": {},
   "outputs": [],
   "source": []
  },
  {
   "cell_type": "markdown",
   "id": "e28e7a15-a4a2-4438-931a-4769466f9c02",
   "metadata": {},
   "source": [
    "# Question 49"
   ]
  },
  {
   "cell_type": "markdown",
   "id": "37b588bb-e4bf-4615-b1ba-f6bd511055f3",
   "metadata": {},
   "source": [
    "Insert a word at the nth position in a string."
   ]
  },
  {
   "cell_type": "code",
   "execution_count": 117,
   "id": "85fdbd79-10f7-44a6-82b2-3c06d87af585",
   "metadata": {},
   "outputs": [
    {
     "name": "stdout",
     "output_type": "stream",
     "text": [
      "['this', 'is', 'the', 'string']\n"
     ]
    },
    {
     "data": {
      "text/plain": [
       "'this is the string'"
      ]
     },
     "execution_count": 117,
     "metadata": {},
     "output_type": "execute_result"
    }
   ],
   "source": [
    "# we can take n_string_2 as string \n",
    "n_string_2\n",
    "\n",
    "\n",
    "# splitting the string into list\n",
    "n_string_3 = n_string_2.split()\n",
    "n_string_3\n",
    "\n",
    "\n",
    "#inserting 'is' in the string\n",
    "n_string_3.insert(1,'is') # inserting value in the list\n",
    "\n",
    "\n",
    "# printing n_string_3\n",
    "print(n_string_3)\n",
    "\n",
    "\n",
    "# now joining the string\n",
    "\" \".join(n_string_3)\n"
   ]
  },
  {
   "cell_type": "code",
   "execution_count": null,
   "id": "7e8a0f2c-7f22-426d-9064-526ea4d3ece5",
   "metadata": {},
   "outputs": [],
   "source": []
  },
  {
   "cell_type": "markdown",
   "id": "64fdfacc-6889-4aec-87f2-86fdb2f28d03",
   "metadata": {},
   "source": [
    "# Question 50"
   ]
  },
  {
   "cell_type": "markdown",
   "id": "9b2f4148-1641-47c1-b64a-a1caf2bbca77",
   "metadata": {},
   "source": [
    "Convert a CSV string to a list of lists."
   ]
  },
  {
   "cell_type": "code",
   "execution_count": 118,
   "id": "f7ebd5e2-cf68-4ff5-8a46-446a6a0cb79b",
   "metadata": {},
   "outputs": [
    {
     "name": "stdout",
     "output_type": "stream",
     "text": [
      "['welcome', 'to', 'pwskills']\n"
     ]
    }
   ],
   "source": [
    "# CSV means comma separated values. \n",
    "# this question can be done by using split() function \n",
    "x = 'welcome,to,pwskills'\n",
    "\n",
    "\n",
    "y = x.split(',') # splitting string separated by comma\n",
    "\n",
    "# printing y as list\n",
    "print(list(y))"
   ]
  },
  {
   "cell_type": "code",
   "execution_count": null,
   "id": "291e92c9-c23c-4bd1-8b00-96945592e580",
   "metadata": {},
   "outputs": [],
   "source": []
  },
  {
   "cell_type": "code",
   "execution_count": null,
   "id": "5f60c0ed-6dfb-4efb-bffb-76a4a85a987c",
   "metadata": {},
   "outputs": [],
   "source": []
  },
  {
   "cell_type": "markdown",
   "id": "4f415006-5969-4c2d-b949-37f357ca076b",
   "metadata": {},
   "source": [
    "# List Based Practice Problem"
   ]
  },
  {
   "cell_type": "markdown",
   "id": "846af79a-d558-4471-a9b8-3ace21694665",
   "metadata": {},
   "source": [
    "# Question 1"
   ]
  },
  {
   "cell_type": "markdown",
   "id": "1537168a-3dc8-422c-a113-97f1e31a9b25",
   "metadata": {},
   "source": [
    "Create a list with integers from 1 to 10"
   ]
  },
  {
   "cell_type": "code",
   "execution_count": 8,
   "id": "97361667-2465-4721-9f56-bf0078b12665",
   "metadata": {},
   "outputs": [
    {
     "name": "stdout",
     "output_type": "stream",
     "text": [
      "<class 'list'>\n"
     ]
    }
   ],
   "source": [
    "# by using [] paranthesis, we make a list \n",
    "a = [1,2,3,4,5,6,7,8,9,10]\n",
    "\n",
    "\n",
    "print(type(a)) # printing the type of the list"
   ]
  },
  {
   "cell_type": "code",
   "execution_count": null,
   "id": "38913782-4b2f-442d-ba38-bcc07fe7a2fc",
   "metadata": {},
   "outputs": [],
   "source": []
  },
  {
   "cell_type": "markdown",
   "id": "2de3f9d2-88f6-4f2f-af75-70110f2e494b",
   "metadata": {},
   "source": [
    "# Question 2"
   ]
  },
  {
   "cell_type": "markdown",
   "id": "6ddd709d-2ab9-4090-970a-201cf28d91da",
   "metadata": {},
   "source": [
    "Find the length of a list without using the `len()` function"
   ]
  },
  {
   "cell_type": "code",
   "execution_count": 9,
   "id": "2fb157e7-30c1-451c-845d-965e32d8dbb4",
   "metadata": {},
   "outputs": [
    {
     "name": "stdout",
     "output_type": "stream",
     "text": [
      "['apple', 'banana', 'cherry', 'mango']\n"
     ]
    },
    {
     "data": {
      "text/plain": [
       "4"
      ]
     },
     "execution_count": 9,
     "metadata": {},
     "output_type": "execute_result"
    }
   ],
   "source": [
    "# make a new list for executing this command\n",
    "# this query can be done by using user defined function\n",
    "a1 = ['apple','banana','cherry','mango']\n",
    "\n",
    "\n",
    "# printing a1\n",
    "print(a1)\n",
    "\n",
    "\n",
    "def str_length(str1):\n",
    "    return sum(1 for char in str1) # we created user defind function str_length. \n",
    "#Using sum() function with typecasting for loop, this question can be answered. \n",
    "\n",
    "# printing the length of the list\n",
    "str_length(['apple','banana','cherry','mango'])"
   ]
  },
  {
   "cell_type": "code",
   "execution_count": null,
   "id": "7a484c5e-293e-48fd-91ed-5ab70a453f90",
   "metadata": {},
   "outputs": [],
   "source": []
  },
  {
   "cell_type": "markdown",
   "id": "91dc7cbb-494e-4d5a-8e36-5ed3f2f8e4e8",
   "metadata": {},
   "source": [
    "# Question 3"
   ]
  },
  {
   "cell_type": "markdown",
   "id": "9f8dbeeb-806b-4211-8456-7f50714f287a",
   "metadata": {},
   "source": [
    "Append an element to the end of a list."
   ]
  },
  {
   "cell_type": "code",
   "execution_count": 10,
   "id": "710077dc-886c-41c3-902e-ee5c2ba48339",
   "metadata": {},
   "outputs": [
    {
     "name": "stdout",
     "output_type": "stream",
     "text": [
      "['apple', 'banana', 'cherry', 'mango']\n",
      "['apple', 'banana', 'cherry', 'mango', 'guava']\n"
     ]
    }
   ],
   "source": [
    "# for executing this query, append() function can be used.\n",
    "# we can use a1 list for performing this \n",
    "# printing a1 first\n",
    "print(a1)\n",
    "\n",
    "\n",
    "a1.append('guava') # it will add guava at the and of the list and stored into a2 variable\n",
    "\n",
    "\n",
    "print(a1) # checking the list if properly executed or not"
   ]
  },
  {
   "cell_type": "code",
   "execution_count": null,
   "id": "e629a558-731a-4be6-946e-d13eca5c74fb",
   "metadata": {},
   "outputs": [],
   "source": []
  },
  {
   "cell_type": "markdown",
   "id": "9ebc0aad-fb56-46ab-8c5c-ada080a10700",
   "metadata": {},
   "source": [
    "# Question 4"
   ]
  },
  {
   "cell_type": "markdown",
   "id": "2e9526c6-61d4-4fb6-abdb-93e0048c79e7",
   "metadata": {},
   "source": [
    "Insert an element at a specific index in a list."
   ]
  },
  {
   "cell_type": "code",
   "execution_count": 12,
   "id": "b33eed0f-eb7c-439c-a5f6-4eff4c473cc8",
   "metadata": {},
   "outputs": [
    {
     "name": "stdout",
     "output_type": "stream",
     "text": [
      "['sunday', 'monday', 'tuesday', 'wednesday', 'friday', 'saturday']\n",
      "['sunday', 'monday', 'tuesday', 'wednesday', 'thursday', 'friday', 'saturday']\n"
     ]
    }
   ],
   "source": [
    "# for executing this answer, a list is needed. \n",
    "# we can make a list for answering this question\n",
    "a2 = ['sunday', 'monday', 'tuesday', 'wednesday', 'friday', 'saturday']\n",
    "\n",
    "\n",
    "# printing the list\n",
    "print(a2)\n",
    "\n",
    "\n",
    "# for inserting a value in the list, insert() function can be used\n",
    "\n",
    "a2.insert(4,'thursday') #inserting 'thursday' at 4th index position  \n",
    "\n",
    "print(a2) #printing the modified a2 list"
   ]
  },
  {
   "cell_type": "code",
   "execution_count": null,
   "id": "dbfc81cd-75bc-4c92-b72d-e85b2ed9f21a",
   "metadata": {},
   "outputs": [],
   "source": []
  },
  {
   "cell_type": "markdown",
   "id": "bae9d526-aba2-4e91-a79e-923971f8af11",
   "metadata": {},
   "source": [
    "# Question 5"
   ]
  },
  {
   "cell_type": "markdown",
   "id": "cb7bba90-7401-47c6-8055-0e5e39d9b30d",
   "metadata": {},
   "source": [
    "Remove an element from a list by its value."
   ]
  },
  {
   "cell_type": "code",
   "execution_count": 13,
   "id": "99bf7e9e-cef6-46a0-a2c4-eb0022de6b26",
   "metadata": {},
   "outputs": [
    {
     "name": "stdout",
     "output_type": "stream",
     "text": [
      "['sunday', 'monday', 'tuesday', 'wednesday', 'thursday', 'friday', 'saturday']\n",
      "['sunday', 'monday', 'wednesday', 'thursday', 'friday', 'saturday']\n"
     ]
    }
   ],
   "source": [
    "# in this scenario, the above a2 list can be used. \n",
    "# printing the a2 list\n",
    "print(a2)\n",
    "\n",
    "\n",
    "# for removing value, remove() function can be used. \n",
    "\n",
    "a2.remove('tuesday') # removing tuesday value from the list\n",
    "\n",
    "print(a2) # now printng the modified a2 list."
   ]
  },
  {
   "cell_type": "code",
   "execution_count": null,
   "id": "25a65c30-245d-4867-985c-3baacae79be1",
   "metadata": {},
   "outputs": [],
   "source": []
  },
  {
   "cell_type": "markdown",
   "id": "4f27c781-e17e-4f5e-8bea-6be6fe2a2705",
   "metadata": {},
   "source": [
    "# Question 6"
   ]
  },
  {
   "cell_type": "markdown",
   "id": "3439a55e-2831-409a-9045-d2cfc4f0f057",
   "metadata": {},
   "source": [
    "Remove an element from a list by its index."
   ]
  },
  {
   "cell_type": "code",
   "execution_count": 15,
   "id": "930afb0f-2fe6-4fec-95fe-26a586edf29f",
   "metadata": {},
   "outputs": [
    {
     "name": "stdout",
     "output_type": "stream",
     "text": [
      "['apple', 'banana', 'cherry', 'mango', 'guava']\n",
      "['apple', 'banana', 'mango', 'guava']\n"
     ]
    }
   ],
   "source": [
    "# this question can be anwered by using pop() function.\n",
    "# first we need a list \n",
    "# we can use a1 list in this scenario\n",
    "# first printing a1 list\n",
    "print(a1)\n",
    "\n",
    "\n",
    "a1.pop(2) # it remove the element on the 3rd index\n",
    "\n",
    "\n",
    "\n",
    "print(a1) #now checking the list."
   ]
  },
  {
   "cell_type": "code",
   "execution_count": null,
   "id": "e269d19f-f72a-4d35-8f7a-d5e46a8999d7",
   "metadata": {},
   "outputs": [],
   "source": []
  },
  {
   "cell_type": "markdown",
   "id": "024998cd-4533-4b21-847a-e8f61e171921",
   "metadata": {},
   "source": [
    "# Question 7"
   ]
  },
  {
   "cell_type": "markdown",
   "id": "0daf32e6-0fa8-4c53-91f7-57c362925a2f",
   "metadata": {},
   "source": [
    "Check if an element exists in a list"
   ]
  },
  {
   "cell_type": "code",
   "execution_count": 16,
   "id": "5cb48191-d675-48c0-9a89-2fdf23297c55",
   "metadata": {},
   "outputs": [
    {
     "name": "stdout",
     "output_type": "stream",
     "text": [
      "7 number present in the list\n"
     ]
    }
   ],
   "source": [
    "# we need a list to executing this list \n",
    "l = [1,2,3,4,5,6,7]\n",
    "\n",
    "\n",
    "# checking the 4 number present in the list or not.\n",
    "# for this query, if-else statement can be used.\n",
    "i =7 \n",
    "if i in l:\n",
    "    print('7 number present in the list')\n",
    "else:\n",
    "    print('7 number in not present in the list')"
   ]
  },
  {
   "cell_type": "code",
   "execution_count": null,
   "id": "70fce931-216f-4592-99d2-4b5b9ae3c7d6",
   "metadata": {},
   "outputs": [],
   "source": []
  },
  {
   "cell_type": "markdown",
   "id": "e7d1291a-9bdf-4819-8718-8cd7f658c911",
   "metadata": {},
   "source": [
    "# Question 8"
   ]
  },
  {
   "cell_type": "markdown",
   "id": "824dbe5d-99a3-4a2b-bd36-1712093d9840",
   "metadata": {},
   "source": [
    "Find the index of the first occurrence of an element in a list."
   ]
  },
  {
   "cell_type": "code",
   "execution_count": 17,
   "id": "99fc7994-0810-4047-be80-17e75021d5ab",
   "metadata": {},
   "outputs": [
    {
     "data": {
      "text/plain": [
       "0"
      ]
     },
     "execution_count": 17,
     "metadata": {},
     "output_type": "execute_result"
    }
   ],
   "source": [
    "# for answering this question, index() function can be used.\n",
    "# we can take a list for executing this command\n",
    "l2 = ['harry', 'bob', 'rahul', 'david', 'harry', 'rahul']\n",
    "\n",
    "\n",
    "l2.index('harry') #it shows the first occurence index of the value 'harry'"
   ]
  },
  {
   "cell_type": "code",
   "execution_count": null,
   "id": "bbf3cd5d-f4cb-45a6-8872-b42ec97167e5",
   "metadata": {},
   "outputs": [],
   "source": []
  },
  {
   "cell_type": "markdown",
   "id": "d8d55931-7621-487f-b7f8-12a8745cd775",
   "metadata": {},
   "source": [
    "# Question 9"
   ]
  },
  {
   "cell_type": "markdown",
   "id": "544bb004-e593-48a8-848a-e2f0f2ba8050",
   "metadata": {},
   "source": [
    "Count the occurrences of an element in a list."
   ]
  },
  {
   "cell_type": "code",
   "execution_count": 19,
   "id": "9c94a162-681e-4a99-8b0d-354d4b7096fe",
   "metadata": {},
   "outputs": [
    {
     "name": "stdout",
     "output_type": "stream",
     "text": [
      "['harry', 'bob', 'rahul', 'david', 'harry', 'rahul']\n"
     ]
    },
    {
     "data": {
      "text/plain": [
       "2"
      ]
     },
     "execution_count": 19,
     "metadata": {},
     "output_type": "execute_result"
    }
   ],
   "source": [
    "# for executing this query, l2 list can be used. \n",
    "# printing l2\n",
    "print(l2)\n",
    "\n",
    "# by using count() function, this question can be answered\n",
    "l2.count('rahul') # it shows the number of occurence of the value 'rahul'"
   ]
  },
  {
   "cell_type": "code",
   "execution_count": null,
   "id": "ea374e9a-bbc6-4ce8-a893-d6ab59a3bbda",
   "metadata": {},
   "outputs": [],
   "source": []
  },
  {
   "cell_type": "markdown",
   "id": "eb8d3b0a-aedd-42e7-9abc-c57569c865ff",
   "metadata": {},
   "source": [
    "# Question 10"
   ]
  },
  {
   "cell_type": "markdown",
   "id": "8e767835-87e8-4076-848b-b79b54fb9ad2",
   "metadata": {},
   "source": [
    "Reverse the order of elements in a list."
   ]
  },
  {
   "cell_type": "code",
   "execution_count": 21,
   "id": "3e7dce7d-67e3-44bf-91ec-77fcddc5ef23",
   "metadata": {},
   "outputs": [
    {
     "name": "stdout",
     "output_type": "stream",
     "text": [
      "['harry', 'bob', 'rahul', 'david', 'harry', 'rahul']\n"
     ]
    },
    {
     "data": {
      "text/plain": [
       "['rahul', 'harry', 'david', 'rahul', 'bob', 'harry']"
      ]
     },
     "execution_count": 21,
     "metadata": {},
     "output_type": "execute_result"
    }
   ],
   "source": [
    "# we can use l2 list in this scenario\n",
    "# printing l2 list\n",
    "print(l2)\n",
    "\n",
    "# we can reverse the order by using jump to -1\n",
    "l2[::-1]"
   ]
  },
  {
   "cell_type": "code",
   "execution_count": null,
   "id": "f27febe8-dbf7-45e1-8d4b-3144446f3719",
   "metadata": {},
   "outputs": [],
   "source": []
  },
  {
   "cell_type": "markdown",
   "id": "8ef67192-b2ec-4980-a761-e5983bf7f2de",
   "metadata": {},
   "source": [
    "# Question 11"
   ]
  },
  {
   "cell_type": "markdown",
   "id": "dc3fbe2c-2481-4f37-81a4-f8b008502ad7",
   "metadata": {},
   "source": [
    "Sort a list in ascending order"
   ]
  },
  {
   "cell_type": "code",
   "execution_count": 34,
   "id": "58825f60-828f-4f40-afe2-c96de02dc342",
   "metadata": {},
   "outputs": [
    {
     "data": {
      "text/plain": [
       "[0, 1, 2, 2, 2, 3, 4, 4, 5, 5, 6, 6, 7, 8, 9]"
      ]
     },
     "execution_count": 34,
     "metadata": {},
     "output_type": "execute_result"
    }
   ],
   "source": [
    "# we can use sort() function for executing this question\n",
    "# first we need a list in which we execute this program \n",
    "l3 = [2,4,6,2,7,5,1,9,0,4,6,3,2,8,5]\n",
    "\n",
    "\n",
    "l3.sort() # sorting the values\n",
    "\n",
    "l3 # printing the values"
   ]
  },
  {
   "cell_type": "code",
   "execution_count": null,
   "id": "fac95acb-34ad-4763-bd4f-c8b4dfa591c2",
   "metadata": {},
   "outputs": [],
   "source": []
  },
  {
   "cell_type": "markdown",
   "id": "43a838d1-b445-4f66-a7cf-12c8cc40a9ae",
   "metadata": {},
   "source": [
    "# Question 12"
   ]
  },
  {
   "cell_type": "markdown",
   "id": "4d48388b-7b11-4606-b7e5-7de054aee5dc",
   "metadata": {},
   "source": [
    "Sort a list in descending order"
   ]
  },
  {
   "cell_type": "code",
   "execution_count": 35,
   "id": "bfc4f6c5-ac94-4fa1-b67a-8ade32a79fb1",
   "metadata": {},
   "outputs": [
    {
     "name": "stdout",
     "output_type": "stream",
     "text": [
      "before sorting the list:  [0, 1, 2, 2, 2, 3, 4, 4, 5, 5, 6, 6, 7, 8, 9]\n",
      "after sorting the list in descending order:  [9, 8, 7, 6, 6, 5, 5, 4, 4, 3, 2, 2, 2, 1, 0]\n"
     ]
    }
   ],
   "source": [
    "# by using sort() function, this query can be executed\n",
    "# we have to sort the values in descending order\n",
    "# we have to use areverse = True parameter in the sort function\n",
    "# printing l3\n",
    "print(\"before sorting the list: \", l3)\n",
    "\n",
    "\n",
    "# now sorting the values\n",
    "l3.sort(reverse = True)\n",
    "\n",
    "\n",
    "# now printing the l3 list again to check if properly eecuted or not\n",
    "print(\"after sorting the list in descending order: \", l3)"
   ]
  },
  {
   "cell_type": "code",
   "execution_count": null,
   "id": "a36616c9-ad91-45b5-96a1-e74946b05619",
   "metadata": {},
   "outputs": [],
   "source": []
  },
  {
   "cell_type": "markdown",
   "id": "be61312c-571c-4aac-b7e6-b3617c13cc13",
   "metadata": {},
   "source": [
    "# Question 13"
   ]
  },
  {
   "cell_type": "markdown",
   "id": "b13dbe2e-766b-4c65-8d8d-7b1b513f03e5",
   "metadata": {},
   "source": [
    "Create a list of even numbers from 1 to 20"
   ]
  },
  {
   "cell_type": "code",
   "execution_count": 36,
   "id": "a9b88c03-8e86-4603-bb6c-ab14646284c3",
   "metadata": {},
   "outputs": [
    {
     "name": "stdout",
     "output_type": "stream",
     "text": [
      "[2, 4, 6, 8, 10, 12, 14, 16, 18, 20]\n"
     ]
    }
   ],
   "source": [
    "# first we need a for loop with typecasting if-else\n",
    "even_nums = [x for x in range (1,21) if x%2 == 0]\n",
    "\n",
    "# printing the even_num variable\n",
    "print(even_nums)"
   ]
  },
  {
   "cell_type": "code",
   "execution_count": null,
   "id": "d3970a85-98d8-4477-8803-b6fbe8a0ca54",
   "metadata": {},
   "outputs": [],
   "source": []
  },
  {
   "cell_type": "markdown",
   "id": "7725ce8d-4bed-4296-b8b7-42862cedcd92",
   "metadata": {},
   "source": [
    "# Question 14"
   ]
  },
  {
   "cell_type": "markdown",
   "id": "20e7ce86-ab7b-44d3-b16c-b8d684a9a238",
   "metadata": {},
   "source": [
    "Create a list of odd numbers from 1 to 20"
   ]
  },
  {
   "cell_type": "code",
   "execution_count": 37,
   "id": "6f3f9036-86c5-4388-b6ad-e0861ea77109",
   "metadata": {},
   "outputs": [
    {
     "name": "stdout",
     "output_type": "stream",
     "text": [
      "[1, 3, 5, 7, 9, 11, 13, 15, 17, 19]\n"
     ]
    }
   ],
   "source": [
    "# first we need a for loop with typecasting if-else\n",
    "odd_nums = [x for x in range(1,21) if x%2 != 0]\n",
    "\n",
    "# printing the odd_num\n",
    "print(odd_nums)"
   ]
  },
  {
   "cell_type": "code",
   "execution_count": null,
   "id": "f6ad4dbb-ff44-49d4-b025-8f56f30b5c31",
   "metadata": {},
   "outputs": [],
   "source": []
  },
  {
   "cell_type": "markdown",
   "id": "5686b95a-7828-4027-9754-b0f9d7581e14",
   "metadata": {},
   "source": [
    "# Question 15"
   ]
  },
  {
   "cell_type": "markdown",
   "id": "5edcf5bd-a703-4e13-ba89-9928e32ef9f3",
   "metadata": {},
   "source": [
    "Find the sum of all elements in a list"
   ]
  },
  {
   "cell_type": "code",
   "execution_count": 40,
   "id": "124e5780-3bf8-4bdd-b15f-50317d882000",
   "metadata": {},
   "outputs": [
    {
     "name": "stdout",
     "output_type": "stream",
     "text": [
      "[12, 65, 78, 15, 65, 22, 35]\n",
      "sum of the all elements in the list: 292\n"
     ]
    }
   ],
   "source": [
    "# first we make a list of some random numbers\n",
    "list_1 = [12,65,78,15,65,22,35]\n",
    "\n",
    "# printing the list\n",
    "print(list_1)\n",
    "\n",
    "total = 0 #making another variable as total\n",
    "\n",
    "\n",
    "# now iterate each element one by one from the list and add the value in the total variable\n",
    "# for loop can be used for this\n",
    "for ele in range(0,len(list_1)):\n",
    "    total = total + list_1[ele]\n",
    "    \n",
    "\n",
    "# printing the variable total\n",
    "print(\"sum of the all elements in the list:\", total)"
   ]
  },
  {
   "cell_type": "code",
   "execution_count": null,
   "id": "a14017ef-df8a-4e2c-962f-371ec7e741d1",
   "metadata": {},
   "outputs": [],
   "source": []
  },
  {
   "cell_type": "markdown",
   "id": "cea6bed6-fdf6-4d77-9813-e0fefc71e49c",
   "metadata": {},
   "source": [
    "# Question 16"
   ]
  },
  {
   "cell_type": "markdown",
   "id": "521c3887-91e8-4acc-ba7c-0e9dbe60c9d2",
   "metadata": {},
   "source": [
    "Find the maximum value in a list"
   ]
  },
  {
   "cell_type": "code",
   "execution_count": 41,
   "id": "c74866dd-8f60-4432-a3de-db994aaff804",
   "metadata": {},
   "outputs": [
    {
     "name": "stdout",
     "output_type": "stream",
     "text": [
      "[12, 65, 78, 15, 65, 22, 35]\n"
     ]
    },
    {
     "data": {
      "text/plain": [
       "78"
      ]
     },
     "execution_count": 41,
     "metadata": {},
     "output_type": "execute_result"
    }
   ],
   "source": [
    "# we can use list_1 for execution of this question\n",
    "print(list_1)\n",
    "\n",
    "\n",
    "max(list_1) # for finding the maximum value in the list"
   ]
  },
  {
   "cell_type": "code",
   "execution_count": null,
   "id": "9f7a703b-4179-49ad-9b0e-445495727862",
   "metadata": {},
   "outputs": [],
   "source": []
  },
  {
   "cell_type": "markdown",
   "id": "e24f76b2-75fe-4738-851b-42e6142af594",
   "metadata": {},
   "source": [
    "# Question 17"
   ]
  },
  {
   "cell_type": "markdown",
   "id": "136d82c5-ceb6-4d0e-b7f7-282d589a065a",
   "metadata": {},
   "source": [
    "Find the minimum value in a list"
   ]
  },
  {
   "cell_type": "code",
   "execution_count": 43,
   "id": "56d8fd67-241d-41e2-b60e-9d1e3bfd47bd",
   "metadata": {},
   "outputs": [
    {
     "name": "stdout",
     "output_type": "stream",
     "text": [
      "[12, 65, 78, 15, 65, 22, 35]\n"
     ]
    },
    {
     "data": {
      "text/plain": [
       "12"
      ]
     },
     "execution_count": 43,
     "metadata": {},
     "output_type": "execute_result"
    }
   ],
   "source": [
    "# we can use list_1 for execution of this question\n",
    "# printing the list_1\n",
    "print(list_1)\n",
    "\n",
    "\n",
    "min(list_1) # for finding the minimum value in the list"
   ]
  },
  {
   "cell_type": "code",
   "execution_count": null,
   "id": "dce62795-997e-421c-9f98-e8a137c90ddc",
   "metadata": {},
   "outputs": [],
   "source": []
  },
  {
   "cell_type": "markdown",
   "id": "ab8ddd74-ffd5-4f75-9636-7cb777b915f7",
   "metadata": {},
   "source": [
    "# Question 18"
   ]
  },
  {
   "cell_type": "markdown",
   "id": "82422a48-44bc-4e7c-bef3-2558eed4743f",
   "metadata": {},
   "source": [
    "Create a list of squares of numbers from 1 to 10"
   ]
  },
  {
   "cell_type": "code",
   "execution_count": 44,
   "id": "9df1df7c-d03d-4580-999e-14d12f0b7e35",
   "metadata": {},
   "outputs": [
    {
     "name": "stdout",
     "output_type": "stream",
     "text": [
      "printing the list of square numbers:  [1, 4, 9, 16, 25, 36, 49, 64, 81, 100]\n"
     ]
    }
   ],
   "source": [
    "# first we need a list value of numbers 1 to 10\n",
    "list_2 = list(range(1,11))\n",
    "\n",
    "# for loop can be used in this scenario and stored into squares variable \n",
    "squares = [number ** 2 for number in list_2]\n",
    "\n",
    "# printing the squares variable\n",
    "print(\"printing the list of square numbers: \", squares)"
   ]
  },
  {
   "cell_type": "code",
   "execution_count": null,
   "id": "92f06188-4d50-4d70-9e8e-a9278b3e5abc",
   "metadata": {},
   "outputs": [],
   "source": []
  },
  {
   "cell_type": "markdown",
   "id": "e6b97a81-47b0-417c-ab9f-605bbe8796d7",
   "metadata": {},
   "source": [
    "# Question 19"
   ]
  },
  {
   "cell_type": "markdown",
   "id": "ff35832d-b916-4e97-9b75-30e850e01696",
   "metadata": {},
   "source": [
    "Create a list of random numbers"
   ]
  },
  {
   "cell_type": "code",
   "execution_count": 48,
   "id": "2b6815bb-9f71-4561-84b2-5ed82919b836",
   "metadata": {},
   "outputs": [
    {
     "name": "stdout",
     "output_type": "stream",
     "text": [
      "random number list is:  [3, 4, 2, 6, 3, 9, 2, 4, 3, 9]\n"
     ]
    }
   ],
   "source": [
    "# in this question, we will be create a random list of 10 numbers\n",
    "# first we need to import 'random'\n",
    "import random\n",
    "\n",
    "\n",
    "# now making a blank list named rand_list\n",
    "rand_list = []\n",
    "\n",
    "\n",
    "# taking another variable named n and value put is 10\n",
    "n = 10\n",
    "\n",
    "\n",
    "# using for loop, this question can be answered\n",
    "# using randint() function this query can be executed\n",
    "\n",
    "for i in range(n):\n",
    "    rand_list.append(random.randint(1,9))\n",
    "    \n",
    "    \n",
    "rand_list_2 = print(\"random number list is: \",rand_list)"
   ]
  },
  {
   "cell_type": "code",
   "execution_count": null,
   "id": "a1e07537-911c-4a5d-90ff-cea1ce523d9a",
   "metadata": {},
   "outputs": [],
   "source": []
  },
  {
   "cell_type": "markdown",
   "id": "33ab3988-43f9-4055-a97f-c14a350320d9",
   "metadata": {},
   "source": [
    "# Question 20"
   ]
  },
  {
   "cell_type": "markdown",
   "id": "74b73441-7e9c-4a41-931b-ced431e03599",
   "metadata": {},
   "source": [
    "Remove duplicates from a list"
   ]
  },
  {
   "cell_type": "code",
   "execution_count": 49,
   "id": "ce453685-aa4f-41ed-8b08-a7c70c7aaf8b",
   "metadata": {},
   "outputs": [
    {
     "name": "stdout",
     "output_type": "stream",
     "text": [
      "[3, 6, 5, 4, 7, 8, 5, 4, 1, 2, 5, 9, 6, 5, 8, 1, 3, 2, 4]\n"
     ]
    },
    {
     "data": {
      "text/plain": [
       "[1, 2, 3, 4, 5, 6, 7, 8, 9]"
      ]
     },
     "execution_count": 49,
     "metadata": {},
     "output_type": "execute_result"
    }
   ],
   "source": [
    "# we can make a list for removing duplicates from a list\n",
    "rand_list_3 = [3,6,5,4,7,8,5,4,1,2,5,9,6,5,8,1,3,2,4]\n",
    "\n",
    "# printing the list\n",
    "print(rand_list_3)\n",
    "\n",
    "\n",
    "rand_list_4 = list(set(rand_list_3)) #set() function removes the duplicate value and then typecasting the set value to list named rand_list_4\n",
    "\n",
    "rand_list_4 #printing the rand_list_4"
   ]
  },
  {
   "cell_type": "code",
   "execution_count": null,
   "id": "2266da65-60d1-4bbc-8e4a-c215ef5645e3",
   "metadata": {},
   "outputs": [],
   "source": []
  },
  {
   "cell_type": "markdown",
   "id": "017bccf0-f0ad-47e6-b50c-35a557f49c68",
   "metadata": {},
   "source": [
    "# Question 21"
   ]
  },
  {
   "cell_type": "markdown",
   "id": "0cdd1e7a-b3f5-45f3-aa25-88dcc7ee981d",
   "metadata": {},
   "source": [
    "Find the common elements between two lists"
   ]
  },
  {
   "cell_type": "code",
   "execution_count": 51,
   "id": "6e1b5fa9-40a9-44bb-bac8-c475340566f6",
   "metadata": {},
   "outputs": [
    {
     "name": "stdout",
     "output_type": "stream",
     "text": [
      "{5}\n"
     ]
    }
   ],
   "source": [
    "def common_element(a, b): # an user defined function is created for this scenario\n",
    "    a_set = set(a)\n",
    "    b_set = set(b) #passing set value of a and b\n",
    " \n",
    "    if (a_set & b_set):\n",
    "        print(a_set & b_set)\n",
    "    else:\n",
    "        print(\"No common elements\") # if common value is present then print the common value, oterwise no common elements printed\n",
    "        \n",
    "\n",
    "# for finding a common element between two lists, two lists can be make with a common variable for checking code performance\n",
    "a = [1, 2, 3, 4, 5]\n",
    "b = [5, 6, 7, 8, 9] # putting the value of a and b in the form of list\n",
    "common_element(a, b)"
   ]
  },
  {
   "cell_type": "code",
   "execution_count": null,
   "id": "c3136453-4b35-44ca-9fe8-f3108c0e6f72",
   "metadata": {},
   "outputs": [],
   "source": []
  },
  {
   "cell_type": "markdown",
   "id": "a337fee5-4bb1-4e02-a490-03feac337824",
   "metadata": {},
   "source": [
    "# Question 22"
   ]
  },
  {
   "cell_type": "markdown",
   "id": "9a667642-a2e7-4e9e-8e9b-5e20f602c0f6",
   "metadata": {},
   "source": [
    "Find the difference between two lists"
   ]
  },
  {
   "cell_type": "code",
   "execution_count": 52,
   "id": "34509c5f-46c4-439a-a6cd-0ccd9e8399d9",
   "metadata": {},
   "outputs": [
    {
     "name": "stdout",
     "output_type": "stream",
     "text": [
      "[10, 15, 20, 30]\n"
     ]
    }
   ],
   "source": [
    "# if the element is present in the second list then the element is subtracted from the list and the element added in temp_list\n",
    "list1 = [10, 15, 20, 25, 30, 35, 40]\n",
    "list2 = [25, 40, 35] # two list generated for this question\n",
    " \n",
    "temp_list = [] # a temporary list created\n",
    "for element in list1: # for loop created for executing this question\n",
    "    if element not in list2:\n",
    "        temp_list.append(element)\n",
    "        \n",
    "\n",
    "print(temp_list) # printing temp_list"
   ]
  },
  {
   "cell_type": "code",
   "execution_count": null,
   "id": "3a89bbd4-e85c-490a-8ac3-ed94de17032d",
   "metadata": {},
   "outputs": [],
   "source": []
  },
  {
   "cell_type": "markdown",
   "id": "82792e1b-6aeb-4147-8f7b-52eb5217ba9b",
   "metadata": {},
   "source": [
    "# Question 23"
   ]
  },
  {
   "cell_type": "markdown",
   "id": "4913fc6a-f118-468b-89b6-4293023aae0d",
   "metadata": {},
   "source": [
    "Merge two lists"
   ]
  },
  {
   "cell_type": "code",
   "execution_count": 58,
   "id": "f8748f7e-e1bd-4608-97b5-cd0345e68ef3",
   "metadata": {},
   "outputs": [
    {
     "name": "stdout",
     "output_type": "stream",
     "text": [
      "list1:  [10, 15, 20, 25, 30, 35, 40]\n",
      "list2:  [25, 40, 35]\n",
      "after merging two list, the new list is: [10, 15, 20, 25, 30, 35, 40, 25, 40, 35]\n"
     ]
    }
   ],
   "source": [
    "# in this scenario, we can use list1 and list2 and merge them\n",
    "print(\"list1: \",list1)\n",
    "print(\"list2: \",list2)\n",
    "\n",
    "\n",
    "list3 = list1 + list2 #two list can be merged by simply using (+) addition operator.\n",
    "\n",
    "\n",
    "#printing list3\n",
    "print(\"after merging two list, the new list is:\", list3)"
   ]
  },
  {
   "cell_type": "code",
   "execution_count": null,
   "id": "43f989bd-c104-4350-b1cf-e95fa7a5b5fc",
   "metadata": {},
   "outputs": [],
   "source": []
  },
  {
   "cell_type": "markdown",
   "id": "39dddcab-2c1a-4a9a-9938-68d74dc9b315",
   "metadata": {},
   "source": [
    "# Question 24"
   ]
  },
  {
   "cell_type": "markdown",
   "id": "586c2186-5f98-4af9-81f4-30864b07ea92",
   "metadata": {},
   "source": [
    "Multiply all elements in a list by 2"
   ]
  },
  {
   "cell_type": "code",
   "execution_count": 61,
   "id": "e5e59f7f-251e-4e97-9cf8-518dc59d0c50",
   "metadata": {},
   "outputs": [
    {
     "name": "stdout",
     "output_type": "stream",
     "text": [
      "list1: [10, 15, 20, 25, 30, 35, 40]\n",
      "muliplied list after all elements are multipled by 2 is: [20, 30, 40, 50, 60, 70, 80]\n"
     ]
    }
   ],
   "source": [
    "# in this case, we can use list1\n",
    "# printing list1\n",
    "print(\"list1:\",list1)\n",
    "\n",
    "\n",
    "multiplied_list = [i * 2 for i in list1] # for every value, the value multiplied with 2 and stored into multiplied_list\n",
    "\n",
    "\n",
    "# printing multiplied_list\n",
    "print(\"muliplied list after all elements are multipled by 2 is:\", multiplied_list)"
   ]
  },
  {
   "cell_type": "code",
   "execution_count": null,
   "id": "cde26eb4-dcbd-422a-8362-c3f354f073fc",
   "metadata": {},
   "outputs": [],
   "source": []
  },
  {
   "cell_type": "markdown",
   "id": "b8948fca-98e8-4743-8447-7bcbbdf91336",
   "metadata": {},
   "source": [
    "# Question 25"
   ]
  },
  {
   "cell_type": "markdown",
   "id": "de270ab9-29df-4140-a57b-02bbe98731b7",
   "metadata": {},
   "source": [
    "Filter out all even numbers from a list"
   ]
  },
  {
   "cell_type": "code",
   "execution_count": 64,
   "id": "7330e32b-f349-4b60-a737-9783f5184eda",
   "metadata": {},
   "outputs": [
    {
     "name": "stdout",
     "output_type": "stream",
     "text": [
      "list1: [10, 15, 20, 25, 30, 35, 40]\n",
      "list of all even number from list1 is: [10, 20, 30, 40]\n"
     ]
    }
   ],
   "source": [
    "# in this scenario, we can use list1\n",
    "# printing list1\n",
    "print(\"list1:\", list1)\n",
    "\n",
    "\n",
    "even_list = [i for i in list1 if i % 2 == 0] \n",
    "#if values%2 will be 0, then the values are even number.\n",
    "# even number values are stored into even_list\n",
    "\n",
    "\n",
    "print(\"list of all even number from list1 is:\", even_list) #printing the even_list"
   ]
  },
  {
   "cell_type": "code",
   "execution_count": null,
   "id": "a9a692e6-61d1-4dc1-9928-78eb2b20ade5",
   "metadata": {},
   "outputs": [],
   "source": []
  },
  {
   "cell_type": "markdown",
   "id": "635c870a-da62-4369-ae1d-599fb2d30e6a",
   "metadata": {},
   "source": [
    "# Question 26"
   ]
  },
  {
   "cell_type": "markdown",
   "id": "fe24c59b-e305-4a5f-b2a7-a34f6f6d7de4",
   "metadata": {},
   "source": [
    "Convert a list of strings to a list of integers"
   ]
  },
  {
   "cell_type": "code",
   "execution_count": 67,
   "id": "0e95f6aa-9266-4509-8429-c9c6b325bf91",
   "metadata": {},
   "outputs": [
    {
     "name": "stdout",
     "output_type": "stream",
     "text": [
      "string list: ['1', '2', '3']\n",
      "integer list is: [1, 2, 3]\n"
     ]
    }
   ],
   "source": [
    "# taking a list of string first\n",
    "string_list = [\"1\", \"2\", \"3\"]\n",
    "\n",
    "\n",
    "# printing string list\n",
    "print(\"string list:\", string_list)\n",
    "\n",
    "\n",
    "# now taking a blank list named integer_list\n",
    "integer_list = []\n",
    "\n",
    "\n",
    "# for loop can be used in this scenario. \n",
    "for string in string_list:\n",
    "    integer_list.append(int(string)) # it will append to the integer_list\n",
    "\n",
    "print(\"integer list is:\", integer_list) #now printing the integer list"
   ]
  },
  {
   "cell_type": "code",
   "execution_count": null,
   "id": "e3d5b112-7345-473f-a7fb-ede5ad2e23db",
   "metadata": {},
   "outputs": [],
   "source": []
  },
  {
   "cell_type": "markdown",
   "id": "b48540bd-0b56-4f72-85af-1d3b94b2f4a2",
   "metadata": {},
   "source": [
    "# Question 27"
   ]
  },
  {
   "cell_type": "markdown",
   "id": "59a6bdc2-3bea-4422-be12-dfe83cdf1eec",
   "metadata": {},
   "source": [
    "Convert a list of integers to a list of strings"
   ]
  },
  {
   "cell_type": "code",
   "execution_count": 69,
   "id": "5cfdfd6f-d9cb-4f7b-b7a2-522b1bc6b65e",
   "metadata": {},
   "outputs": [
    {
     "name": "stdout",
     "output_type": "stream",
     "text": [
      "integer list [1, 2, 3]\n",
      "string list: ['1', '2', '3']\n"
     ]
    }
   ],
   "source": [
    "# we can use the integer_list for this question \n",
    "print(\"integer list\",integer_list)\n",
    "\n",
    "\n",
    "str_list = [] # making a string list named str_list for this scenario\n",
    "\n",
    "\n",
    "# for loop can be used in this case\n",
    "for integer in integer_list:\n",
    "    str_list.append(str(integer))\n",
    "    \n",
    "    \n",
    "    \n",
    "# printing the str_list\n",
    "print(\"string list:\",str_list)"
   ]
  },
  {
   "cell_type": "code",
   "execution_count": null,
   "id": "33824192-0b1e-40af-bab2-a93670e40c69",
   "metadata": {},
   "outputs": [],
   "source": []
  },
  {
   "cell_type": "markdown",
   "id": "89c6d4c9-aed8-426a-9598-9f82ea5e19d0",
   "metadata": {},
   "source": [
    "# Question 28"
   ]
  },
  {
   "cell_type": "markdown",
   "id": "0648d701-0ec6-411e-944d-0ac6e7c8e2e8",
   "metadata": {},
   "source": [
    "Flatten a nested list"
   ]
  },
  {
   "cell_type": "code",
   "execution_count": 73,
   "id": "6c128745-8ca5-4100-9f50-09d8d5798712",
   "metadata": {},
   "outputs": [
    {
     "name": "stdout",
     "output_type": "stream",
     "text": [
      "nested list: [[10, 20, 30, 40], [50, 66, 70], [80, 90], [100]]\n",
      "New list Is: [10, 20, 30, 40, 50, 66, 70, 80, 90, 100]\n"
     ]
    }
   ],
   "source": [
    "# first we need a nested list\n",
    "list_3 = [[10, 20, 30, 40], [50, 66, 70], [80, 90],[100]]\n",
    "\n",
    "# printing the list_3\n",
    "print(\"nested list:\", list_3)\n",
    "\n",
    "flat_list = sum(list_3, []) # using sum function for flatten a nested list\n",
    "\n",
    "print('New list Is:', flat_list) # printing new list"
   ]
  },
  {
   "cell_type": "code",
   "execution_count": null,
   "id": "59e86db6-9e10-49d6-a8aa-04a6d4a1ab02",
   "metadata": {},
   "outputs": [],
   "source": []
  },
  {
   "cell_type": "markdown",
   "id": "878245f4-cb5e-417d-b065-f8d5c0acc4ad",
   "metadata": {},
   "source": [
    "# Question 29"
   ]
  },
  {
   "cell_type": "markdown",
   "id": "924a49f0-5183-4d19-a905-073b5b6637a6",
   "metadata": {},
   "source": [
    "Create a list of the first 10 Fibonacci numbers"
   ]
  },
  {
   "cell_type": "code",
   "execution_count": 84,
   "id": "3f864354-c7ae-4f81-a29a-8670e587ee48",
   "metadata": {},
   "outputs": [
    {
     "name": "stdout",
     "output_type": "stream",
     "text": [
      " first 10 fibonacci list is: [1, 2, 3, 5, 8, 13, 21, 34, 55, 89]\n"
     ]
    }
   ],
   "source": [
    "# fibonacci numbers are the numbers, in which each number is equal to the sum of the preceding two numbers. \n",
    "# for first 10 fibonacci numbers, we need an user-defined function \n",
    "# Function to generate the first n Fibonacci numbers and return them in a list\n",
    "def generate_fibonacci_list(n):\n",
    "    f_list = []\n",
    "    x, y = 1, 2\n",
    "    for i in range(n):\n",
    "        f_list.append(x)\n",
    "        x, y = y, x + y\n",
    "    return f_list\n",
    "\n",
    "# Generate the first 5 Fibonacci numbers\n",
    "first_10_fibonacci_list = generate_fibonacci_list(10)\n",
    "\n",
    "# Print the list\n",
    "print(\" first 10 fibonacci list is:\", first_10_fibonacci_list)"
   ]
  },
  {
   "cell_type": "code",
   "execution_count": null,
   "id": "e1c4aa1e-3540-45b9-9310-04ef5c3f9ad9",
   "metadata": {},
   "outputs": [],
   "source": []
  },
  {
   "cell_type": "markdown",
   "id": "424593a1-b11a-4ed4-9f78-f8b2da249dff",
   "metadata": {},
   "source": [
    "# Question 30"
   ]
  },
  {
   "cell_type": "markdown",
   "id": "735cb9a4-e545-4c27-93c2-226197e2996f",
   "metadata": {},
   "source": [
    "Check if a list is sorted"
   ]
  },
  {
   "cell_type": "code",
   "execution_count": 85,
   "id": "93aba709-3f4d-47b3-ab6d-dd6b6c873437",
   "metadata": {},
   "outputs": [
    {
     "name": "stdout",
     "output_type": "stream",
     "text": [
      "Original list is : [1, 4, 12, 8, 10]\n",
      "No, List is not sorted.\n"
     ]
    }
   ],
   "source": [
    "#by using sorted() function, we can check if list is sorted or not\n",
    "# first we need a tested list for this\n",
    "test_list = [1, 4, 12, 8, 10]\n",
    "\n",
    "\n",
    "# now printing the original list\n",
    "print(\"Original list is : \" + str(test_list))\n",
    "\n",
    "\n",
    "flag = 0\n",
    "if(test_list == sorted(test_list)): #using sorted() function for sorting the list. \n",
    "\tflag = 1\n",
    "\n",
    "    \n",
    "# printing result using if-else statement\n",
    "if (flag) :\n",
    "\tprint (\"Yes, List is sorted.\")\n",
    "else :\n",
    "\tprint (\"No, List is not sorted.\")"
   ]
  },
  {
   "cell_type": "code",
   "execution_count": null,
   "id": "9eea35cd-da2f-4f05-82ea-aea925f69cc2",
   "metadata": {},
   "outputs": [],
   "source": []
  },
  {
   "cell_type": "markdown",
   "id": "df2eb85e-8e67-4b4d-9555-ff4b664bbdb8",
   "metadata": {},
   "source": [
    "# Question 31"
   ]
  },
  {
   "cell_type": "markdown",
   "id": "b1ab55af-405b-479e-8327-362d9e33e6f0",
   "metadata": {},
   "source": [
    "Rotate a list to the left by `n` positions"
   ]
  },
  {
   "cell_type": "code",
   "execution_count": 86,
   "id": "3292e5ad-df29-4755-ad62-13a56757c7d2",
   "metadata": {},
   "outputs": [
    {
     "name": "stdin",
     "output_type": "stream",
     "text": [
      "Enter Position to Left Rotate List Items =  2\n"
     ]
    },
    {
     "name": "stdout",
     "output_type": "stream",
     "text": [
      "Original List Items Before Left Rotating\n",
      "[5, 10, 15, 20, 25, 30, 35, 40, 45, 50]\n",
      "\n",
      "Final List Items After Left Rotating\n",
      "[15, 20, 25, 30, 35, 40, 45, 50, 5, 10]\n"
     ]
    }
   ],
   "source": [
    "# first we need a list for executing this question\n",
    "ltList = [5, 10, 15, 20, 25, 30, 35, 40, 45, 50] # making a list of some integer values\n",
    "\n",
    "\n",
    "leftRotate = int(input(\"Enter Position to Left Rotate List Items = \")) #taking a user input function for the 'n'th position rotation\n",
    "\n",
    "\n",
    "print('Original List Items Before Left Rotating')\n",
    "print(ltList) # printing the original list\n",
    "\n",
    "\n",
    "list_2 = ltList[leftRotate:] + ltList[:leftRotate]\n",
    "\n",
    "\n",
    "print('\\nFinal List Items After Left Rotating')\n",
    "print(list_2) # after ratating the 'n' th position, the final list is printed."
   ]
  },
  {
   "cell_type": "code",
   "execution_count": null,
   "id": "493d7bea-ab92-4648-a985-d656c460cda1",
   "metadata": {},
   "outputs": [],
   "source": []
  },
  {
   "cell_type": "markdown",
   "id": "f95497ab-0c07-4d22-b40c-8e4732822c26",
   "metadata": {},
   "source": [
    "# Question 32"
   ]
  },
  {
   "cell_type": "markdown",
   "id": "e44b29e7-c143-441d-9ad5-a139eb2ff6b5",
   "metadata": {},
   "source": [
    "Rotate a list to the right by `n` positions"
   ]
  },
  {
   "cell_type": "code",
   "execution_count": 87,
   "id": "ace87dcd-b434-4820-844a-4ce1ec745735",
   "metadata": {},
   "outputs": [
    {
     "name": "stdin",
     "output_type": "stream",
     "text": [
      "Enter Position to Right Rotate List Items =  2\n"
     ]
    },
    {
     "name": "stdout",
     "output_type": "stream",
     "text": [
      "Original List Items Before Right Rotating\n",
      "[5, 10, 15, 20, 25, 30, 35, 40, 45, 50]\n",
      "\n",
      "Final List Items After Right Rotating\n",
      "[45, 50, 5, 10, 15, 20, 25, 30, 35, 40]\n"
     ]
    }
   ],
   "source": [
    "# first we need a list for executing this question\n",
    "ltList = [5, 10, 15, 20, 25, 30, 35, 40, 45, 50] # making a list of some integer values\n",
    "\n",
    "\n",
    "rightRotate = int(input(\"Enter Position to Right Rotate List Items = \")) #taking a user input function for the 'n'th position rotation\n",
    "\n",
    "\n",
    "print('Original List Items Before Right Rotating')\n",
    "print(ltList) # printing the original list\n",
    "\n",
    "\n",
    "list_2 = ltList[-rightRotate:] + ltList[:-rightRotate]\n",
    "\n",
    "\n",
    "print('\\nFinal List Items After Right Rotating')\n",
    "print(list_2) # after ratating the 'n' th position, the final list is printed."
   ]
  },
  {
   "cell_type": "code",
   "execution_count": null,
   "id": "66e1293b-02c8-4a75-9c6c-c19c8090ec32",
   "metadata": {},
   "outputs": [],
   "source": []
  },
  {
   "cell_type": "markdown",
   "id": "d2f0b41a-bf22-4161-9cd9-d0e44e1a160b",
   "metadata": {},
   "source": [
    "# Question 33"
   ]
  },
  {
   "cell_type": "markdown",
   "id": "057fc7a1-852e-4e12-b570-bce534a1e768",
   "metadata": {},
   "source": [
    "Create a list of prime numbers up to 50"
   ]
  },
  {
   "cell_type": "code",
   "execution_count": 156,
   "id": "2a7e355f-f23b-4e00-a3b9-633bd2445ff3",
   "metadata": {},
   "outputs": [
    {
     "name": "stdout",
     "output_type": "stream",
     "text": [
      "1\n",
      "2\n",
      "3\n",
      "5\n",
      "7\n",
      "11\n",
      "13\n",
      "17\n",
      "19\n",
      "23\n",
      "29\n",
      "31\n",
      "37\n",
      "41\n",
      "43\n",
      "47\n"
     ]
    }
   ],
   "source": [
    "# for loop can be used for this scenario\n",
    "\n",
    "for num in range(1,51): # used range 1 to 50 as said in the question\n",
    "    prime = True\n",
    "    for i in range(2,num): \n",
    "        if (num%i==0):\n",
    "            prime = False # if the number is divisible by 2 or the number itself, then the number is false means not prime\n",
    "            \n",
    "    if prime:\n",
    "        print(num) # printing the prime numbers only"
   ]
  },
  {
   "cell_type": "code",
   "execution_count": null,
   "id": "bf367f02-ec2a-4bb6-ba9b-07f08e695746",
   "metadata": {},
   "outputs": [],
   "source": []
  },
  {
   "cell_type": "markdown",
   "id": "80f297c9-7123-4656-b709-0e9500a09d58",
   "metadata": {},
   "source": [
    "# Question 34"
   ]
  },
  {
   "cell_type": "markdown",
   "id": "930d58b0-16cf-42cd-a3f0-9365121e34be",
   "metadata": {},
   "source": [
    "Split a list into chunks of size `n`"
   ]
  },
  {
   "cell_type": "code",
   "execution_count": 95,
   "id": "52dc22ef-0658-4e9b-a91b-207a626bb087",
   "metadata": {},
   "outputs": [
    {
     "name": "stdout",
     "output_type": "stream",
     "text": [
      "[1, 2, 3]\n",
      "[4, 5, 6]\n",
      "[7, 8, 9]\n"
     ]
    }
   ],
   "source": [
    "original_list = [1, 2, 3, 4, 5,6, 7, 8, 9] # taking a list first\n",
    "\n",
    "\n",
    "start = 0 #starting value\n",
    "\n",
    "end = len(original_list) # ending value\n",
    "\n",
    "step = 3 # the length of the chunk sized list \n",
    "\n",
    "for i in range(start, end, step):\n",
    "\tx = i\n",
    "\tprint(original_list[x:x+step])"
   ]
  },
  {
   "cell_type": "code",
   "execution_count": null,
   "id": "91577216-2bd7-4df9-9164-ff1545600aba",
   "metadata": {},
   "outputs": [],
   "source": []
  },
  {
   "cell_type": "markdown",
   "id": "edcdaff6-48db-4d64-bf0f-b9032acd8c49",
   "metadata": {},
   "source": [
    "# Question 35"
   ]
  },
  {
   "cell_type": "markdown",
   "id": "d1031582-0374-4d4b-8aef-aec0eb934210",
   "metadata": {},
   "source": [
    "Find the second largest number in a list"
   ]
  },
  {
   "cell_type": "code",
   "execution_count": 97,
   "id": "2e9abbcb-8267-44e4-8027-0c150617f618",
   "metadata": {},
   "outputs": [
    {
     "name": "stdout",
     "output_type": "stream",
     "text": [
      "[10, 20, 30, 40, 50, 50, 60, 40, 70, 80, 90, 10, 90, 100]\n",
      "Second largest element in this list is: 90\n"
     ]
    }
   ],
   "source": [
    "# first we need a list to execute this question\n",
    "# creating List of numbers\n",
    "list1 = [10,20,30,40,50,50,60,40,70,80,90,10,90,100]\n",
    "\n",
    "# printing the list\n",
    "print(list1)\n",
    "\n",
    "\n",
    "list2 = list(set(list1)) #convert the list into set for removing any possible duplicate values and stored into list2\n",
    "\n",
    "\n",
    "list2.sort() #now sorting the list named list2\n",
    "\n",
    "\n",
    "print(\"Second largest element in this list is:\", list2[-2]) # now printing the second last element of list2"
   ]
  },
  {
   "cell_type": "code",
   "execution_count": null,
   "id": "d62395b8-ee64-4101-95a0-77aff2ade196",
   "metadata": {},
   "outputs": [],
   "source": []
  },
  {
   "cell_type": "markdown",
   "id": "fda65dbe-6f92-421a-8c06-3ecfa7366049",
   "metadata": {},
   "source": [
    "# Question 36"
   ]
  },
  {
   "cell_type": "markdown",
   "id": "2e09507d-88aa-4768-87f1-973ba9f57fd3",
   "metadata": {},
   "source": [
    "Replace every element in a list with its square"
   ]
  },
  {
   "cell_type": "code",
   "execution_count": null,
   "id": "ee96dc3d-082b-4d1c-981a-988bcc85dcfe",
   "metadata": {},
   "outputs": [],
   "source": []
  },
  {
   "cell_type": "code",
   "execution_count": 407,
   "id": "4857fd16-1354-44b6-950f-e1031acdbf1b",
   "metadata": {},
   "outputs": [
    {
     "name": "stdout",
     "output_type": "stream",
     "text": [
      "[1, 4, 9, 16, 25]\n"
     ]
    }
   ],
   "source": [
    "def square_list(list_1): # user defined function created\n",
    "  for i in range(len(list_1)): #for loop is used for this case\n",
    "    list_1[i] = list_1[i] ** 2 # implementing square value\n",
    "\n",
    "my_list = [1, 2, 3, 4, 5] #takking a list for checking the program\n",
    "square_list(my_list)\n",
    "print(my_list)"
   ]
  },
  {
   "cell_type": "code",
   "execution_count": null,
   "id": "79e00a35-2ecc-47d6-a4e7-2c42d09e7035",
   "metadata": {},
   "outputs": [],
   "source": []
  },
  {
   "cell_type": "markdown",
   "id": "2c45879f-6a42-46e3-b740-ae2f376e65e1",
   "metadata": {},
   "source": [
    "# Question 37"
   ]
  },
  {
   "cell_type": "markdown",
   "id": "10a8577e-52ae-4a14-a756-03a9ed51fcb0",
   "metadata": {},
   "source": [
    "Convert a list to a dictionary where list elements become keys and their indices become values"
   ]
  },
  {
   "cell_type": "code",
   "execution_count": 98,
   "id": "d67e8731-4ae1-4b4e-aa3d-fcfd495419b0",
   "metadata": {},
   "outputs": [
    {
     "name": "stdout",
     "output_type": "stream",
     "text": [
      "{0: 'Kolkata', 1: 'Chennai', 2: 'Delhi', 3: 'Pune', 4: 'Bangalore', 5: 'Mumbai'}\n"
     ]
    }
   ],
   "source": [
    "# we can use enumerate() function to perform this question \n",
    "# here we take a list of cities in which we can perform enumerate() function\n",
    "city = ['Kolkata', 'Chennai', 'Delhi', 'Pune', 'Bangalore', 'Mumbai',]\n",
    "\n",
    "\n",
    "city_dict = dict(enumerate(city)) #using enumerate() function and typecasting with dictionary to get the dictionary from the list \n",
    "\n",
    "\n",
    "print(city_dict) #printing the converted list to dictionary"
   ]
  },
  {
   "cell_type": "code",
   "execution_count": null,
   "id": "cb1280ff-32c4-4c78-9ffc-81d296047efb",
   "metadata": {},
   "outputs": [],
   "source": []
  },
  {
   "cell_type": "markdown",
   "id": "3b136899-1ec8-4c06-8271-f42ec985726c",
   "metadata": {},
   "source": [
    "# Question 38"
   ]
  },
  {
   "cell_type": "markdown",
   "id": "a1cfa89e-14c7-4b9e-9cbf-81155fdea6d7",
   "metadata": {},
   "source": [
    "Shuffle the elements of a list randomly"
   ]
  },
  {
   "cell_type": "code",
   "execution_count": 100,
   "id": "ad053cb9-20bd-4e92-beab-4f4766764dc6",
   "metadata": {},
   "outputs": [
    {
     "name": "stdout",
     "output_type": "stream",
     "text": [
      "before shuffling list: ['Bangalore', 'Delhi', 'Kolkata', 'Pune', 'Chennai', 'Mumbai']\n",
      "after shuffling list: ['Delhi', 'Kolkata', 'Mumbai', 'Bangalore', 'Chennai', 'Pune']\n"
     ]
    }
   ],
   "source": [
    "# first we use the city variable in this scenario\n",
    "print(\"before shuffling list:\", city)\n",
    "\n",
    "\n",
    "import random #importing random library for shuffling the variable values\n",
    "\n",
    "random.shuffle(city)  # shuffle() function is applied for this question.\n",
    "\n",
    "print(\"after shuffling list:\", city)"
   ]
  },
  {
   "cell_type": "code",
   "execution_count": null,
   "id": "6345d194-38d9-468c-b112-840d0daacfad",
   "metadata": {},
   "outputs": [],
   "source": []
  },
  {
   "cell_type": "markdown",
   "id": "a37e4649-3b2f-416a-b131-d2909b3f0fb8",
   "metadata": {},
   "source": [
    "# Question 39"
   ]
  },
  {
   "cell_type": "markdown",
   "id": "cea0bfdf-c13a-42d9-b2fc-1a2fb3d9122f",
   "metadata": {},
   "source": [
    "Create a list of the first 10 factorial numbers"
   ]
  },
  {
   "cell_type": "code",
   "execution_count": 101,
   "id": "bffff66f-8565-4be4-8261-2c1dfb6f86a4",
   "metadata": {},
   "outputs": [
    {
     "name": "stdout",
     "output_type": "stream",
     "text": [
      "Factorial of 5 is 120\n"
     ]
    }
   ],
   "source": [
    "# user defined function is created for answering this question\n",
    "def factorial(n):\n",
    "\t\n",
    "\treturn 1 if (n==1 or n==0) else n * factorial(n - 1) #if-else statement used in this case\n",
    "\n",
    "num = 5 # taking a value for checking if the code is working properly or not\n",
    "print(\"Factorial of\",num,\"is\",factorial(num))"
   ]
  },
  {
   "cell_type": "code",
   "execution_count": null,
   "id": "7d7e7fc8-134b-4d81-89ca-b71b8f3dd206",
   "metadata": {},
   "outputs": [],
   "source": []
  },
  {
   "cell_type": "markdown",
   "id": "7b35fa09-9692-48ba-bfe6-5f14e2f5f6a9",
   "metadata": {},
   "source": [
    "# Question 40"
   ]
  },
  {
   "cell_type": "markdown",
   "id": "0be6dbb2-061a-491f-b530-2c4619f30c49",
   "metadata": {},
   "source": [
    "Check if two lists have at least one element in common"
   ]
  },
  {
   "cell_type": "code",
   "execution_count": 104,
   "id": "ab6583cc-da24-43e7-906a-9062aef93d31",
   "metadata": {},
   "outputs": [
    {
     "name": "stdout",
     "output_type": "stream",
     "text": [
      "True\n",
      "False\n"
     ]
    }
   ],
   "source": [
    "# first we need an user defined function\n",
    "def common_member(a, b):\n",
    "    a_set = set(a) \n",
    "    b_set = set(b)#chaging the value of a and b in set to remove any duplicate value\n",
    "    \n",
    "    \n",
    "    if (a_set & b_set): \n",
    "        return True\n",
    "    else:\n",
    "        return False # if there are values common then it returns true, else false\n",
    "    \n",
    "    \n",
    "# testing the code using sample lists\n",
    "\n",
    "a = [1, 2, 3, 4, 5]\n",
    "b = [5, 6, 7, 8, 9]\n",
    "print(common_member(a, b)) #here will return true for having one common member which is 5\n",
    "\n",
    "\n",
    "\n",
    "# testing the code using another sample lists\n",
    "a =[1, 2, 3, 4, 5]\n",
    "b =[6, 7, 8, 9]\n",
    "print(common_member(a, b)) # here will return false for not having any common member"
   ]
  },
  {
   "cell_type": "code",
   "execution_count": null,
   "id": "5f984fa6-b14d-481f-bb9e-caf439fdc0b0",
   "metadata": {},
   "outputs": [],
   "source": []
  },
  {
   "cell_type": "markdown",
   "id": "63cf874c-f548-46b7-8dc0-83aa00059352",
   "metadata": {},
   "source": [
    "# Question 41"
   ]
  },
  {
   "cell_type": "markdown",
   "id": "f042cf22-f2f5-4977-85d7-4fed049858e0",
   "metadata": {},
   "source": [
    "Remove all elements from a list."
   ]
  },
  {
   "cell_type": "code",
   "execution_count": 105,
   "id": "353c30ef-a8b4-483a-85e1-d2b4585aed56",
   "metadata": {},
   "outputs": [
    {
     "data": {
      "text/plain": [
       "[]"
      ]
     },
     "execution_count": 105,
     "metadata": {},
     "output_type": "execute_result"
    }
   ],
   "source": [
    "# first we need a list \n",
    "list_1 = [7,2,5,4,6,7,5,4,1,2,3,5,4,21,4]\n",
    "\n",
    "\n",
    "# we can use clear() function to clear all the elements from the list\n",
    "list_1.clear()\n",
    "\n",
    "\n",
    "# printing the list_1 again for cheking the values present in the list or not\n",
    "list_1"
   ]
  },
  {
   "cell_type": "code",
   "execution_count": null,
   "id": "daf45ee6-06c7-45ab-915d-902015237401",
   "metadata": {},
   "outputs": [],
   "source": []
  },
  {
   "cell_type": "markdown",
   "id": "3406ac6c-9831-451a-9d72-43cf935ff85c",
   "metadata": {},
   "source": [
    "# Question 42"
   ]
  },
  {
   "cell_type": "markdown",
   "id": "cc2d848b-94f5-4433-89fb-95413ffe8bb6",
   "metadata": {},
   "source": [
    "Replace negative numbers in a list with 0"
   ]
  },
  {
   "cell_type": "code",
   "execution_count": 106,
   "id": "50060a55-6534-4c91-a2f3-12bd8c66b1ff",
   "metadata": {},
   "outputs": [
    {
     "name": "stdout",
     "output_type": "stream",
     "text": [
      "initial list [ 1  2 -3  4 -5 -6]\n",
      "new  list:  [1 2 0 4 0 0]\n"
     ]
    }
   ],
   "source": [
    "# first we need to import numpy for this operation\n",
    "# importing numpy and store the library named np\n",
    "import numpy as np\n",
    "\n",
    "ini_list = np.array([1, 2, -3, 4, -5, -6]) # taking initial list with some negative integer named ini_list\n",
    "\n",
    "\n",
    "print(\"initial list\", ini_list) #printing the initial list\n",
    "\n",
    "\n",
    "ini_list[ini_list<0] = 0 # for replacing all the negative values into 0\n",
    "\n",
    "# printing result\n",
    "print(\"new  list: \", ini_list)"
   ]
  },
  {
   "cell_type": "code",
   "execution_count": null,
   "id": "584c3bff-2de7-4de0-a1c0-d0c6b3fb03b5",
   "metadata": {},
   "outputs": [],
   "source": []
  },
  {
   "cell_type": "markdown",
   "id": "ff4997ae-c115-45ae-8d3b-ece148e16d60",
   "metadata": {},
   "source": [
    "# Question 43"
   ]
  },
  {
   "cell_type": "markdown",
   "id": "655eff6b-217a-441a-b1b6-1fd6807e9ffa",
   "metadata": {},
   "source": [
    "Convert a string into a list of words"
   ]
  },
  {
   "cell_type": "code",
   "execution_count": 108,
   "id": "bd09d3c0-b036-478b-b7f2-322de2fe7a18",
   "metadata": {},
   "outputs": [
    {
     "name": "stdout",
     "output_type": "stream",
     "text": [
      "the string is: pwskills\n",
      "after changing the string into list: ['p', 'w', 's', 'k', 'i', 'l', 'l', 's']\n"
     ]
    }
   ],
   "source": [
    "# changing string into list by converting string into list.\n",
    "s = \"pwskills\"\n",
    "\n",
    "# printing the string\n",
    "print(\"the string is:\", s)\n",
    "\n",
    "x = list(s)\n",
    "\n",
    "print(\"after changing the string into list:\", x)"
   ]
  },
  {
   "cell_type": "code",
   "execution_count": null,
   "id": "9b170c71-a7e3-439d-938a-bfff25b79fdb",
   "metadata": {},
   "outputs": [],
   "source": []
  },
  {
   "cell_type": "markdown",
   "id": "1ba7c03e-b040-45a5-8c0f-007ae1cb49e3",
   "metadata": {},
   "source": [
    "# Question 44"
   ]
  },
  {
   "cell_type": "markdown",
   "id": "56d0f8d0-6fa5-4557-8ede-97b59aedda53",
   "metadata": {},
   "source": [
    "Convert a list of words into a string"
   ]
  },
  {
   "cell_type": "code",
   "execution_count": 110,
   "id": "4924853c-67e7-4c36-bf98-5a5fdd57374c",
   "metadata": {},
   "outputs": [
    {
     "name": "stdout",
     "output_type": "stream",
     "text": [
      "['I', 'want', 'to', 'buy', 'apples', 'and', 'bananas']\n",
      "after converting list to string: I want to buy apples and bananas\n"
     ]
    }
   ],
   "source": [
    "# converting list of words into strings\n",
    "\n",
    "\n",
    "list_1 = ['I', 'want', 'to', 'buy', 'apples', 'and', 'bananas']\n",
    "\n",
    "# printing the list\n",
    "print(list_1)\n",
    "\n",
    "Str_1 = ' '.join([str(elem) for elem in list_1]) #joining elements of the list\n",
    "\n",
    "print(\"after converting list to string:\", Str_1) #printing the string"
   ]
  },
  {
   "cell_type": "code",
   "execution_count": null,
   "id": "493891ce-36d9-4fb5-b187-4961403766f6",
   "metadata": {},
   "outputs": [],
   "source": []
  },
  {
   "cell_type": "markdown",
   "id": "f02b0dcf-9b50-4a8d-8f52-e240f09bdc8b",
   "metadata": {},
   "source": [
    "# Question 45"
   ]
  },
  {
   "cell_type": "markdown",
   "id": "f4bbec6b-fc18-41aa-8555-e3070fb083fc",
   "metadata": {},
   "source": [
    "Create a list of the first `n` powers of 2"
   ]
  },
  {
   "cell_type": "code",
   "execution_count": 111,
   "id": "5a30d6d3-52a3-48d3-bf03-27731de7b0d9",
   "metadata": {},
   "outputs": [
    {
     "name": "stdin",
     "output_type": "stream",
     "text": [
      "Enter the Total Number of Terms:  4\n"
     ]
    },
    {
     "name": "stdout",
     "output_type": "stream",
     "text": [
      "2 raised to the power  0  is  1\n",
      "2 raised to the power  1  is  2\n",
      "2 raised to the power  2  is  4\n",
      "2 raised to the power  3  is  8\n"
     ]
    }
   ],
   "source": [
    "# first we need to put a value of n\n",
    "# we can use user input in this scenario\n",
    "n = int(input(\"Enter the Total Number of Terms: \"))\n",
    "\n",
    "\n",
    "for i in range(n):\n",
    "    print(\"2 raised to the power \", i, \" is \", 2 ** i) # for loop can be used in this scenario "
   ]
  },
  {
   "cell_type": "code",
   "execution_count": null,
   "id": "0f7ebfae-23df-4651-8ed1-cea81fb60891",
   "metadata": {},
   "outputs": [],
   "source": []
  },
  {
   "cell_type": "markdown",
   "id": "28a481ca-fe64-4aa6-86b6-6c2407a06e6f",
   "metadata": {},
   "source": [
    "# Question 46"
   ]
  },
  {
   "cell_type": "markdown",
   "id": "eb65ed01-9cb5-4279-a73c-0dcaf8ea3f50",
   "metadata": {},
   "source": [
    "Find the longest string in a list of strings"
   ]
  },
  {
   "cell_type": "code",
   "execution_count": 113,
   "id": "896186f2-f847-4be4-9454-abe1cd0f90c0",
   "metadata": {},
   "outputs": [
    {
     "name": "stdout",
     "output_type": "stream",
     "text": [
      "['Delhi', 'Kolkata', 'Mumbai', 'Bangalore', 'Chennai', 'Pune']\n",
      "Longest string is : Bangalore\n"
     ]
    }
   ],
   "source": [
    "# for finding longest string, len() function can be used\n",
    "# we take city variable for executing this coding\n",
    "print(city)\n",
    "\n",
    "\n",
    "lengths = [len(s) for s in city] #finding the lengths of the values in the list\n",
    "\n",
    "\n",
    "longest_index = lengths.index(max(lengths)) # for longest index values\n",
    "\n",
    "\n",
    "longest_string = city[longest_index] #for longest string\n",
    "\n",
    "\n",
    "print(\"Longest string is : \" + longest_string) # now printing the longest string"
   ]
  },
  {
   "cell_type": "code",
   "execution_count": null,
   "id": "b6c3a4d2-805b-48ca-b53c-a48d04e47991",
   "metadata": {},
   "outputs": [],
   "source": []
  },
  {
   "cell_type": "markdown",
   "id": "4f88d0b8-969b-452a-a5a5-76b60fa83188",
   "metadata": {},
   "source": [
    "# Question 47"
   ]
  },
  {
   "cell_type": "markdown",
   "id": "27a43406-a826-4d06-88fa-ecc8a2e36b04",
   "metadata": {},
   "source": [
    "Find the shortest string in a list of strings"
   ]
  },
  {
   "cell_type": "code",
   "execution_count": 115,
   "id": "8f5ec38b-357c-480d-aceb-d5f575727967",
   "metadata": {},
   "outputs": [
    {
     "name": "stdout",
     "output_type": "stream",
     "text": [
      "['Delhi', 'Kolkata', 'Mumbai', 'Bangalore', 'Chennai', 'Pune']\n",
      "Shortest string is : Pune\n"
     ]
    }
   ],
   "source": [
    "# for finding shortest string, len() function can be used\n",
    "# we take city variable for executing this coding\n",
    "print(city)\n",
    "\n",
    "lengths = [len(s) for s in city] #finding the lengths of the values in the list\n",
    "\n",
    "\n",
    "shortest_index = lengths.index(min(lengths)) # for shortest index values\n",
    "\n",
    "\n",
    "shortest_string = city[shortest_index] #for shortest string\n",
    "\n",
    "\n",
    "print(\"Shortest string is : \" + shortest_string) # now printing the shortest string\n"
   ]
  },
  {
   "cell_type": "code",
   "execution_count": null,
   "id": "e4da3d4c-4d16-480f-9a8d-a110ec85d070",
   "metadata": {},
   "outputs": [],
   "source": []
  },
  {
   "cell_type": "markdown",
   "id": "2383eeda-6cfc-433b-9c76-f449939a9cf8",
   "metadata": {},
   "source": [
    "# Question 48"
   ]
  },
  {
   "cell_type": "markdown",
   "id": "3305561d-3f11-4544-ac04-9ae5eb36da3b",
   "metadata": {},
   "source": [
    "Create a list of the first `n` triangular numbers"
   ]
  },
  {
   "cell_type": "code",
   "execution_count": 123,
   "id": "029037b1-8d5f-4001-ba2b-af7ed55054e0",
   "metadata": {},
   "outputs": [
    {
     "name": "stdout",
     "output_type": "stream",
     "text": [
      "[1, 3, 6, 10, 15]\n"
     ]
    }
   ],
   "source": [
    "# for answering this question, an user defined function can be created\n",
    "def generate_t_num_list(n):\n",
    "    t_num_list = [] # an empty list is produced\n",
    "    for i in range(1, n + 1):\n",
    "        t_num = i * (i + 1) // 2\n",
    "        t_num_list.append(t_num) # all the values are added in the t_numbers_list\n",
    "    return t_num_list\n",
    "\n",
    "# Generate the first n triangular numbers (here, n number is taken as 5)\n",
    "n = 5\n",
    "first_5_triangular_numbers_list = generate_t_num_list(n)\n",
    "\n",
    "# Print the list\n",
    "print(first_5_triangular_numbers_list)"
   ]
  },
  {
   "cell_type": "code",
   "execution_count": null,
   "id": "54d81c0f-e4b7-42d2-8843-17eab7a33ee5",
   "metadata": {},
   "outputs": [],
   "source": []
  },
  {
   "cell_type": "markdown",
   "id": "1d2ff3f4-40b5-4899-a8c1-76361511e1a6",
   "metadata": {},
   "source": [
    "# Question 49"
   ]
  },
  {
   "cell_type": "markdown",
   "id": "4073e3e0-e9ec-4736-a625-be2d04f7609d",
   "metadata": {},
   "source": [
    "Check if a list contains another list as a subsequence"
   ]
  },
  {
   "cell_type": "code",
   "execution_count": 124,
   "id": "7950a2a4-a120-4978-ac3c-ad0162f0f8a3",
   "metadata": {},
   "outputs": [
    {
     "name": "stdout",
     "output_type": "stream",
     "text": [
      "Original list : [9, 4, 5, 8, 10]\n",
      "Original sub list : [10, 5]\n",
      "Yes, list is subset of other.\n"
     ]
    }
   ],
   "source": [
    "# taking a test list and a subsequnt list\n",
    "t_list = [9, 4, 5, 8, 10]\n",
    "sub_list = [10, 5]\n",
    "\n",
    "# printing the lists\n",
    "print(\"Original list : \" + str(t_list))\n",
    "print(\"Original sub list : \" + str(sub_list))\n",
    "\n",
    "flag = 0\n",
    "if(set(sub_list).issubset(set(t_list))):\n",
    "\tflag = 1 # checking subsets of lists\n",
    "    \n",
    "    \n",
    "# printing result\n",
    "if (flag):\n",
    "\tprint(\"Yes, list is subset of other.\")\n",
    "else:\n",
    "\tprint(\"No, list is not subset of other.\")"
   ]
  },
  {
   "cell_type": "code",
   "execution_count": null,
   "id": "72484621-e399-4895-8f30-4eccd05fe32b",
   "metadata": {},
   "outputs": [],
   "source": []
  },
  {
   "cell_type": "markdown",
   "id": "972a60c4-af49-46ce-94c4-501bb0ec2d86",
   "metadata": {},
   "source": [
    "# Question 50"
   ]
  },
  {
   "cell_type": "markdown",
   "id": "e0ca0fdf-745b-44e9-9014-76a4e6b4db8c",
   "metadata": {},
   "source": [
    "Swap two elements in a list by their indices"
   ]
  },
  {
   "cell_type": "code",
   "execution_count": 125,
   "id": "c53e9580-a66d-4979-a58b-f7d995970bec",
   "metadata": {},
   "outputs": [
    {
     "name": "stdout",
     "output_type": "stream",
     "text": [
      "[19, 65, 23, 90]\n"
     ]
    }
   ],
   "source": [
    "# an user defined function defined for this question \n",
    "def swapPositions(list, pos1, pos2):\n",
    "\t\n",
    "\tlist[pos1], list[pos2] = list[pos2], list[pos1]\n",
    "\treturn list\n",
    "\n",
    "# Driver function\n",
    "List = [23, 65, 19, 90]\n",
    "pos1, pos2 = 1, 3 #testing the code\n",
    "\n",
    "print(swapPositions(List, pos1-1, pos2-1)) # printing the value\n"
   ]
  },
  {
   "cell_type": "code",
   "execution_count": null,
   "id": "5d65a8d8-ca8e-4f77-ab56-832927b93d7f",
   "metadata": {},
   "outputs": [],
   "source": []
  },
  {
   "cell_type": "code",
   "execution_count": null,
   "id": "e6fd3a9c-7d09-487c-b8c6-6c980456751b",
   "metadata": {},
   "outputs": [],
   "source": []
  },
  {
   "cell_type": "code",
   "execution_count": null,
   "id": "9f69711d-4d7d-4db8-a47c-3b27064a2aa8",
   "metadata": {},
   "outputs": [],
   "source": []
  },
  {
   "cell_type": "markdown",
   "id": "d6415701-f264-4c8b-a1cb-378092fb6da1",
   "metadata": {},
   "source": [
    "# Tuple Based Practice Problem"
   ]
  },
  {
   "cell_type": "markdown",
   "id": "eb2522a1-bf40-4d0f-91d7-3f2205f5ff0e",
   "metadata": {},
   "source": [
    "# Question 1"
   ]
  },
  {
   "cell_type": "markdown",
   "id": "6d0a75f5-37bf-4bcc-ad5c-4d55397b2570",
   "metadata": {},
   "source": [
    "Create a tuple with integers from 1 to 5."
   ]
  },
  {
   "cell_type": "code",
   "execution_count": 126,
   "id": "b8aa8b5c-3b40-4b3c-85c7-9ff14acbd7f0",
   "metadata": {},
   "outputs": [
    {
     "data": {
      "text/plain": [
       "tuple"
      ]
     },
     "execution_count": 126,
     "metadata": {},
     "output_type": "execute_result"
    }
   ],
   "source": [
    "# creating tuple\n",
    "t = (1,2,3,4,5)\n",
    "\n",
    "# printing the type of variable t\n",
    "type(t)"
   ]
  },
  {
   "cell_type": "code",
   "execution_count": null,
   "id": "2bee007b-b879-4916-8aff-a676a334f842",
   "metadata": {},
   "outputs": [],
   "source": []
  },
  {
   "cell_type": "markdown",
   "id": "64161b28-8866-4e66-841c-014f3a0b7f20",
   "metadata": {},
   "source": [
    "# Question 2"
   ]
  },
  {
   "cell_type": "markdown",
   "id": "3366fadc-70d4-400c-b814-e8b501699285",
   "metadata": {},
   "source": [
    "Access the third element of a tuple"
   ]
  },
  {
   "cell_type": "code",
   "execution_count": 128,
   "id": "9e5b09b5-297c-43eb-92ef-45bd1f26dc62",
   "metadata": {},
   "outputs": [
    {
     "name": "stdout",
     "output_type": "stream",
     "text": [
      "(1, 2, 3, 4, 5)\n"
     ]
    },
    {
     "data": {
      "text/plain": [
       "3"
      ]
     },
     "execution_count": 128,
     "metadata": {},
     "output_type": "execute_result"
    }
   ],
   "source": [
    "# performing the answer of this question, we can use previous tuple\n",
    "print(t)\n",
    "\n",
    "\n",
    "# accessing the third element of the tuple,\n",
    "# since indexing starts from 0, so calling the third element, we have to use index 2\n",
    "t[2]"
   ]
  },
  {
   "cell_type": "code",
   "execution_count": null,
   "id": "064edefa-be06-4268-8ed1-e9eb1572708a",
   "metadata": {},
   "outputs": [],
   "source": []
  },
  {
   "cell_type": "markdown",
   "id": "e5fd3511-ee1b-4131-b14f-e63a5c4bf923",
   "metadata": {},
   "source": [
    "# Question 3"
   ]
  },
  {
   "cell_type": "markdown",
   "id": "532b6d51-fc20-497b-b74f-820e0aa5d037",
   "metadata": {},
   "source": [
    "Find the length of a tuple without using the `len()` function"
   ]
  },
  {
   "cell_type": "code",
   "execution_count": 130,
   "id": "d92127f4-6216-410e-8a78-be3f0234faa0",
   "metadata": {},
   "outputs": [
    {
     "name": "stdout",
     "output_type": "stream",
     "text": [
      "(1, 2, 3, 4, 5)\n",
      "Length of the tuple: 5\n"
     ]
    }
   ],
   "source": [
    "# in this scenario, an user defined function can be created\n",
    "my_tuple = (1, 2, 3, 4, 5)\n",
    "\n",
    "# printing the tuple\n",
    "print(my_tuple)\n",
    "\n",
    "\n",
    "def length_of_tuple(my_tuple):\n",
    "    count = 0\n",
    "    for _ in my_tuple: #for loop can be used in this case\n",
    "        count += 1\n",
    "    return count #returning count value\n",
    "\n",
    "\n",
    "\n",
    "\n",
    "length = length_of_tuple(my_tuple) #length of tuple is stored into length variable\n",
    "print(\"Length of the tuple:\", length) # printing the length"
   ]
  },
  {
   "cell_type": "code",
   "execution_count": null,
   "id": "33d8dabf-ceea-47f2-a15b-4368c7c7d84b",
   "metadata": {},
   "outputs": [],
   "source": []
  },
  {
   "cell_type": "markdown",
   "id": "a4e2601c-5e11-4ac5-8822-85ea8f1c1a2f",
   "metadata": {},
   "source": [
    "# Question 4"
   ]
  },
  {
   "cell_type": "markdown",
   "id": "da16cd42-75c1-4739-b632-d5691b656006",
   "metadata": {},
   "source": [
    "Count the occurrences of an element in a tuple"
   ]
  },
  {
   "cell_type": "code",
   "execution_count": 132,
   "id": "1ed36a83-17fe-4be4-9ced-97fb43bf2af3",
   "metadata": {},
   "outputs": [
    {
     "name": "stdout",
     "output_type": "stream",
     "text": [
      "(1, 5, 4, 7, 5, 9, 6, 2, 3, 4, 7, 5, 1, 2)\n",
      "the element 5 occurs:  3 times\n"
     ]
    }
   ],
   "source": [
    "# for finding occurence of any perticular element (say 5), for loop can be used\n",
    "t1 = (1,5,4,7,5,9,6,2,3,4,7,5,1,2) # taking a tuple of some values\n",
    "\n",
    "\n",
    "# printing the tuples\n",
    "print(t1)\n",
    "\n",
    "\n",
    "x = [i for i in t1 if i == 5] # for loop executed\n",
    "print(\"the element 5 occurs: \", len(x), \"times\") #printing the values"
   ]
  },
  {
   "cell_type": "code",
   "execution_count": null,
   "id": "009d8c34-9236-497e-ac91-13d8df519c5b",
   "metadata": {},
   "outputs": [],
   "source": []
  },
  {
   "cell_type": "markdown",
   "id": "f67c8183-3472-43c1-88ff-f23b42152d91",
   "metadata": {},
   "source": [
    "# Question 5"
   ]
  },
  {
   "cell_type": "markdown",
   "id": "4308ee07-ac64-4ebe-8f4c-f7d046217088",
   "metadata": {},
   "source": [
    "Find the index of the first occurrence of an element in a tuple"
   ]
  },
  {
   "cell_type": "code",
   "execution_count": 136,
   "id": "6d1cb34f-e180-4d8c-a92c-702056886882",
   "metadata": {},
   "outputs": [
    {
     "name": "stdout",
     "output_type": "stream",
     "text": [
      "(4, 2, 5, 6, 7, 5, 7, 3, 9, 5, 7, 5, 1)\n",
      "the first occurence of number 5 in this tuple is: 2\n"
     ]
    }
   ],
   "source": [
    "# index() function can be used in this scenario\n",
    "\n",
    "t3 = ( 4,2,5,6,7,5,7,3,9,5,7,5,1)\n",
    "\n",
    "# printing the tuple\n",
    "print(t3)\n",
    "\n",
    "\n",
    "print(\"the first occurence of number 5 in this tuple is:\", t3.index(5)) #printing the first occurence of 5 number in the tuple"
   ]
  },
  {
   "cell_type": "code",
   "execution_count": null,
   "id": "beb8f817-2cf8-48fa-a79e-890f81687c41",
   "metadata": {},
   "outputs": [],
   "source": []
  },
  {
   "cell_type": "markdown",
   "id": "bc41ba20-c528-46b5-a263-82d9de3933e2",
   "metadata": {},
   "source": [
    "# Question 6"
   ]
  },
  {
   "cell_type": "markdown",
   "id": "d702aa4e-45f3-479b-a093-31e46cb9cd8f",
   "metadata": {},
   "source": [
    "Check if an element exists in a tuple"
   ]
  },
  {
   "cell_type": "code",
   "execution_count": 138,
   "id": "f88515d9-3889-4a60-b42a-e83bf519a564",
   "metadata": {},
   "outputs": [
    {
     "name": "stdout",
     "output_type": "stream",
     "text": [
      "(10, 4, 5, 6, 8)\n",
      "['element 6 is present in tuple']\n"
     ]
    }
   ],
   "source": [
    "# for executing this question, a tuple is created\n",
    "t3 = (10, 4, 5, 6, 8)\n",
    "\n",
    "# printing the tuple\n",
    "print(t3)\n",
    "\n",
    "n = 6  #taking a value which we will find in the tuple\n",
    "\n",
    "x = [i for i in t3 if i == n]  #for loop can be used in this case\n",
    "\n",
    "print([\"element 6 is present in tuple\" if x else \"element 6 is not present in tuple\"]) #printing the value"
   ]
  },
  {
   "cell_type": "code",
   "execution_count": null,
   "id": "5de28cfb-0547-4276-aa29-f649f2af6ca4",
   "metadata": {},
   "outputs": [],
   "source": []
  },
  {
   "cell_type": "markdown",
   "id": "161eb926-4e60-4db8-b3a5-09dc052efb33",
   "metadata": {},
   "source": [
    "# Question 7"
   ]
  },
  {
   "cell_type": "markdown",
   "id": "500e5d8c-6d71-40c1-8293-58b562f1f5f7",
   "metadata": {},
   "source": [
    "Convert a tuple to a list"
   ]
  },
  {
   "cell_type": "code",
   "execution_count": 144,
   "id": "e7cd6aab-3a31-4475-8fe8-46e8fbd2e58f",
   "metadata": {},
   "outputs": [
    {
     "name": "stdout",
     "output_type": "stream",
     "text": [
      "(1, 5, 4, 7, 8, 6, 9, 3, 2, 5, 4, 1, 5, 6, 9, 7, 2, 0)\n",
      "<class 'tuple'>\n",
      "[1, 5, 4, 7, 8, 6, 9, 3, 2, 5, 4, 1, 5, 6, 9, 7, 2, 0]\n",
      "<class 'list'>\n"
     ]
    }
   ],
   "source": [
    "# first we make a tuple for answering this question\n",
    "t1 = (1,5,4,7,8,6,9,3,2,5,4,1,5,6,9,7,2,0)\n",
    "\n",
    "# printing the tuple\n",
    "print(t1)\n",
    "\n",
    "# printing the type of the tuple\n",
    "print(type(t1))\n",
    "\n",
    "# we can simply convert tuple into list by using list() function\n",
    "tuple_to_list = list(t1)\n",
    "\n",
    "\n",
    "# now printing the list\n",
    "print(tuple_to_list)\n",
    "\n",
    "\n",
    "# checking the type of tuple_to_list variable\n",
    "print(type(tuple_to_list))"
   ]
  },
  {
   "cell_type": "code",
   "execution_count": null,
   "id": "2e745747-c40b-446c-8965-7400b548d94e",
   "metadata": {},
   "outputs": [],
   "source": []
  },
  {
   "cell_type": "markdown",
   "id": "9b60b125-269f-4874-b1ac-e338719978c1",
   "metadata": {},
   "source": [
    "# Qusetion 8"
   ]
  },
  {
   "cell_type": "markdown",
   "id": "2c346f06-5b8a-44c0-8cc0-f39117771a6e",
   "metadata": {},
   "source": [
    "Convert a list to a tuple"
   ]
  },
  {
   "cell_type": "code",
   "execution_count": 147,
   "id": "4ba78e8c-9531-4245-b249-060540568a1b",
   "metadata": {},
   "outputs": [
    {
     "name": "stdout",
     "output_type": "stream",
     "text": [
      "[1, 5, 4, 7, 8, 6, 9, 3, 2, 5, 4, 1, 5, 6, 9, 7, 2, 0]\n",
      "<class 'list'>\n",
      "(1, 5, 4, 7, 8, 6, 9, 3, 2, 5, 4, 1, 5, 6, 9, 7, 2, 0)\n",
      "<class 'tuple'>\n"
     ]
    }
   ],
   "source": [
    "# in this scenario, we can use tuple_to_list variable which we obtained in execution of last question\n",
    "print(tuple_to_list)\n",
    "\n",
    "# printing the type of the list printed above\n",
    "print(type(tuple_to_list))\n",
    "\n",
    "\n",
    "# we can convert this list into tuple by using tuple() function\n",
    "list_to_tuple = tuple(tuple_to_list)\n",
    "\n",
    "\n",
    "# printing the value\n",
    "print(list_to_tuple)\n",
    "\n",
    "\n",
    "# checking the type of the variable\n",
    "print(type(list_to_tuple))"
   ]
  },
  {
   "cell_type": "code",
   "execution_count": null,
   "id": "04092164-1c5d-4596-8e43-8e24289aca7a",
   "metadata": {},
   "outputs": [],
   "source": []
  },
  {
   "cell_type": "markdown",
   "id": "5d22fa92-64f2-4286-8a1d-7c7fd7e641dd",
   "metadata": {},
   "source": [
    "# Question 9"
   ]
  },
  {
   "cell_type": "markdown",
   "id": "85919b77-c939-4338-9eb7-e47950e91e92",
   "metadata": {},
   "source": [
    "Unpack the elements of a tuple into variables"
   ]
  },
  {
   "cell_type": "code",
   "execution_count": 150,
   "id": "011952a1-d302-46db-a7e2-00e3ae237c1d",
   "metadata": {},
   "outputs": [
    {
     "name": "stdout",
     "output_type": "stream",
     "text": [
      "(4, 2, 5, 9, 8, 7, 3)\n",
      "4 2 5 9 8 7 3\n"
     ]
    }
   ],
   "source": [
    "# in this scenario, we can make a tuple\n",
    "t3 = (4,2,5,9,8,7,3)\n",
    "\n",
    "\n",
    "# printing the tuple\n",
    "print(t3)\n",
    "\n",
    "\n",
    "# now unpacking elements into variables\n",
    "a,b,c,d,e,f,g = t3\n",
    "\n",
    "\n",
    "# printing the variables to check the elements are unpacked or not\n",
    "print(a,b,c,d,e,f,g)"
   ]
  },
  {
   "cell_type": "code",
   "execution_count": null,
   "id": "ed6147fd-a8cf-4c61-84d5-67f780b1bc88",
   "metadata": {},
   "outputs": [],
   "source": []
  },
  {
   "cell_type": "markdown",
   "id": "15a916d7-7f6f-45b2-ae24-921b94f72626",
   "metadata": {},
   "source": [
    "# Question 10"
   ]
  },
  {
   "cell_type": "markdown",
   "id": "a1fa34aa-7ef3-41f4-884a-34fd0d5bfd68",
   "metadata": {},
   "source": [
    "Create a tuple of even numbers from 1 to 10"
   ]
  },
  {
   "cell_type": "code",
   "execution_count": 151,
   "id": "a092a4d8-8c72-47dc-8f12-1f4af4fb2933",
   "metadata": {},
   "outputs": [
    {
     "name": "stdout",
     "output_type": "stream",
     "text": [
      "(2, 4, 6, 8, 10)\n"
     ]
    }
   ],
   "source": [
    "# we can use tuple() function to create a tuple\n",
    "#for loop can be executed in this scenario\n",
    "even_number = tuple(x for x in range(2, 11, 2))\n",
    "\n",
    "\n",
    "# printing the value\n",
    "print(even_number)"
   ]
  },
  {
   "cell_type": "code",
   "execution_count": null,
   "id": "e78e2aae-0cfa-41e6-95ed-3300de0bf227",
   "metadata": {},
   "outputs": [],
   "source": []
  },
  {
   "cell_type": "markdown",
   "id": "55b38f34-5abd-4e62-a91b-9eac59427e6d",
   "metadata": {},
   "source": [
    "# Question 11"
   ]
  },
  {
   "cell_type": "markdown",
   "id": "7e65e811-7aa0-4774-ab06-197dd9198aea",
   "metadata": {},
   "source": [
    "Create a tuple of odd numbers from 1 to 10"
   ]
  },
  {
   "cell_type": "code",
   "execution_count": 157,
   "id": "a8db1f3e-6767-4e7e-8a29-6fe1124375b8",
   "metadata": {},
   "outputs": [
    {
     "name": "stdout",
     "output_type": "stream",
     "text": [
      "(1, 3, 5, 7, 9)\n"
     ]
    }
   ],
   "source": [
    "# we can use tuple() function to create a tuple\n",
    "#for loop can be executed in this scenario\n",
    "odd_number = tuple(x for x in range(1, 11, 2))\n",
    "\n",
    "\n",
    "# printing the value\n",
    "print(odd_number)"
   ]
  },
  {
   "cell_type": "code",
   "execution_count": null,
   "id": "05b30d16-4d9d-424b-b6cb-d4c6ae8f4b94",
   "metadata": {},
   "outputs": [],
   "source": []
  },
  {
   "cell_type": "markdown",
   "id": "85e4295d-6f7a-40e1-8e6d-e7f1d9d02d32",
   "metadata": {},
   "source": [
    "# Question 12"
   ]
  },
  {
   "cell_type": "markdown",
   "id": "c09d6122-8584-45ad-8546-122dc7455bcf",
   "metadata": {},
   "source": [
    "Concatenate two tuples"
   ]
  },
  {
   "cell_type": "code",
   "execution_count": 159,
   "id": "3fb92bf2-126e-4965-9472-296571ee5cf7",
   "metadata": {},
   "outputs": [
    {
     "name": "stdout",
     "output_type": "stream",
     "text": [
      "tuple1: (1, 2, 3, 4, 5)\n",
      "tuple2: (6, 7, 8, 9, 10)\n",
      "after concatination, new tuple: (1, 2, 3, 4, 5, 6, 7, 8, 9, 10)\n"
     ]
    }
   ],
   "source": [
    "# first we create two tuples of some value\n",
    "t2 = (1,2,3,4,5)\n",
    "t3 = (6,7,8,9,10)\n",
    "\n",
    "\n",
    "# printing both tuples\n",
    "print(\"tuple1:\", t2)\n",
    "print(\"tuple2:\", t3)\n",
    "\n",
    "\n",
    "# now concatinating two tuple\n",
    "concat = t2+t3\n",
    "\n",
    "\n",
    "# printing the new tuple\n",
    "print(\"after concatination, new tuple:\",concat)"
   ]
  },
  {
   "cell_type": "code",
   "execution_count": null,
   "id": "620cae4b-42b3-4bbe-be84-908d161751a1",
   "metadata": {},
   "outputs": [],
   "source": []
  },
  {
   "cell_type": "markdown",
   "id": "fd510812-1851-4f17-af6d-7866c25ad5a2",
   "metadata": {},
   "source": [
    "# Question 13"
   ]
  },
  {
   "cell_type": "markdown",
   "id": "590f8eef-f696-4618-96e3-4466fbb78226",
   "metadata": {},
   "source": [
    "Repeat a tuple three times"
   ]
  },
  {
   "cell_type": "code",
   "execution_count": 164,
   "id": "93848c5e-c819-40e3-ba33-db770393bb44",
   "metadata": {},
   "outputs": [
    {
     "name": "stdout",
     "output_type": "stream",
     "text": [
      "(1, 2, 3)\n",
      "after repeating 3 times, tuple: (1, 2, 3, 1, 2, 3, 1, 2, 3)\n"
     ]
    }
   ],
   "source": [
    "#making a tuple\n",
    "tuple_1 = (1,2,3)\n",
    "\n",
    "# printing this tuple\n",
    "print(tuple_1)\n",
    "\n",
    "\n",
    "# repeating this tuple 3 times\n",
    "repeat_tuple = tuple_1*3\n",
    "\n",
    "\n",
    "# printing the repeating tuple\n",
    "print(\"after repeating 3 times, tuple:\", repeat_tuple)"
   ]
  },
  {
   "cell_type": "code",
   "execution_count": null,
   "id": "0b17992b-8f4a-4093-8081-c26304c0e5e3",
   "metadata": {},
   "outputs": [],
   "source": []
  },
  {
   "cell_type": "markdown",
   "id": "3ddf1394-8ed3-4191-822c-928ec50889ba",
   "metadata": {},
   "source": [
    "# Question 14"
   ]
  },
  {
   "cell_type": "markdown",
   "id": "ee44184b-97dd-4c90-8190-6882dfb00891",
   "metadata": {},
   "source": [
    "Check if a tuple is empty"
   ]
  },
  {
   "cell_type": "code",
   "execution_count": 166,
   "id": "606de5c3-62ea-439f-9801-7a7921a8622b",
   "metadata": {},
   "outputs": [
    {
     "name": "stdout",
     "output_type": "stream",
     "text": [
      "The tuple_1 is empty\n"
     ]
    }
   ],
   "source": [
    "# we need a tuple for this question\n",
    "tuple_1 = ()\n",
    "\n",
    "\n",
    "# if else statement can be used for this scenario\n",
    "\n",
    "if len(tuple_1) == 0:\n",
    "    print(\"The tuple_1 is empty\")\n",
    "else:\n",
    "    print(\"The tuple_1 is not empty\")"
   ]
  },
  {
   "cell_type": "code",
   "execution_count": null,
   "id": "23416213-bbf8-490d-beee-72a7859bfffd",
   "metadata": {},
   "outputs": [],
   "source": []
  },
  {
   "cell_type": "markdown",
   "id": "c0367152-ebb9-42f4-b98d-b4a30d12214e",
   "metadata": {},
   "source": [
    "# Question 15"
   ]
  },
  {
   "cell_type": "markdown",
   "id": "eb320b6a-d596-48b6-8bb0-5207d9d8772a",
   "metadata": {},
   "source": [
    "Create a nested tuple"
   ]
  },
  {
   "cell_type": "code",
   "execution_count": 170,
   "id": "cf8e4666-289f-4cde-9df8-e0002edf8a51",
   "metadata": {},
   "outputs": [
    {
     "name": "stdout",
     "output_type": "stream",
     "text": [
      "(1, 2, 3)\n",
      "(4, 5, 6)\n",
      "after nested, tuple: (1, 2, 3, 4, 5, 6)\n"
     ]
    }
   ],
   "source": [
    "# first we need two tuple of some values\n",
    "tup1 = (1, 2, 3)\n",
    "tup2 = (4, 5, 6)\n",
    "\n",
    "\n",
    "# printing tuple 1 and 2\n",
    "print(tup1)\n",
    "print(tup2)\n",
    "\n",
    "# making nested tuple\n",
    "nested_tuple = tup1 + tup2\n",
    "\n",
    "\n",
    "#printing nested tuple\n",
    "print(\"after nested, tuple:\", nested_tuple)"
   ]
  },
  {
   "cell_type": "code",
   "execution_count": null,
   "id": "e8156b71-7787-4432-a0d8-a729d8647409",
   "metadata": {},
   "outputs": [],
   "source": []
  },
  {
   "cell_type": "markdown",
   "id": "d4746306-5e3a-464d-96ca-17ab173d5cec",
   "metadata": {},
   "source": [
    "# Question 16"
   ]
  },
  {
   "cell_type": "markdown",
   "id": "0c3cb409-7eb7-4754-8ee8-dff2ddfb108a",
   "metadata": {},
   "source": [
    "Access the first element of a nested tuple"
   ]
  },
  {
   "cell_type": "code",
   "execution_count": 173,
   "id": "1ccbbf0a-3f06-4e8b-80e6-26aa5b563e3c",
   "metadata": {},
   "outputs": [
    {
     "name": "stdout",
     "output_type": "stream",
     "text": [
      "(1, 2, 3, 4, 5, 6)\n",
      "first element of this tuple is: 1\n"
     ]
    }
   ],
   "source": [
    "# in this case, we can take nested_tuple which we made earlier\n",
    "print(nested_tuple)\n",
    "\n",
    "\n",
    "# Accessing the first element\n",
    "print(\"first element of this tuple is:\", nested_tuple[0])"
   ]
  },
  {
   "cell_type": "code",
   "execution_count": null,
   "id": "9d4d9f42-f911-42c8-9dd9-b1ce99e41331",
   "metadata": {},
   "outputs": [],
   "source": []
  },
  {
   "cell_type": "markdown",
   "id": "2fc11e91-1959-4916-be29-e1e0b4a04c81",
   "metadata": {},
   "source": [
    "# Question 17"
   ]
  },
  {
   "cell_type": "markdown",
   "id": "3f80c328-a4c5-4e61-afc1-417512668fa1",
   "metadata": {},
   "source": [
    "Create a tuple with a single element"
   ]
  },
  {
   "cell_type": "code",
   "execution_count": 174,
   "id": "1f266d0b-a44b-488f-bfd2-5a5822fed713",
   "metadata": {},
   "outputs": [
    {
     "name": "stdout",
     "output_type": "stream",
     "text": [
      "(1,)\n"
     ]
    },
    {
     "data": {
      "text/plain": [
       "tuple"
      ]
     },
     "execution_count": 174,
     "metadata": {},
     "output_type": "execute_result"
    }
   ],
   "source": [
    "# Creating a tuple with a single element need a value and comma after the value\n",
    "tup3 = (1,)\n",
    "\n",
    "\n",
    "# printing the tuple\n",
    "print(tup3)\n",
    "\n",
    "# Checking the type of tuple_11 variable\n",
    "type(tup3)"
   ]
  },
  {
   "cell_type": "code",
   "execution_count": null,
   "id": "2437605f-e763-4bcf-b367-2243d4ed6bb8",
   "metadata": {},
   "outputs": [],
   "source": []
  },
  {
   "cell_type": "markdown",
   "id": "6b9fa186-cab7-441d-a249-0cb6edd3ea30",
   "metadata": {},
   "source": [
    "# Question 18"
   ]
  },
  {
   "cell_type": "markdown",
   "id": "b1019eda-7bba-4a83-8839-8e359e51a91b",
   "metadata": {},
   "source": [
    "Compare two tuples"
   ]
  },
  {
   "cell_type": "code",
   "execution_count": 175,
   "id": "1063d6b7-0de8-4216-a676-22ef2bd52ca3",
   "metadata": {},
   "outputs": [
    {
     "name": "stdout",
     "output_type": "stream",
     "text": [
      "the two tuples are in same value\n"
     ]
    }
   ],
   "source": [
    "# in this case we need two tuples with values added in them \n",
    "tup4 = (1,2,3)\n",
    "tup5 = (1,2,3)\n",
    "\n",
    "\n",
    "# writing a code to comparing two tuples\n",
    "\n",
    "if tup4 == tup5:\n",
    "    print(\"the two tuples are in same value\")\n",
    "\n",
    "else:\n",
    "    print(\"the tuples are not in same value\")"
   ]
  },
  {
   "cell_type": "code",
   "execution_count": null,
   "id": "e5802631-9d58-4b1d-ae36-3e26d204b132",
   "metadata": {},
   "outputs": [],
   "source": []
  },
  {
   "cell_type": "markdown",
   "id": "ad524dbc-49bd-4088-badb-c60bcb3c16d6",
   "metadata": {},
   "source": [
    "# Question 19"
   ]
  },
  {
   "cell_type": "markdown",
   "id": "da586a2a-5e4a-4614-9309-72e530e2553c",
   "metadata": {},
   "source": [
    "Delete a tuple"
   ]
  },
  {
   "cell_type": "code",
   "execution_count": 176,
   "id": "93b07589-bcd9-47a8-b8b6-5cb95a867427",
   "metadata": {},
   "outputs": [
    {
     "name": "stdout",
     "output_type": "stream",
     "text": [
      "(1, 2, 3, 4)\n"
     ]
    }
   ],
   "source": [
    "# we can use del operator to delete a tuple\n",
    "# first we need a tuple of some value\n",
    "tup6 = (1,2,3,4)\n",
    "\n",
    "\n",
    "# printing the tuple\n",
    "print(tup6)"
   ]
  },
  {
   "cell_type": "code",
   "execution_count": 177,
   "id": "930a75e7-030d-4f40-a2eb-8b0c4c1b8b70",
   "metadata": {},
   "outputs": [],
   "source": [
    "# now using del operator on the tup6 variable\n",
    "del(tup6)"
   ]
  },
  {
   "cell_type": "code",
   "execution_count": 178,
   "id": "31ca2d0d-62dd-4a7f-bcfc-9ae6ddb8203a",
   "metadata": {},
   "outputs": [
    {
     "ename": "NameError",
     "evalue": "name 'tup6' is not defined",
     "output_type": "error",
     "traceback": [
      "\u001b[0;31m---------------------------------------------------------------------------\u001b[0m",
      "\u001b[0;31mNameError\u001b[0m                                 Traceback (most recent call last)",
      "Cell \u001b[0;32mIn[178], line 2\u001b[0m\n\u001b[1;32m      1\u001b[0m \u001b[38;5;66;03m# now printing tup6 for checking the operator executed properly or not\u001b[39;00m\n\u001b[0;32m----> 2\u001b[0m \u001b[43mtup6\u001b[49m\n",
      "\u001b[0;31mNameError\u001b[0m: name 'tup6' is not defined"
     ]
    }
   ],
   "source": [
    "# now printing tup6 for checking the operator executed properly or not\n",
    "tup6"
   ]
  },
  {
   "cell_type": "code",
   "execution_count": null,
   "id": "234f4c8d-d99b-478c-8328-1e861e752331",
   "metadata": {},
   "outputs": [],
   "source": []
  },
  {
   "cell_type": "markdown",
   "id": "bb02fe4a-4d18-4644-865e-3b16c72b0eec",
   "metadata": {},
   "source": [
    "# Question 20"
   ]
  },
  {
   "cell_type": "markdown",
   "id": "023cce26-c756-4513-ac93-6076322e54bd",
   "metadata": {},
   "source": [
    "Slice a tuple"
   ]
  },
  {
   "cell_type": "code",
   "execution_count": 179,
   "id": "6db8b8e7-2360-4c4b-babf-d50afd3ac91e",
   "metadata": {},
   "outputs": [],
   "source": [
    "# in this scenatio, we need a tuple\n",
    "\n",
    "tup7 = ('a','b','c','d','e','f','g','h','i','j')"
   ]
  },
  {
   "cell_type": "code",
   "execution_count": 180,
   "id": "d2f5c26d-7044-4cf1-8e3b-9d9979f2d9dc",
   "metadata": {},
   "outputs": [
    {
     "data": {
      "text/plain": [
       "('a', 'c')"
      ]
     },
     "execution_count": 180,
     "metadata": {},
     "output_type": "execute_result"
    }
   ],
   "source": [
    "# for slicing we need tuple variable[start:end:jump]\n",
    "\n",
    "tup7[0:4:2]"
   ]
  },
  {
   "cell_type": "code",
   "execution_count": null,
   "id": "e2e3f5ae-e458-4312-b8bf-4e8862177938",
   "metadata": {},
   "outputs": [],
   "source": []
  },
  {
   "cell_type": "markdown",
   "id": "c19964f4-e3fd-4d4f-960c-8eba330efe8c",
   "metadata": {},
   "source": [
    "# Question 21"
   ]
  },
  {
   "cell_type": "markdown",
   "id": "75c9bb28-413b-4028-9900-4247e3386e2e",
   "metadata": {},
   "source": [
    "Find the maximum value in a tuple"
   ]
  },
  {
   "cell_type": "code",
   "execution_count": 181,
   "id": "85916a4e-9abc-453a-9032-951d3aca436a",
   "metadata": {},
   "outputs": [],
   "source": [
    "# first we make a tuple in this scenario\n",
    "\n",
    "tup8 = (1,2,3,4,5,6)"
   ]
  },
  {
   "cell_type": "code",
   "execution_count": 182,
   "id": "ab189e1e-7fba-4958-b2f7-26e44017ee9c",
   "metadata": {},
   "outputs": [
    {
     "data": {
      "text/plain": [
       "6"
      ]
     },
     "execution_count": 182,
     "metadata": {},
     "output_type": "execute_result"
    }
   ],
   "source": [
    "# we can use max() function to find max value of the tuple\n",
    "\n",
    "max(tup8)"
   ]
  },
  {
   "cell_type": "code",
   "execution_count": null,
   "id": "8c857b8e-1601-4b22-b690-7288ccccb552",
   "metadata": {},
   "outputs": [],
   "source": []
  },
  {
   "cell_type": "markdown",
   "id": "a88aec30-4a1f-468b-9c51-8378d513a88c",
   "metadata": {},
   "source": [
    "# Question 22"
   ]
  },
  {
   "cell_type": "markdown",
   "id": "6cab5e71-10c9-4180-b697-137358d0c992",
   "metadata": {},
   "source": [
    "Find the minimum value in a tuple"
   ]
  },
  {
   "cell_type": "code",
   "execution_count": 184,
   "id": "7cbc2e5a-13d0-4533-9dab-02ef148eb2ce",
   "metadata": {},
   "outputs": [],
   "source": [
    "# first we make a tuple in this scenario\n",
    "\n",
    "tup8 = (1,2,3,4,5,6)"
   ]
  },
  {
   "cell_type": "code",
   "execution_count": 185,
   "id": "1ec0aadc-814b-4543-9b2b-1554efb526e7",
   "metadata": {},
   "outputs": [
    {
     "data": {
      "text/plain": [
       "1"
      ]
     },
     "execution_count": 185,
     "metadata": {},
     "output_type": "execute_result"
    }
   ],
   "source": [
    "# we can use min() function to obtain minimum value from a tuple\n",
    "\n",
    "min(tup8)"
   ]
  },
  {
   "cell_type": "code",
   "execution_count": null,
   "id": "d4e2ead9-c3c9-4e2a-a710-4b15cfb6252b",
   "metadata": {},
   "outputs": [],
   "source": []
  },
  {
   "cell_type": "markdown",
   "id": "c3147638-20f5-4079-8119-29667323324c",
   "metadata": {},
   "source": [
    "# Question 23"
   ]
  },
  {
   "cell_type": "markdown",
   "id": "ae8a3b2d-d0d5-481b-b923-a81492e7252c",
   "metadata": {},
   "source": [
    "Convert a string to a tuple of characters"
   ]
  },
  {
   "cell_type": "code",
   "execution_count": 186,
   "id": "ee0a1ba8-1cc7-4817-9c7a-e946f9c58c9f",
   "metadata": {},
   "outputs": [],
   "source": [
    "# in this scenario, we need a string \n",
    "\n",
    "str_11 = \"pwskills is the best platform to learn coding\""
   ]
  },
  {
   "cell_type": "code",
   "execution_count": 187,
   "id": "4c49a925-c0d7-45d0-84e2-3dd5e6384a5e",
   "metadata": {},
   "outputs": [],
   "source": [
    "# converting list to tuple\n",
    "\n",
    "tup9 = tuple(str_11)"
   ]
  },
  {
   "cell_type": "code",
   "execution_count": 188,
   "id": "c9621a06-9e6f-4af7-85d3-12db81dc5f29",
   "metadata": {},
   "outputs": [
    {
     "name": "stdout",
     "output_type": "stream",
     "text": [
      "('p', 'w', 's', 'k', 'i', 'l', 'l', 's', ' ', 'i', 's', ' ', 't', 'h', 'e', ' ', 'b', 'e', 's', 't', ' ', 'p', 'l', 'a', 't', 'f', 'o', 'r', 'm', ' ', 't', 'o', ' ', 'l', 'e', 'a', 'r', 'n', ' ', 'c', 'o', 'd', 'i', 'n', 'g')\n"
     ]
    }
   ],
   "source": [
    "# now printing the tuple\n",
    "\n",
    "print(tup9)"
   ]
  },
  {
   "cell_type": "code",
   "execution_count": null,
   "id": "2f483bc3-5ed1-4e99-9bfb-72fcbd1bf672",
   "metadata": {},
   "outputs": [],
   "source": []
  },
  {
   "cell_type": "markdown",
   "id": "1fbcae68-8c5d-4fb1-a59c-d54090bb6f35",
   "metadata": {},
   "source": [
    "# Question 24"
   ]
  },
  {
   "cell_type": "markdown",
   "id": "a737bf1a-42a9-411b-8894-82c3d080e248",
   "metadata": {},
   "source": [
    "Convert a tuple of characters to a string"
   ]
  },
  {
   "cell_type": "code",
   "execution_count": 189,
   "id": "3769f156-5625-4870-b980-88a40a077bbb",
   "metadata": {},
   "outputs": [
    {
     "name": "stdout",
     "output_type": "stream",
     "text": [
      "('p', 'w', 's', 'k', 'i', 'l', 'l', 's', ' ', 'i', 's', ' ', 't', 'h', 'e', ' ', 'b', 'e', 's', 't', ' ', 'p', 'l', 'a', 't', 'f', 'o', 'r', 'm', ' ', 't', 'o', ' ', 'l', 'e', 'a', 'r', 'n', ' ', 'c', 'o', 'd', 'i', 'n', 'g')\n"
     ]
    }
   ],
   "source": [
    "# in this case we can use the tup9 whicc we made earlier\n",
    "print(tup9)"
   ]
  },
  {
   "cell_type": "code",
   "execution_count": 190,
   "id": "3d9b0cd4-a2fd-438b-a7f4-35af81764ec1",
   "metadata": {},
   "outputs": [],
   "source": [
    "# converting the tuple into string using join() function\n",
    "str_12 = ''.join(tup9)"
   ]
  },
  {
   "cell_type": "code",
   "execution_count": 191,
   "id": "1575ae2e-872a-471e-9a6e-1e671dc8e5f4",
   "metadata": {},
   "outputs": [
    {
     "name": "stdout",
     "output_type": "stream",
     "text": [
      "pwskills is the best platform to learn coding\n"
     ]
    }
   ],
   "source": [
    "# printing the string\n",
    "print(str_12)"
   ]
  },
  {
   "cell_type": "code",
   "execution_count": null,
   "id": "b5ff085e-1086-4b45-b8f1-7b5757b98f98",
   "metadata": {},
   "outputs": [],
   "source": []
  },
  {
   "cell_type": "markdown",
   "id": "2cd1c448-7451-47fe-8ef8-b2898d78b28e",
   "metadata": {},
   "source": [
    "# Question 25"
   ]
  },
  {
   "cell_type": "markdown",
   "id": "09506be1-d3a2-4874-adff-14d6dcd71e15",
   "metadata": {},
   "source": [
    "Create a tuple from multiple data types"
   ]
  },
  {
   "cell_type": "code",
   "execution_count": 192,
   "id": "c58c4f3b-0966-47a6-9bea-80831aba5ebc",
   "metadata": {},
   "outputs": [],
   "source": [
    "# we can use string, integer, boolean, float datatypes in a tuple\n",
    "tup_10 = ('hello', 5, 3.6, True)"
   ]
  },
  {
   "cell_type": "code",
   "execution_count": 193,
   "id": "6789a501-4600-4c51-be8d-37eb7770ec0c",
   "metadata": {},
   "outputs": [
    {
     "name": "stdout",
     "output_type": "stream",
     "text": [
      "('hello', 5, 3.6, True)\n"
     ]
    }
   ],
   "source": [
    "# now printing the tuple\n",
    "print(tup_10)"
   ]
  },
  {
   "cell_type": "code",
   "execution_count": null,
   "id": "0bc00d52-9761-474a-a23a-75bf8de0e720",
   "metadata": {},
   "outputs": [],
   "source": []
  },
  {
   "cell_type": "markdown",
   "id": "6d182b4b-6a19-4ddd-85dd-8311d7df386d",
   "metadata": {},
   "source": [
    "# Question 26"
   ]
  },
  {
   "cell_type": "markdown",
   "id": "6d169b58-2a8e-4c25-b526-f149556e17df",
   "metadata": {},
   "source": [
    "Check if two tuples are identical"
   ]
  },
  {
   "cell_type": "code",
   "execution_count": 197,
   "id": "45fb1042-2fcd-451d-bf8f-690ebca3866b",
   "metadata": {},
   "outputs": [
    {
     "name": "stdout",
     "output_type": "stream",
     "text": [
      "tup_11: (2, 3, 4, 5, 6)\n",
      "tup_12: (2, 3, 4, 5, 6)\n",
      "tuples 'tup_11' and 'tup_12' both are identical\n"
     ]
    }
   ],
   "source": [
    "# in this case we can take two tuples which are identical\n",
    "tup_11 = (2,3,4,5,6)\n",
    "tup_12 = (2,3,4,5,6)\n",
    "\n",
    "\n",
    "# printing the tuples\n",
    "print(\"tup_11:\", tup_11)\n",
    "print(\"tup_12:\", tup_12)\n",
    "\n",
    "\n",
    "# if else statement can be used in this case\n",
    "\n",
    "\n",
    "if tup_11 == tup_12:\n",
    "    print(\"tuples 'tup_11' and 'tup_12' both are identical\")\n",
    "else:\n",
    "    print(\"tuples 'tup_11' and 'tup_12' both are not identical\")"
   ]
  },
  {
   "cell_type": "code",
   "execution_count": null,
   "id": "bc71fa7d-19a3-4a7f-ab0e-b1715031beaa",
   "metadata": {},
   "outputs": [],
   "source": []
  },
  {
   "cell_type": "markdown",
   "id": "0ab66dd6-1f12-4747-a888-31f3f466bf6f",
   "metadata": {},
   "source": [
    "# Question 27"
   ]
  },
  {
   "cell_type": "markdown",
   "id": "33396d9b-9ccf-446b-928c-b68201126961",
   "metadata": {},
   "source": [
    "Sort the elements of a tuple"
   ]
  },
  {
   "cell_type": "code",
   "execution_count": 216,
   "id": "160e17ca-58f5-4fb6-9b9a-baddae1f1b05",
   "metadata": {},
   "outputs": [
    {
     "name": "stdout",
     "output_type": "stream",
     "text": [
      "before sorting tuple: (3, 1, 4, 1, 5, 9, 2, 6, 5, 3, 5)\n",
      "after sorting: (1, 1, 2, 3, 3, 4, 5, 5, 5, 6, 9)\n"
     ]
    }
   ],
   "source": [
    "# Create a tuple\n",
    "tup_13 = (3, 1, 4, 1, 5, 9, 2, 6, 5, 3, 5)\n",
    "\n",
    "\n",
    "#printing the tuple\n",
    "print(\"before sorting tuple:\", tup_13)\n",
    "\n",
    "# Convert the tuple to a list\n",
    "list_13 = list(tup_13)\n",
    "\n",
    "# Sort the list\n",
    "list_13.sort()\n",
    "\n",
    "# Convert the sorted list back to a tuple\n",
    "print(\"after sorting:\", tuple(list_13))\n"
   ]
  },
  {
   "cell_type": "code",
   "execution_count": null,
   "id": "1f882136-e51b-40f9-809a-ba4edd82f98f",
   "metadata": {},
   "outputs": [],
   "source": []
  },
  {
   "cell_type": "markdown",
   "id": "8e3d3b52-bdcc-4d03-897d-999414e17cc8",
   "metadata": {},
   "source": [
    "# Question 28"
   ]
  },
  {
   "cell_type": "markdown",
   "id": "ac774d08-b44a-487a-9a94-05af488deab3",
   "metadata": {},
   "source": [
    "Convert a tuple of integers to a tuple of strings"
   ]
  },
  {
   "cell_type": "code",
   "execution_count": 219,
   "id": "90dfce53-9643-4986-b293-5754357f8eba",
   "metadata": {},
   "outputs": [
    {
     "name": "stdout",
     "output_type": "stream",
     "text": [
      "(2, 5, 4, 7, 9, 5, 6)\n"
     ]
    }
   ],
   "source": [
    "# first we make a tuple of some integers\n",
    "tup_14 = (2,5,4,7,9,5,6)\n",
    "\n",
    "# printing the tuple\n",
    "print(tup_14)"
   ]
  },
  {
   "cell_type": "code",
   "execution_count": 220,
   "id": "56632ca7-1290-478a-a0c6-27af0dcca870",
   "metadata": {},
   "outputs": [],
   "source": [
    "# for loop can be used in this scenario\n",
    "\n",
    "str_tuple = tuple(str(i) for i in tup_14)"
   ]
  },
  {
   "cell_type": "code",
   "execution_count": 221,
   "id": "5cb1490e-e284-4665-95bc-126478af2d51",
   "metadata": {},
   "outputs": [
    {
     "name": "stdout",
     "output_type": "stream",
     "text": [
      "('2', '5', '4', '7', '9', '5', '6')\n"
     ]
    }
   ],
   "source": [
    "# printing the str_tuple\n",
    "\n",
    "print(str_tuple)"
   ]
  },
  {
   "cell_type": "code",
   "execution_count": null,
   "id": "e7794730-9d43-4e6a-813b-c0eae6ca2814",
   "metadata": {},
   "outputs": [],
   "source": []
  },
  {
   "cell_type": "markdown",
   "id": "cf06f562-8821-4ac2-97d0-9367325068e0",
   "metadata": {},
   "source": [
    "# Question 29"
   ]
  },
  {
   "cell_type": "markdown",
   "id": "c55d00d5-9eab-4fe1-bffe-270b065c1889",
   "metadata": {},
   "source": [
    "Convert a tuple of strings to a tuple of integers"
   ]
  },
  {
   "cell_type": "code",
   "execution_count": 222,
   "id": "88096cef-76b3-4e5d-888f-ea45855c570d",
   "metadata": {},
   "outputs": [
    {
     "data": {
      "text/plain": [
       "('2', '5', '4', '7', '9', '5', '6')"
      ]
     },
     "execution_count": 222,
     "metadata": {},
     "output_type": "execute_result"
    }
   ],
   "source": [
    "# in this case we could use the str_tuple\n",
    "str_tuple"
   ]
  },
  {
   "cell_type": "code",
   "execution_count": 223,
   "id": "7c5a9a9a-98ab-49f6-b0ee-80461c3c170a",
   "metadata": {},
   "outputs": [],
   "source": [
    "# for loop can be used in this scenario\n",
    "int_tuple = tuple(int(i) for i in str_tuple)"
   ]
  },
  {
   "cell_type": "code",
   "execution_count": 224,
   "id": "c2c7b250-bf98-4bd0-9bad-404cbf004c72",
   "metadata": {},
   "outputs": [
    {
     "name": "stdout",
     "output_type": "stream",
     "text": [
      "(2, 5, 4, 7, 9, 5, 6)\n"
     ]
    }
   ],
   "source": [
    "# printing the integer tuple\n",
    "print(int_tuple)"
   ]
  },
  {
   "cell_type": "code",
   "execution_count": null,
   "id": "fbc43c62-79be-41af-aa19-e1bedc5dfd4c",
   "metadata": {},
   "outputs": [],
   "source": []
  },
  {
   "cell_type": "markdown",
   "id": "68549cb6-d7f3-41ed-a1b5-a02380dcd05f",
   "metadata": {},
   "source": [
    "# Question 30"
   ]
  },
  {
   "cell_type": "markdown",
   "id": "abe603cd-fab3-47ee-b6f1-b2f88a477aab",
   "metadata": {},
   "source": [
    "Merge two tuples"
   ]
  },
  {
   "cell_type": "code",
   "execution_count": 226,
   "id": "a218ce69-9cfd-4d18-9744-0bbc8558e09d",
   "metadata": {},
   "outputs": [
    {
     "name": "stdout",
     "output_type": "stream",
     "text": [
      "('apple', 'banana', 'orange')\n",
      "('guava', 'watermelon')\n"
     ]
    }
   ],
   "source": [
    "# we can simply use addition sign to merge two tuples\n",
    "# in this scenario, we need two tuples\n",
    "\n",
    "tuple_01 = ('apple','banana','orange')\n",
    "tuple_02 = ('guava', 'watermelon')\n",
    "\n",
    "\n",
    "#printing the two tuples\n",
    "print(tuple_01)\n",
    "print(tuple_02)"
   ]
  },
  {
   "cell_type": "code",
   "execution_count": 227,
   "id": "eee88331-2fe6-48f3-a5b7-e89b3ec0b4f5",
   "metadata": {},
   "outputs": [],
   "source": [
    "# merging two tuples\n",
    "merge_tuple = tuple_01 + tuple_02"
   ]
  },
  {
   "cell_type": "code",
   "execution_count": 228,
   "id": "a60f1589-bef0-43d5-b8ef-6cc484842b5b",
   "metadata": {},
   "outputs": [
    {
     "name": "stdout",
     "output_type": "stream",
     "text": [
      "('apple', 'banana', 'orange', 'guava', 'watermelon')\n"
     ]
    }
   ],
   "source": [
    "# printing merging tuple\n",
    "print(merge_tuple)"
   ]
  },
  {
   "cell_type": "code",
   "execution_count": null,
   "id": "45773307-6976-4914-b665-1f4b532d9dcf",
   "metadata": {},
   "outputs": [],
   "source": []
  },
  {
   "cell_type": "markdown",
   "id": "2713217c-3995-47a0-850a-a19bdad17655",
   "metadata": {},
   "source": [
    "# Question 31"
   ]
  },
  {
   "cell_type": "markdown",
   "id": "fb8d0bde-7b58-4539-8a5b-4c3ac255da04",
   "metadata": {},
   "source": [
    "Flatten a nested tuple"
   ]
  },
  {
   "cell_type": "code",
   "execution_count": 231,
   "id": "cd1aa7c9-f7bb-4c6b-9224-05e275c58bc1",
   "metadata": {},
   "outputs": [
    {
     "name": "stdout",
     "output_type": "stream",
     "text": [
      "nested tuple: ((1, 2), (3, (4, 5)), 6, (7, 8))\n",
      "flatten_tuple: (1, 2, 3, 4, 5, 6, 7, 8)\n"
     ]
    }
   ],
   "source": [
    "# first we need a nested tuple for this case\n",
    "nested_tuple = ((1, 2), (3, (4, 5)), 6, (7, 8))\n",
    "\n",
    "\n",
    "# printing the nested tuple\n",
    "print(\"nested tuple:\", nested_tuple)\n",
    "\n",
    "\n",
    "def flatten_nested_tuple(nested_tuple): # an user defined function is created in this scenario\n",
    "    \n",
    "    flat_list = [] # flat list is made which we will typecast this list into tuple\n",
    "    \n",
    "    for i in nested_tuple: # for loop can be used in this case\n",
    "        \n",
    "        if isinstance(i, tuple):\n",
    "            flat_list.extend(flatten_nested_tuple(i))\n",
    "        else:\n",
    "            flat_list.append(i) #if-else statement also used in this case\n",
    "            \n",
    "    return tuple(flat_list) #making the list into tuple\n",
    "\n",
    "\n",
    "# checking the code\n",
    "\n",
    "flatten_tuple = flatten_nested_tuple(nested_tuple)\n",
    "\n",
    "print(\"flatten_tuple:\", flatten_tuple)"
   ]
  },
  {
   "cell_type": "code",
   "execution_count": null,
   "id": "882d84a3-0b52-4670-8ff9-d132c40c016a",
   "metadata": {},
   "outputs": [],
   "source": []
  },
  {
   "cell_type": "markdown",
   "id": "dc7496b1-f6ae-42d5-860d-7f393b1c5f07",
   "metadata": {},
   "source": [
    "# Question 32 "
   ]
  },
  {
   "cell_type": "markdown",
   "id": "4ad1042f-5478-4c77-814b-f09bcfd03744",
   "metadata": {},
   "source": [
    "Create a tuple of the first 5 prime numbers"
   ]
  },
  {
   "cell_type": "code",
   "execution_count": 232,
   "id": "5ca653f6-1057-48ab-9cbf-c4ef8db19354",
   "metadata": {},
   "outputs": [
    {
     "name": "stdout",
     "output_type": "stream",
     "text": [
      "2\n",
      "3\n",
      "5\n",
      "7\n",
      "11\n"
     ]
    }
   ],
   "source": [
    "# user defined function can be created for this scenario\n",
    "# Defining a function to checking if a number is prime\n",
    "def is_prime(n):\n",
    "    # Checking n is divisible by any number from 2 to (n-1)\n",
    "    for i in range(2, n):\n",
    "        if n % i == 0:\n",
    "            return False\n",
    "    return True\n",
    "\n",
    "\n",
    "# Print the first 5 prime numbers\n",
    "for i in range(2, 12):\n",
    "    if is_prime(i):\n",
    "        print(i)"
   ]
  },
  {
   "cell_type": "code",
   "execution_count": null,
   "id": "71c16a71-2519-4c3c-9290-4f1d7d8d3b24",
   "metadata": {},
   "outputs": [],
   "source": []
  },
  {
   "cell_type": "markdown",
   "id": "a14e6017-f545-4831-9750-0550be5b51ec",
   "metadata": {},
   "source": [
    "# Question 33"
   ]
  },
  {
   "cell_type": "markdown",
   "id": "858e036e-e296-41dc-b6f2-286a3b1170d5",
   "metadata": {},
   "source": [
    "Check if a tuple is a palindrome"
   ]
  },
  {
   "cell_type": "code",
   "execution_count": 234,
   "id": "50129bb9-6be7-46f4-a6fc-6cbda8ac1214",
   "metadata": {},
   "outputs": [
    {
     "name": "stdout",
     "output_type": "stream",
     "text": [
      "(1, 4, 5, 4, 1)\n",
      " this tuple is in palindrome order\n"
     ]
    }
   ],
   "source": [
    "# first we take a normal tuple named n_tuple with some value\n",
    "n_tuple = (1, 4, 5, 4, 1)\n",
    "\n",
    "# printing tuple\n",
    "print(n_tuple)\n",
    "\n",
    "# making a reversed tuple in which the placements of the values of n_tuple gets reversed \n",
    "reversed_tuple = n_tuple[::-1] #reversing the order of element of the tuple\n",
    "\n",
    "if reversed_tuple == n_tuple:\n",
    "    print(\" this tuple is in palindrome order\")\n",
    "else:\n",
    "    print(\" this tuple is not in palindrome order\")\n",
    "\n",
    "# if the tuple value remains same after reversing the order of the tuples, then the tuple is in palindrome order"
   ]
  },
  {
   "cell_type": "code",
   "execution_count": null,
   "id": "c9a5e14a-2ed7-4100-b4c6-f24a4187b4d3",
   "metadata": {},
   "outputs": [],
   "source": []
  },
  {
   "cell_type": "markdown",
   "id": "7c202610-d236-4e81-9920-3550806d5577",
   "metadata": {},
   "source": [
    "# Question 34"
   ]
  },
  {
   "cell_type": "markdown",
   "id": "4bd74d07-1e0a-4aa6-9fb6-afe3e0c0ba2b",
   "metadata": {},
   "source": [
    "Create a tuple of squares of numbers from 1 to 5"
   ]
  },
  {
   "cell_type": "code",
   "execution_count": 236,
   "id": "c2f9f399-402a-48de-8ae7-776491838565",
   "metadata": {},
   "outputs": [
    {
     "name": "stdout",
     "output_type": "stream",
     "text": [
      "(1, 2, 3, 4, 5)\n",
      "square_tuple: (1, 4, 9, 16, 25)\n"
     ]
    }
   ],
   "source": [
    "# first we need a tuple for executing this question\n",
    "tuple_2 = (1,2,3,4,5)\n",
    "\n",
    "\n",
    "# printing the tuple\n",
    "print(tuple_2)\n",
    "\n",
    "\n",
    "\n",
    "# creating a tuple of square values of index of tuple_2\n",
    "square_tuple = tuple(n ** 2 for n in tuple_2)\n",
    "\n",
    "\n",
    "\n",
    "\n",
    "# printing the square_tuple\n",
    "print(\"square_tuple:\", square_tuple)"
   ]
  },
  {
   "cell_type": "code",
   "execution_count": null,
   "id": "b11f09ff-06c2-4dec-964e-c0b17469af4b",
   "metadata": {},
   "outputs": [],
   "source": []
  },
  {
   "cell_type": "markdown",
   "id": "d1336fdf-45d5-4055-ab97-d522d16c39bf",
   "metadata": {},
   "source": [
    "# Question 35"
   ]
  },
  {
   "cell_type": "markdown",
   "id": "9949e3f5-d31d-4cb8-9015-7bef60e5d40a",
   "metadata": {},
   "source": [
    "Filter out all even numbers from a tuple"
   ]
  },
  {
   "cell_type": "code",
   "execution_count": 239,
   "id": "86186d58-26f1-439b-bafb-5fdbd3361122",
   "metadata": {},
   "outputs": [
    {
     "name": "stdout",
     "output_type": "stream",
     "text": [
      "(1, 2, 3, 4, 5, 6, 7, 8, 9, 10)\n",
      "filtered_tuple: (1, 3, 5, 7, 9)\n"
     ]
    }
   ],
   "source": [
    "# we need a tuple for executing this command\n",
    "tuple_3 = (1,2,3,4,5,6,7,8,9,10)\n",
    "\n",
    "# printing tuple\n",
    "print(tuple_3)\n",
    "\n",
    "\n",
    "# Use list comprehension to filter out even numbers\n",
    "filtered_tuple = tuple(x for x in tuple_3 if x % 2 != 0)\n",
    "\n",
    "print(\"filtered_tuple:\", filtered_tuple)"
   ]
  },
  {
   "cell_type": "code",
   "execution_count": null,
   "id": "2ff10d3d-bce6-4a85-8d66-625c171a6586",
   "metadata": {},
   "outputs": [],
   "source": []
  },
  {
   "cell_type": "markdown",
   "id": "353da99c-2b9d-40ca-8e83-4dc96492fc3b",
   "metadata": {},
   "source": [
    "# Question 36"
   ]
  },
  {
   "cell_type": "markdown",
   "id": "c802392b-9550-4b78-bd7d-12d94184fc3c",
   "metadata": {},
   "source": [
    "Multiply all elements in a tuple by 2."
   ]
  },
  {
   "cell_type": "code",
   "execution_count": 244,
   "id": "3b88a626-38c8-4405-a839-a1114559ef4d",
   "metadata": {},
   "outputs": [
    {
     "name": "stdout",
     "output_type": "stream",
     "text": [
      "before multiplying tuple by 2: (1, 2, 3, 4, 5, 6, 7, 8, 9, 10)\n",
      "after multiplying tuple by 2: (2, 4, 6, 8, 10, 12, 14, 16, 18, 20)\n"
     ]
    }
   ],
   "source": [
    "# here we can create a tuple using some values\n",
    "tuple_4 = (1,2,3,4,5,6,7,8,9,10)\n",
    "\n",
    "\n",
    "# printing tuple\n",
    "print(\"before multiplying tuple by 2:\", tuple_4)\n",
    "\n",
    "\n",
    "# Create a new tuple with elements multiplied by 2\n",
    "new_tuple = tuple(x * 2 for x in tuple_4)\n",
    "\n",
    "print(\"after multiplying tuple by 2:\", new_tuple)"
   ]
  },
  {
   "cell_type": "code",
   "execution_count": null,
   "id": "47e1d201-39fd-4d8c-921e-00f9c4cce8f5",
   "metadata": {},
   "outputs": [],
   "source": []
  },
  {
   "cell_type": "markdown",
   "id": "3d6687ed-192a-487c-bcf4-8adf8d300a33",
   "metadata": {},
   "source": [
    "# Question 37"
   ]
  },
  {
   "cell_type": "markdown",
   "id": "0fd9957c-036d-449b-a27d-c48fc136e894",
   "metadata": {},
   "source": [
    "Create a tuple of random numbers"
   ]
  },
  {
   "cell_type": "code",
   "execution_count": 246,
   "id": "9af91375-17ad-475f-aab4-bbbd57e07395",
   "metadata": {},
   "outputs": [
    {
     "name": "stdout",
     "output_type": "stream",
     "text": [
      "(10, 4, 6, 4, 3)\n"
     ]
    }
   ],
   "source": [
    "# this question can be answered by using random library\n",
    "import random # first we need to import random library\n",
    "\n",
    "random_numbers = tuple(random.randint(1, 10) for x in range(5)) #randint() function used for execution of this tuple\n",
    "\n",
    "print(random_numbers) # printing tuples of random numbers"
   ]
  },
  {
   "cell_type": "code",
   "execution_count": null,
   "id": "40c4e9ce-fdad-4895-a6d6-f794dd610cf3",
   "metadata": {},
   "outputs": [],
   "source": []
  },
  {
   "cell_type": "markdown",
   "id": "de58785a-7630-4776-aec0-43d65716ae1f",
   "metadata": {},
   "source": [
    "# Question 38"
   ]
  },
  {
   "cell_type": "markdown",
   "id": "75e3a9db-d531-49ec-b146-9b0136e0a980",
   "metadata": {},
   "source": [
    "Check if a tuple is sorted"
   ]
  },
  {
   "cell_type": "code",
   "execution_count": 250,
   "id": "40f1ca16-bb7e-4578-bc69-2715bd192ad2",
   "metadata": {},
   "outputs": [
    {
     "name": "stdout",
     "output_type": "stream",
     "text": [
      "tuple before sorting: (1, 2, 3, 4, 5, 6, 7, 8)\n",
      "sorted tuple: (1, 2, 3, 4, 5, 6, 7, 8)\n",
      "tuple is sorted\n"
     ]
    }
   ],
   "source": [
    "# first we need a tuple of some values\n",
    "# we can create a tuple \n",
    "\n",
    "normal_tuple = (1,2,3,4,5,6,7,8)\n",
    "\n",
    "# printing tuple\n",
    "print(\"tuple before sorting:\", normal_tuple)\n",
    "\n",
    "\n",
    "sorted_tuple = tuple(sorted(normal_tuple)) # sorting the normal tuple\n",
    "\n",
    "# printing sorted_tuple\n",
    "print(\"sorted tuple:\", sorted_tuple)\n",
    "\n",
    "\n",
    "# if the values of the tuple in sorted order then the tuple is sorted\n",
    "\n",
    "if sorted_tuple == normal_tuple:\n",
    "    print(\"tuple is sorted\")\n",
    "else:\n",
    "    print(\"tuple is not sorted\")"
   ]
  },
  {
   "cell_type": "code",
   "execution_count": null,
   "id": "a5496826-9e07-4726-97f9-4e09251231b0",
   "metadata": {},
   "outputs": [],
   "source": []
  },
  {
   "cell_type": "markdown",
   "id": "dedd0fcd-4942-4bd1-9551-3906771a8d71",
   "metadata": {},
   "source": [
    "# Question 39"
   ]
  },
  {
   "cell_type": "markdown",
   "id": "a57fe4b8-023e-4b11-8564-d4f22cb71035",
   "metadata": {},
   "source": [
    "Rotate a tuple to the left by `n` positions"
   ]
  },
  {
   "cell_type": "code",
   "execution_count": 251,
   "id": "a05557b2-7b10-473b-9bd0-f1d6f88af7c4",
   "metadata": {},
   "outputs": [
    {
     "name": "stdin",
     "output_type": "stream",
     "text": [
      "Enter Position to Left Rotate List Items =  2\n"
     ]
    },
    {
     "name": "stdout",
     "output_type": "stream",
     "text": [
      "Original Tuple Items Before Left Rotating\n",
      "(5, 10, 15, 20, 25, 30, 35, 40, 45, 50)\n",
      "\n",
      "Final List Items After Left Rotating\n",
      "(15, 20, 25, 30, 35, 40, 45, 50, 5, 10)\n"
     ]
    }
   ],
   "source": [
    "lt_tuple = (5, 10, 15, 20, 25, 30, 35, 40, 45, 50) # making a tuple of some integer values\n",
    "\n",
    "lt_list = list(lt_tuple)\n",
    "\n",
    "leftRotate_1 = int(input(\"Enter Position to Left Rotate List Items = \")) #taking a user input function for the 'n'th position rotation\n",
    "\n",
    "print('Original Tuple Items Before Left Rotating')\n",
    "print(tuple(lt_list)) # printing the original tuple\n",
    "\n",
    "lt_list_2 = lt_list[leftRotate_1:] + lt_list[:leftRotate_1]\n",
    "\n",
    "print('\\nFinal List Items After Left Rotating')\n",
    "\n",
    "\n",
    "print(tuple(lt_list_2)) # after ratating the 'n' th position, the final tuple is printed."
   ]
  },
  {
   "cell_type": "code",
   "execution_count": null,
   "id": "7b8fd660-6ad0-4058-986e-55afdcf32cc7",
   "metadata": {},
   "outputs": [],
   "source": []
  },
  {
   "cell_type": "markdown",
   "id": "6a3b223f-e33c-4b54-b0a4-e820abc712bf",
   "metadata": {},
   "source": [
    "# Question 40"
   ]
  },
  {
   "cell_type": "markdown",
   "id": "1a930802-8099-45bd-a995-4f425fe8414a",
   "metadata": {},
   "source": [
    "Rotate a tuple to the right by `n` positions"
   ]
  },
  {
   "cell_type": "code",
   "execution_count": 252,
   "id": "889d67cc-64d7-4b6d-b922-dd5768762484",
   "metadata": {},
   "outputs": [
    {
     "name": "stdin",
     "output_type": "stream",
     "text": [
      "Enter Position to Right Rotate List Items =  2\n"
     ]
    },
    {
     "name": "stdout",
     "output_type": "stream",
     "text": [
      "Original Tuple Items Before Right Rotating:\n",
      "(5, 10, 15, 20, 25, 30, 35, 40, 45, 50)\n",
      "\n",
      "Final Tuple Items After Right Rotating:\n",
      "(45, 50, 5, 10, 15, 20, 25, 30, 35, 40)\n"
     ]
    }
   ],
   "source": [
    "lt_tuple_1 = (5, 10, 15, 20, 25, 30, 35, 40, 45, 50) # making a tuple of some integer values\n",
    "lt_list_1 = list(lt_tuple_1)\n",
    "\n",
    "rightRotate_1 = int(input(\"Enter Position to Right Rotate List Items = \")) #taking a user input function for the 'n'th position rotation\n",
    "\n",
    "print('Original Tuple Items Before Right Rotating:')\n",
    "print(tuple(lt_list_1)) # printing the original list\n",
    "\n",
    "lt_list_3 = lt_list_1[-rightRotate_1:] + lt_list[:-rightRotate_1]\n",
    "\n",
    "\n",
    "print('\\nFinal Tuple Items After Right Rotating:')\n",
    "print(tuple(lt_list_3)) # after ratating the 'n' th position, the final list is printed."
   ]
  },
  {
   "cell_type": "code",
   "execution_count": null,
   "id": "924eb0bb-063c-4e01-b474-73e04b82a5b1",
   "metadata": {},
   "outputs": [],
   "source": []
  },
  {
   "cell_type": "markdown",
   "id": "39fee67f-af93-4877-9f80-b1a915796a56",
   "metadata": {},
   "source": [
    "# Question 41"
   ]
  },
  {
   "cell_type": "markdown",
   "id": "4f4b76b3-c64e-4751-bf1a-dd01ef008ff4",
   "metadata": {},
   "source": [
    "Create a tuple of the first 5 Fibonacci numbers"
   ]
  },
  {
   "cell_type": "code",
   "execution_count": 255,
   "id": "6d71742f-1170-4304-8aa7-2217951ba56b",
   "metadata": {},
   "outputs": [
    {
     "name": "stdout",
     "output_type": "stream",
     "text": [
      "(1, 2, 3, 5, 8)\n"
     ]
    }
   ],
   "source": [
    "# we can use user defined function in this scenario\n",
    "\n",
    "# Function to generate the first n Fibonacci numbers and return them as a tuple\n",
    "def generate_fibonacci(n):\n",
    "    fibonacci_numbers = []\n",
    "    a, b = 1, 2\n",
    "    for _ in range(n):\n",
    "        fibonacci_numbers.append(a) # append function used in this case\n",
    "        a, b = b, a + b\n",
    "    return tuple(fibonacci_numbers) #for returning the values as tuple\n",
    "\n",
    "\n",
    "# Generating the first 5 Fibonacci numbers\n",
    "first_5_fibonacci = generate_fibonacci(5)\n",
    "\n",
    "# Printing the tuple\n",
    "print(first_5_fibonacci)"
   ]
  },
  {
   "cell_type": "code",
   "execution_count": null,
   "id": "4a9dd49c-6a6c-4e7c-a0f9-22e0d1bbc471",
   "metadata": {},
   "outputs": [],
   "source": []
  },
  {
   "cell_type": "markdown",
   "id": "740a7dee-27d2-4360-92be-e08b983127a5",
   "metadata": {},
   "source": [
    "# Question 42"
   ]
  },
  {
   "cell_type": "markdown",
   "id": "d7799b25-e739-457e-8dab-5594cf3ac0b7",
   "metadata": {},
   "source": [
    "Create a tuple from user input"
   ]
  },
  {
   "cell_type": "code",
   "execution_count": 256,
   "id": "a9ad8d97-70c7-44cc-896d-8343a111d8b7",
   "metadata": {},
   "outputs": [
    {
     "name": "stdin",
     "output_type": "stream",
     "text": [
      "Enter the items for the tuple, separated by commas:  1,4,8,7\n"
     ]
    },
    {
     "name": "stdout",
     "output_type": "stream",
     "text": [
      "the tuple from taking user input is:  ('1', '4', '8', '7')\n"
     ]
    }
   ],
   "source": [
    "# first we use input method for making user input tuple\n",
    "\n",
    "user_input = input(\"Enter the items for the tuple, separated by commas: \")\n",
    "\n",
    "# Splitting the user input into  list of strings\n",
    "\n",
    "items = user_input.split(\",\")\n",
    "\n",
    "# Converting the list of strings into tuple\n",
    "\n",
    "tuple_items = tuple(items)\n",
    "\n",
    "# Printing the tuple\n",
    "\n",
    "print(\"the tuple from taking user input is: \", tuple_items)"
   ]
  },
  {
   "cell_type": "code",
   "execution_count": 65,
   "id": "8fd7f948-1fbd-406b-96ca-d315fa461101",
   "metadata": {},
   "outputs": [],
   "source": []
  },
  {
   "cell_type": "markdown",
   "id": "14a159e2-e318-4d84-8ae4-5d104cfc2999",
   "metadata": {},
   "source": [
    "# Question 43"
   ]
  },
  {
   "cell_type": "markdown",
   "id": "2d62389c-f777-47b9-b531-a2240de1db2f",
   "metadata": {},
   "source": [
    "Swap two elements in a tuple"
   ]
  },
  {
   "cell_type": "code",
   "execution_count": 257,
   "id": "3777cda8-7443-493c-b787-2414e7774b8e",
   "metadata": {},
   "outputs": [
    {
     "name": "stdout",
     "output_type": "stream",
     "text": [
      "tuple before swapping: (1, 2)\n",
      "tuple after swapping: (2, 1)\n"
     ]
    }
   ],
   "source": [
    "# first we make a tuple of value 1 and 2\n",
    "tuple_1 = (1, 2)\n",
    "\n",
    "\n",
    "# printing the tuple\n",
    "print(\"tuple before swapping:\", tuple_1)\n",
    "\n",
    "# Creating a list from the tuple\n",
    "list_11 = list(tuple_1)\n",
    "\n",
    "# Swap the elements at index 0 and 1\n",
    "list_11[0], list_11[1] = list_11[1], list_11[0]\n",
    "\n",
    "# Convert the list back to a tuple\n",
    "tuple_2 = tuple(list_11)\n",
    "\n",
    "print(\"tuple after swapping:\", tuple_2)"
   ]
  },
  {
   "cell_type": "code",
   "execution_count": null,
   "id": "82d28ec1-5780-4593-a360-e375550811ed",
   "metadata": {},
   "outputs": [],
   "source": []
  },
  {
   "cell_type": "markdown",
   "id": "23ed775a-da78-45bf-b953-644de9b986c5",
   "metadata": {},
   "source": [
    "# Question 44"
   ]
  },
  {
   "cell_type": "markdown",
   "id": "750db23c-1bad-4dba-91d7-9b6ada966a51",
   "metadata": {},
   "source": [
    "Reverse the elements of a tuple"
   ]
  },
  {
   "cell_type": "code",
   "execution_count": 260,
   "id": "43480c41-59a5-4bcf-a3c7-e8386425dcc7",
   "metadata": {},
   "outputs": [
    {
     "name": "stdout",
     "output_type": "stream",
     "text": [
      "tuple before reversing: ('p', 'w', 's', 'k', 'i', 'l', 'l', 's')\n",
      "tuple after reversing: ('s', 'l', 'l', 'i', 'k', 's', 'w', 'p')\n"
     ]
    }
   ],
   "source": [
    "# an user defined function can be used in this scenario\n",
    "\n",
    "tuples_21 = ('p', 'w', 's', 'k', 'i', 'l', 'l', 's')\n",
    "\n",
    "\n",
    "# printing tuple\n",
    "print(\"tuple before reversing:\", tuples_21)\n",
    "\n",
    "def reverse(tuples): # user defined function implemented\n",
    "    new_tup = tuples[::-1] #jump = -1 for reversing the indexes of the tuple values\n",
    "    return new_tup # returning new tuple values\n",
    "\n",
    "\n",
    "print(\"tuple after reversing:\", reverse(tuples_21)) #printing the values"
   ]
  },
  {
   "cell_type": "code",
   "execution_count": null,
   "id": "879d5041-a532-4f62-9c9a-5e0eb33ad6fa",
   "metadata": {},
   "outputs": [],
   "source": []
  },
  {
   "cell_type": "markdown",
   "id": "549f9890-75e0-4e24-a1b7-e8069155bfa6",
   "metadata": {},
   "source": [
    "# Question 45"
   ]
  },
  {
   "cell_type": "markdown",
   "id": "dce2ba49-b9e0-4fcd-b43b-e50f2cf74ea9",
   "metadata": {},
   "source": [
    "Create a tuple of the first `n` powers of 2"
   ]
  },
  {
   "cell_type": "code",
   "execution_count": 263,
   "id": "8cef9798-6ba6-44d1-be7c-70ad228c2cf0",
   "metadata": {},
   "outputs": [
    {
     "name": "stdout",
     "output_type": "stream",
     "text": [
      "(1, 2, 4, 8, 16)\n"
     ]
    }
   ],
   "source": [
    "# creating a function to generate the first n powers of 2 and return them as a tuple\n",
    "# using an user-defined function named as gen_power_of_2\n",
    "\n",
    "def gen_power_of_2(n):\n",
    "    powers_of_2 = []\n",
    "    for i in range(n): #for loop can be used in this scenario\n",
    "        powers_of_2.append(2 ** i) #appending the values into the list named power_of_2 \n",
    "    return tuple(powers_of_2) #returning the power_of_2 as a tuple\n",
    "\n",
    "# Generating the first n powers of 2 (here, n takes as 5)\n",
    "n = 5\n",
    "first_n_powers_of_2 = gen_power_of_2(n)\n",
    "\n",
    "# Printing the tuple\n",
    "print(first_n_powers_of_2)"
   ]
  },
  {
   "cell_type": "code",
   "execution_count": null,
   "id": "27202c9f-f94d-4072-a12e-7d6b0c23795a",
   "metadata": {},
   "outputs": [],
   "source": []
  },
  {
   "cell_type": "markdown",
   "id": "c5fc526a-d38b-408f-bf7b-04b9136a973f",
   "metadata": {},
   "source": [
    "# Question 46"
   ]
  },
  {
   "cell_type": "markdown",
   "id": "9e573cba-8927-4d72-bc1c-7ccc4dca6796",
   "metadata": {},
   "source": [
    "Find the longest string in a tuple of strings"
   ]
  },
  {
   "cell_type": "code",
   "execution_count": 266,
   "id": "6e1283f6-5887-4a68-a17f-e5094a829797",
   "metadata": {},
   "outputs": [
    {
     "name": "stdout",
     "output_type": "stream",
     "text": [
      "('I', 'am', 'learning', 'data', 'science', 'masters', 'from', 'pw', 'skills')\n",
      "longest string in the tuple is: learning\n"
     ]
    }
   ],
   "source": [
    "# we can make a tuple in this case\n",
    "t11 = ('I', 'am', 'learning', 'data', 'science', 'masters', 'from', 'pw', 'skills')\n",
    "\n",
    "\n",
    "\n",
    "# printing the tuple\n",
    "print(t11)\n",
    "\n",
    "\n",
    "# finding the longest string in this tuple\n",
    "t11_max = max(t11, key = len)\n",
    "\n",
    "\n",
    "# printing the value\n",
    "print(\"longest string in the tuple is:\", t11_max)"
   ]
  },
  {
   "cell_type": "code",
   "execution_count": null,
   "id": "f41c4013-7ea9-45db-9d1c-6db318f1979c",
   "metadata": {},
   "outputs": [],
   "source": []
  },
  {
   "cell_type": "markdown",
   "id": "e6b860d8-7480-4c51-ba13-24dc1d101e56",
   "metadata": {},
   "source": [
    "# Question 47"
   ]
  },
  {
   "cell_type": "markdown",
   "id": "1fe312ed-1fa2-47c7-9158-751e2892f77a",
   "metadata": {},
   "source": [
    "Find the shortest string in a tuple of strings"
   ]
  },
  {
   "cell_type": "code",
   "execution_count": 268,
   "id": "68e5f3db-e51c-4e88-96c6-de7835097ea3",
   "metadata": {},
   "outputs": [
    {
     "name": "stdout",
     "output_type": "stream",
     "text": [
      "('I', 'am', 'learning', 'data', 'science', 'masters', 'from', 'pw', 'skills')\n",
      "shortest string in this tuple is: I\n"
     ]
    }
   ],
   "source": [
    "# we can make a tuple in this case\n",
    "t11 = ('I', 'am', 'learning', 'data', 'science', 'masters', 'from', 'pw', 'skills')\n",
    "\n",
    "\n",
    "# printing the tuple\n",
    "print(t11)\n",
    "\n",
    "\n",
    "# finding the shortest string in this tuple\n",
    "t11_min = min(t11, key = len)\n",
    "\n",
    "\n",
    "# printing the value\n",
    "print(\"shortest string in this tuple is:\", t11_min)"
   ]
  },
  {
   "cell_type": "code",
   "execution_count": null,
   "id": "dfaf24e9-bfdf-42a5-ad99-fc43f4ad05a4",
   "metadata": {},
   "outputs": [],
   "source": []
  },
  {
   "cell_type": "markdown",
   "id": "a1886ac1-917e-4fd2-bd3a-174cf4cbc1ed",
   "metadata": {},
   "source": [
    "# Question 48"
   ]
  },
  {
   "cell_type": "markdown",
   "id": "96b0b2c6-3829-4e95-97e5-b4f93ce39759",
   "metadata": {},
   "source": [
    "Create a tuple of the first `n` triangular numbers"
   ]
  },
  {
   "cell_type": "code",
   "execution_count": 269,
   "id": "71e3def5-25d2-4bc0-877d-10403afd8e01",
   "metadata": {},
   "outputs": [
    {
     "data": {
      "text/plain": [
       "(1, 3, 6, 10, 15)"
      ]
     },
     "execution_count": 269,
     "metadata": {},
     "output_type": "execute_result"
    }
   ],
   "source": [
    "# for answering this question, an user defined function can be created\n",
    "\n",
    "def tri_num(n):\n",
    "  return tuple(i * (i + 1) // 2 for i in range(1, n + 1)) #this creates a tuple of the first n triangular numbers.\n",
    "\n",
    "# checking the user defined function\n",
    "\n",
    "\n",
    "tri_num(5)"
   ]
  },
  {
   "cell_type": "code",
   "execution_count": null,
   "id": "67ebdfbd-eade-46d1-a175-8833e0a18bfe",
   "metadata": {},
   "outputs": [],
   "source": []
  },
  {
   "cell_type": "markdown",
   "id": "ab670255-5fb4-42f8-ad44-87cdf515e5be",
   "metadata": {},
   "source": [
    "# Question 49"
   ]
  },
  {
   "cell_type": "markdown",
   "id": "5dd0638b-39f9-453a-8bcb-8adfdf26561a",
   "metadata": {},
   "source": [
    "Check if a tuple contains another tuple as a subsequence"
   ]
  },
  {
   "cell_type": "code",
   "execution_count": 270,
   "id": "98063769-951e-4f8b-aaa4-65c9a1d06c5b",
   "metadata": {},
   "outputs": [
    {
     "name": "stdout",
     "output_type": "stream",
     "text": [
      "The original tuple 1 : (10, 4, 5, 6)\n",
      "The original tuple 2 : (5, 10)\n",
      "Is 2nd tuple subset of 1st ? : True\n"
     ]
    }
   ],
   "source": [
    "# using issubset() we can check if one tuple is subset of other\n",
    "\n",
    "test_tuple1 = (10, 4, 5, 6)\n",
    "test_tuple2 = (5, 10)\n",
    "\n",
    "\n",
    "# printing original tuples\n",
    "print(\"The original tuple 1 : \" + str(test_tuple1))\n",
    "print(\"The original tuple 2 : \" + str(test_tuple2))\n",
    "\n",
    "\n",
    "# Checking if one tuple is subset of other\n",
    "res = set(test_tuple2).issubset(test_tuple1)\n",
    "\n",
    "\n",
    "# printing the result\n",
    "print(\"Is 2nd tuple subset of 1st ? : \" + str(res))"
   ]
  },
  {
   "cell_type": "code",
   "execution_count": null,
   "id": "1d564081-b8be-4f4e-b917-1f7217d9a4db",
   "metadata": {},
   "outputs": [],
   "source": []
  },
  {
   "cell_type": "markdown",
   "id": "eb8221a3-0465-45d9-8e10-f5f55598f3fc",
   "metadata": {},
   "source": [
    "# Question 50"
   ]
  },
  {
   "cell_type": "markdown",
   "id": "9cdedcbe-7752-468c-9d61-d9993cae3f35",
   "metadata": {},
   "source": [
    "Create a tuple of alternating 1s and 0s of length `n`"
   ]
  },
  {
   "cell_type": "code",
   "execution_count": 271,
   "id": "48a3048f-b202-4ee8-aa45-f9e628a515e5",
   "metadata": {},
   "outputs": [
    {
     "data": {
      "text/plain": [
       "(1, 0, 1, 0, 1, 0, 1, 0, 1, 0)"
      ]
     },
     "execution_count": 271,
     "metadata": {},
     "output_type": "execute_result"
    }
   ],
   "source": [
    "alt_tuple = [] # first we make an empty list named alt_tuple \n",
    "for i in range(10): #for loop used in this scenario\n",
    "    if i % 2 == 0: \n",
    "        alt_tuple.append(1)\n",
    "    else:\n",
    "            alt_tuple.append(0) #if the number is divisible by 2 then add 1 in the alt_tuple list or add 0 to the list\n",
    "\n",
    "tuple(alt_tuple) #typecasting the list into tuple"
   ]
  },
  {
   "cell_type": "code",
   "execution_count": null,
   "id": "c7f3830a-77ab-4af4-a7e7-d4f86ae78437",
   "metadata": {},
   "outputs": [],
   "source": []
  },
  {
   "cell_type": "markdown",
   "id": "9ba0ff60-400a-4f34-acd0-ac40f2d27497",
   "metadata": {},
   "source": [
    "# Set Based Practice Problem"
   ]
  },
  {
   "cell_type": "markdown",
   "id": "c1d52478-3e4d-4c2d-b845-52d4da017c49",
   "metadata": {},
   "source": [
    "# Question 1"
   ]
  },
  {
   "cell_type": "markdown",
   "id": "463e43b0-f5cb-4d9d-9ec6-5e529ad5afd1",
   "metadata": {},
   "source": [
    "Create a set with integers from 1 to 5"
   ]
  },
  {
   "cell_type": "code",
   "execution_count": 272,
   "id": "c4ddb576-0e67-481d-b973-9d1ad9af2fa7",
   "metadata": {},
   "outputs": [
    {
     "name": "stdout",
     "output_type": "stream",
     "text": [
      "{1, 2, 3, 4, 5}\n",
      "<class 'set'>\n"
     ]
    }
   ],
   "source": [
    "# Creating set\n",
    "set_1 = {1,2,3,4,5}\n",
    "\n",
    "\n",
    "# Printing the set and its type\n",
    "print(set_1)\n",
    "print(type(set_1))"
   ]
  },
  {
   "cell_type": "code",
   "execution_count": null,
   "id": "3edc5486-d57e-4260-9247-5a62206eb970",
   "metadata": {},
   "outputs": [],
   "source": []
  },
  {
   "cell_type": "markdown",
   "id": "bfe06669-a725-4cc9-8b36-5e28ef1ce24f",
   "metadata": {},
   "source": [
    "# Question 2"
   ]
  },
  {
   "cell_type": "markdown",
   "id": "55931918-1c0f-42c8-b441-c5fda132c14f",
   "metadata": {},
   "source": [
    "Add an element to a set"
   ]
  },
  {
   "cell_type": "code",
   "execution_count": 275,
   "id": "cea4d5a9-0df0-4014-a25b-5d3866576c7d",
   "metadata": {},
   "outputs": [
    {
     "name": "stdout",
     "output_type": "stream",
     "text": [
      "before adding element to the set: {1, 2, 3, 4, 5, 6}\n",
      "after adding element in the set:  {1, 2, 3, 4, 5, 6, 7}\n"
     ]
    }
   ],
   "source": [
    "# making a set\n",
    "set_2 = {1,2,3,4,5,6}\n",
    "\n",
    "\n",
    "# printing the set \n",
    "print(\"before adding element to the set:\", set_2)\n",
    "\n",
    "\n",
    "# adding an element to the set \n",
    "set_2.add(7)\n",
    "\n",
    "\n",
    "# printing the set again\n",
    "print(\"after adding element in the set: \", set_2)"
   ]
  },
  {
   "cell_type": "code",
   "execution_count": null,
   "id": "ab323922-6045-479b-b401-2f7ca12a32c9",
   "metadata": {},
   "outputs": [],
   "source": []
  },
  {
   "cell_type": "markdown",
   "id": "862f61ad-8826-4b9d-a6a0-4eb9ebbbabff",
   "metadata": {},
   "source": [
    "# Question 3"
   ]
  },
  {
   "cell_type": "markdown",
   "id": "a60fbc03-f498-4646-87c5-4d8112edd108",
   "metadata": {},
   "source": [
    "Remove an element from a set"
   ]
  },
  {
   "cell_type": "code",
   "execution_count": 276,
   "id": "a72bfc72-91e2-437e-9729-93ff9c3cb8fd",
   "metadata": {},
   "outputs": [
    {
     "name": "stdout",
     "output_type": "stream",
     "text": [
      "before removing element from set: {1, 2, 3, 4, 5, 6}\n",
      "after removing element from set: {2, 3, 4, 5, 6}\n"
     ]
    }
   ],
   "source": [
    "# First we need a set \n",
    "set_3 = {1,2,3,4,5,6}\n",
    "\n",
    "\n",
    "# printing the set \n",
    "print(\"before removing element from set:\", set_3)\n",
    "\n",
    "\n",
    "# Removing element from a set \n",
    "set_3.pop()\n",
    "\n",
    "\n",
    "# printing the set again\n",
    "print(\"after removing element from set:\", set_3)"
   ]
  },
  {
   "cell_type": "code",
   "execution_count": null,
   "id": "1593b5e9-6347-462b-9725-5536656abdc0",
   "metadata": {},
   "outputs": [],
   "source": []
  },
  {
   "cell_type": "markdown",
   "id": "c9c34486-19b2-4b69-9ee4-d43476e92b8a",
   "metadata": {},
   "source": [
    "# Question 4"
   ]
  },
  {
   "cell_type": "markdown",
   "id": "25c1f88b-af61-4c19-bccc-fb4e62fc2600",
   "metadata": {},
   "source": [
    "Check if an element exists in a set"
   ]
  },
  {
   "cell_type": "code",
   "execution_count": 277,
   "id": "5129ff49-8353-4f98-b862-51e6eb9296b5",
   "metadata": {},
   "outputs": [
    {
     "name": "stdout",
     "output_type": "stream",
     "text": [
      "yes\n"
     ]
    }
   ],
   "source": [
    "# making a set \n",
    "set_4 = {1,2,3,4}\n",
    "\n",
    "# checking an element prenet in the set or not\n",
    "# if-else statement can be used in this scenario\n",
    "\n",
    "x = 2 # here element takes as 2\n",
    "\n",
    "if x in set_4:\n",
    "    print('yes')\n",
    "else:\n",
    "    print('no')"
   ]
  },
  {
   "cell_type": "code",
   "execution_count": null,
   "id": "e48339de-1d4f-4deb-a4bb-54069c2e71bd",
   "metadata": {},
   "outputs": [],
   "source": []
  },
  {
   "cell_type": "markdown",
   "id": "5eb45cfa-4468-42dc-adc5-8d1d82dccf4c",
   "metadata": {},
   "source": [
    "# Question 5"
   ]
  },
  {
   "cell_type": "markdown",
   "id": "8d3281aa-87e5-4092-a68e-d8d9c9fd2224",
   "metadata": {},
   "source": [
    "Find the length of a set without using the `len()` function"
   ]
  },
  {
   "cell_type": "code",
   "execution_count": 278,
   "id": "f3b0f526-a42f-47a4-b91f-6e55880ba509",
   "metadata": {},
   "outputs": [
    {
     "name": "stdout",
     "output_type": "stream",
     "text": [
      "{1, 2, 3, 4, 5, 6, 7, 8, 9}\n",
      "Length of the set: 9\n"
     ]
    }
   ],
   "source": [
    "# making a set \n",
    "set_5 = {1,2,3,4,5,6,7,8,9}\n",
    "\n",
    "\n",
    "# printing the set \n",
    "print(set_5)\n",
    "\n",
    "\n",
    "# Initializing a count variable for executing this program\n",
    "\n",
    "count = 0\n",
    "\n",
    "# Iterating through the set and counting each element\n",
    "\n",
    "for element in set_5:\n",
    "    count += 1 #for loop used in this scenario\n",
    "\n",
    "# printing length of the set\n",
    "\n",
    "print(\"Length of the set:\", count)"
   ]
  },
  {
   "cell_type": "code",
   "execution_count": null,
   "id": "9a14bd6b-0dd9-4791-ac73-b0be66905901",
   "metadata": {},
   "outputs": [],
   "source": []
  },
  {
   "cell_type": "markdown",
   "id": "fadbdc94-22c3-4674-b3be-c496c6c61ae0",
   "metadata": {},
   "source": [
    "# Question 6"
   ]
  },
  {
   "cell_type": "markdown",
   "id": "ddff4d78-f718-4363-b9d9-1867822cb516",
   "metadata": {},
   "source": [
    "Clear all elements from a set"
   ]
  },
  {
   "cell_type": "code",
   "execution_count": 280,
   "id": "f9a021de-8669-4990-bfb3-b6eee1aa3801",
   "metadata": {},
   "outputs": [
    {
     "name": "stdout",
     "output_type": "stream",
     "text": [
      "before clearing all elements from set: {1, 2, 3, 4, 5, 6}\n",
      "after clearing all elements from set: set()\n"
     ]
    }
   ],
   "source": [
    "# making a set\n",
    "set_6 = {1,2,3,4,5,6}\n",
    "\n",
    "\n",
    "# printing set \n",
    "print(\"before clearing all elements from set:\", set_6)\n",
    "\n",
    "\n",
    "# Clearing all elements from the set\n",
    "set_6.clear()\n",
    "\n",
    "\n",
    "# printing the set again\n",
    "print(\"after clearing all elements from set:\", set_6)"
   ]
  },
  {
   "cell_type": "code",
   "execution_count": null,
   "id": "2ba61345-57f6-4851-a78e-6469ce5c35cb",
   "metadata": {},
   "outputs": [],
   "source": []
  },
  {
   "cell_type": "markdown",
   "id": "02b63fea-6593-45eb-9199-5ef1fe9da48f",
   "metadata": {},
   "source": [
    "# Question 7"
   ]
  },
  {
   "cell_type": "markdown",
   "id": "3d1d03d5-cecd-42da-ad6d-f812d9e0bf6c",
   "metadata": {},
   "source": [
    "Create a set of even numbers from 1 to 10"
   ]
  },
  {
   "cell_type": "code",
   "execution_count": 281,
   "id": "e73215bd-9176-4eff-bbef-b6304cc9cd25",
   "metadata": {},
   "outputs": [
    {
     "name": "stdout",
     "output_type": "stream",
     "text": [
      "{2, 4, 6, 8, 10}\n"
     ]
    }
   ],
   "source": [
    "# range() can be used in this scenario\n",
    "even_set = set(range(2, 11, 2))\n",
    "\n",
    "\n",
    "\n",
    "# Printing the even_set\n",
    "print(even_set)"
   ]
  },
  {
   "cell_type": "code",
   "execution_count": null,
   "id": "e0df7e04-d75d-464b-9b5d-0044f8b3bdc1",
   "metadata": {},
   "outputs": [],
   "source": []
  },
  {
   "cell_type": "markdown",
   "id": "7c75ccc2-6cae-4bae-9ce3-0902930b7421",
   "metadata": {},
   "source": [
    "# Question 8"
   ]
  },
  {
   "cell_type": "markdown",
   "id": "3dddb7c8-c9b5-4677-8506-5e1ea3d33bb8",
   "metadata": {},
   "source": [
    "Create a set of odd numbers from 1 to 10"
   ]
  },
  {
   "cell_type": "code",
   "execution_count": 282,
   "id": "9cd7152c-8513-4237-b215-c57465f0018a",
   "metadata": {},
   "outputs": [
    {
     "name": "stdout",
     "output_type": "stream",
     "text": [
      "{1, 3, 5, 7, 9}\n"
     ]
    }
   ],
   "source": [
    "# range() can be used in this scenario\n",
    "odd_set = set(range(1, 10, 2))\n",
    "\n",
    "\n",
    "\n",
    "# Printing the even_set\n",
    "print(odd_set)"
   ]
  },
  {
   "cell_type": "code",
   "execution_count": null,
   "id": "6595e079-fe88-4e80-b512-cca44622a86e",
   "metadata": {},
   "outputs": [],
   "source": []
  },
  {
   "cell_type": "markdown",
   "id": "f1bc6ff7-f8ce-4ecd-93ed-4e8d846d7b8e",
   "metadata": {},
   "source": [
    "# Question 9"
   ]
  },
  {
   "cell_type": "markdown",
   "id": "af5d5686-bd17-4f39-9368-50db93f570eb",
   "metadata": {},
   "source": [
    "Find the union of two sets"
   ]
  },
  {
   "cell_type": "code",
   "execution_count": 283,
   "id": "311f4a94-e28b-4a88-b06d-072c0cf5a660",
   "metadata": {},
   "outputs": [
    {
     "name": "stdout",
     "output_type": "stream",
     "text": [
      "{1, 2, 3, 4}\n",
      "{8, 5, 6, 7}\n",
      "union set: {1, 2, 3, 4, 5, 6, 7, 8}\n"
     ]
    }
   ],
   "source": [
    "# we need two set in this case\n",
    "\n",
    "set_7 = {1,2,3,4}\n",
    "\n",
    "set_8 = {5,6,7,8}\n",
    "\n",
    "\n",
    "# printing the sets\n",
    "print(set_7)\n",
    "print(set_8)\n",
    "\n",
    "\n",
    "\n",
    "# union of two set\n",
    "union_set = set_7.union(set_8)\n",
    "\n",
    "\n",
    "# printing the union_set\n",
    "print(\"union set:\", union_set)"
   ]
  },
  {
   "cell_type": "code",
   "execution_count": null,
   "id": "06e57fea-74ec-487a-9c14-3b7e3f97d4d7",
   "metadata": {},
   "outputs": [],
   "source": []
  },
  {
   "cell_type": "markdown",
   "id": "c046beba-4c2e-4cf8-b740-37541f675d12",
   "metadata": {},
   "source": [
    "# Question 10"
   ]
  },
  {
   "cell_type": "markdown",
   "id": "64001995-52d0-4024-b138-566fc0ef9e9d",
   "metadata": {},
   "source": [
    "Find the intersection of two sets"
   ]
  },
  {
   "cell_type": "code",
   "execution_count": 284,
   "id": "0a8971f6-5860-4329-ac97-93f85654af05",
   "metadata": {},
   "outputs": [
    {
     "name": "stdout",
     "output_type": "stream",
     "text": [
      "{1, 2, 3, 4}\n",
      "{4, 5, 6, 7}\n",
      "intersection set: {4}\n"
     ]
    }
   ],
   "source": [
    "# we need two sets in this scenario\n",
    "\n",
    "set_9 = {1,2,3,4}\n",
    "set_10 = {4,5,6,7}\n",
    "\n",
    "\n",
    "\n",
    "# printing the sets\n",
    "print(set_9)\n",
    "print(set_10)\n",
    "\n",
    "\n",
    "\n",
    "intersect_set = set_9.intersection(set_10)\n",
    "\n",
    "\n",
    "\n",
    "# printing the intersect_set\n",
    "print(\"intersection set:\", intersect_set)"
   ]
  },
  {
   "cell_type": "code",
   "execution_count": null,
   "id": "982815d0-d232-4fc6-9acd-860858deb7db",
   "metadata": {},
   "outputs": [],
   "source": []
  },
  {
   "cell_type": "markdown",
   "id": "98738729-78b5-4635-bfd0-db09eb6ea9bd",
   "metadata": {},
   "source": [
    "# Question 11"
   ]
  },
  {
   "cell_type": "markdown",
   "id": "c1b165a6-5d53-4f73-b5e4-71b2912d0a0f",
   "metadata": {},
   "source": [
    "Find the difference between two sets"
   ]
  },
  {
   "cell_type": "code",
   "execution_count": 287,
   "id": "f1928765-9b25-46af-8586-b7226c18fcf4",
   "metadata": {},
   "outputs": [
    {
     "name": "stdout",
     "output_type": "stream",
     "text": [
      "{80, 20, 40, 10, 30}\n",
      "{80, 100, 40, 60, 30}\n",
      "difference between set_11 and set_12: {10, 20}\n",
      "difference between set_12 and set_11: {100, 60}\n"
     ]
    }
   ],
   "source": [
    "# we can use difference() function to find differnce between set 11 and set 12\n",
    "\n",
    "set_11 = {10, 20, 30, 40, 80}\n",
    "\n",
    "set_12 = {100, 30, 80, 40, 60}\n",
    "\n",
    "\n",
    "#printing the sets\n",
    "print(set_11)\n",
    "print(set_12)\n",
    "\n",
    "\n",
    "print (\"difference between set_11 and set_12:\", set_11.difference(set_12))\n",
    "\n",
    "print (\"difference between set_12 and set_11:\",set_12.difference(set_11)) # prining the differences"
   ]
  },
  {
   "cell_type": "code",
   "execution_count": null,
   "id": "ba9abdb5-6e0f-464b-abe3-ce211c4468a3",
   "metadata": {},
   "outputs": [],
   "source": []
  },
  {
   "cell_type": "markdown",
   "id": "f3ff7b76-3d21-4ccd-8881-eb6b1bbb531b",
   "metadata": {},
   "source": [
    "# Question 12"
   ]
  },
  {
   "cell_type": "markdown",
   "id": "c9c79e68-0a99-4f2e-953f-abbdca34ac83",
   "metadata": {},
   "source": [
    "Check if a set is a subset of another set"
   ]
  },
  {
   "cell_type": "code",
   "execution_count": null,
   "id": "0a01f3a2-12aa-43b1-9b04-f81207795e12",
   "metadata": {},
   "outputs": [],
   "source": [
    "# issubnet() can be used in this question "
   ]
  },
  {
   "cell_type": "code",
   "execution_count": 288,
   "id": "e95d67c2-fe9d-4447-a275-124efbd066bd",
   "metadata": {},
   "outputs": [
    {
     "name": "stdout",
     "output_type": "stream",
     "text": [
      "set_14 is a superset of set_13\n"
     ]
    }
   ],
   "source": [
    "set_13 = {1, 2, 3}\n",
    "set_14 = {1, 2, 3, 4, 5}\n",
    "\n",
    "\n",
    "if set_13.issubset(set_14):\n",
    "    print(\"set_14 is a superset of set_13\")\n",
    "else:\n",
    "    print(\"set_14 is not a superset of set_13\") # if all items of set_13 are present in set_14"
   ]
  },
  {
   "cell_type": "code",
   "execution_count": null,
   "id": "87f755a3-8d8a-4833-b29e-6b87b8f4ee15",
   "metadata": {},
   "outputs": [],
   "source": []
  },
  {
   "cell_type": "markdown",
   "id": "e134f2f1-f286-44e1-bd79-5285de27c5f1",
   "metadata": {},
   "source": [
    "# Question 13"
   ]
  },
  {
   "cell_type": "markdown",
   "id": "9897bd7a-98c2-4202-be2e-7699d796603b",
   "metadata": {},
   "source": [
    "Check if a set is a superset of another set"
   ]
  },
  {
   "cell_type": "code",
   "execution_count": null,
   "id": "94316a7d-772f-4656-81ec-af2eb9264133",
   "metadata": {},
   "outputs": [],
   "source": [
    "# issubnet() can be used in this question"
   ]
  },
  {
   "cell_type": "code",
   "execution_count": 289,
   "id": "f056d087-1a07-498b-be43-64119f8067c6",
   "metadata": {},
   "outputs": [
    {
     "name": "stdout",
     "output_type": "stream",
     "text": [
      "set_14 is a superset of set_13\n"
     ]
    }
   ],
   "source": [
    "set_13 = {1, 2, 3}\n",
    "set_14 = {1, 2, 3, 4, 5}\n",
    "\n",
    "\n",
    "if set_14.issuperset(set_13):\n",
    "    print(\"set_14 is a superset of set_13\")\n",
    "else:\n",
    "    print(\"set_14 is not a superset of set_13\") # if all items of set_13 are present in set_14"
   ]
  },
  {
   "cell_type": "code",
   "execution_count": null,
   "id": "a5a2b65b-2d95-4554-bdc0-d3c46db2ec21",
   "metadata": {},
   "outputs": [],
   "source": []
  },
  {
   "cell_type": "markdown",
   "id": "e329011b-41ce-4fd9-a71e-d2b41762df3e",
   "metadata": {},
   "source": [
    "# Question 14"
   ]
  },
  {
   "cell_type": "markdown",
   "id": "a1c44782-e2bd-4788-854d-b58593e88866",
   "metadata": {},
   "source": [
    "Create a set from a list"
   ]
  },
  {
   "cell_type": "code",
   "execution_count": 291,
   "id": "0edf9990-aa24-4b44-ad98-531c56a4c827",
   "metadata": {},
   "outputs": [
    {
     "name": "stdout",
     "output_type": "stream",
     "text": [
      "[1, 2, 3, 4, 5, 6, 7]\n",
      "<class 'list'>\n",
      "{1, 2, 3, 4, 5, 6, 7}\n",
      "<class 'set'>\n"
     ]
    }
   ],
   "source": [
    "# first we need a list for this \n",
    "n_list = [1,2,3,4,5,6,7]\n",
    "\n",
    "# printing the list \n",
    "print(n_list)\n",
    "\n",
    "\n",
    "# printing type of n_list\n",
    "print(type(n_list))\n",
    "\n",
    "\n",
    "# converting list to set\n",
    "set_15 = set(n_list)\n",
    "\n",
    "\n",
    "# printing the set\n",
    "print(set_15)\n",
    "\n",
    "#printing the type of the set\n",
    "print(type(set_15))"
   ]
  },
  {
   "cell_type": "code",
   "execution_count": null,
   "id": "ad821aed-100c-42a8-b7ec-4a5644af76ad",
   "metadata": {},
   "outputs": [],
   "source": []
  },
  {
   "cell_type": "markdown",
   "id": "93a7cbf7-af4f-4ab0-979c-d21b93b3836d",
   "metadata": {},
   "source": [
    "# Question 15"
   ]
  },
  {
   "cell_type": "markdown",
   "id": "2589f61c-62a6-466c-b374-2633d276352b",
   "metadata": {},
   "source": [
    "Convert a set to a list"
   ]
  },
  {
   "cell_type": "code",
   "execution_count": 292,
   "id": "bba9758b-9a97-42ec-8565-18d2ed4b0c86",
   "metadata": {},
   "outputs": [
    {
     "name": "stdout",
     "output_type": "stream",
     "text": [
      "{1, 2, 3, 4}\n",
      "<class 'set'>\n",
      "[1, 2, 3, 4]\n",
      "<class 'list'>\n"
     ]
    }
   ],
   "source": [
    "# making a set \n",
    "set_16 = {1,2,3,4}\n",
    "\n",
    "\n",
    "#printing set\n",
    "print(set_16)\n",
    "\n",
    "\n",
    "#printing type\n",
    "print(type(set_16))\n",
    "\n",
    "\n",
    "# converting set to list\n",
    "set_to_list = list(set_16)\n",
    "\n",
    "\n",
    "\n",
    "# printing the set\n",
    "print(set_to_list)\n",
    "\n",
    "\n",
    "#printing the type of the variable set_to_list\n",
    "print(type(set_to_list))"
   ]
  },
  {
   "cell_type": "code",
   "execution_count": null,
   "id": "ab121a6b-c7c9-469e-92ac-57f1f280af3b",
   "metadata": {},
   "outputs": [],
   "source": []
  },
  {
   "cell_type": "markdown",
   "id": "20fba2fe-c387-4794-bce1-22bdef25d823",
   "metadata": {},
   "source": [
    "# Question 16"
   ]
  },
  {
   "cell_type": "markdown",
   "id": "31ed1ebf-0c53-4e4c-8710-26e0989ac61e",
   "metadata": {},
   "source": [
    "Remove a random element from a set"
   ]
  },
  {
   "cell_type": "code",
   "execution_count": 293,
   "id": "2552fa6b-c2e2-470c-834b-fdf352a8f9bb",
   "metadata": {},
   "outputs": [
    {
     "name": "stdout",
     "output_type": "stream",
     "text": [
      "set before removing element: {'apple', 'banana', 'orange', 'watermelon'}\n",
      "set after removing element: {'banana', 'orange', 'watermelon'}\n"
     ]
    }
   ],
   "source": [
    "# taken a list\n",
    "set_17 = {'apple', 'banana', 'orange', 'watermelon'}\n",
    "\n",
    "\n",
    "# printing set \n",
    "print(\"set before removing element:\", set_17)\n",
    "\n",
    "\n",
    "# pop() function can be used in this case\n",
    "set_17.pop()\n",
    "\n",
    "\n",
    "# printing set_17 again to check if code is implemented properly\n",
    "print(\"set after removing element:\",set_17)\n",
    "\n"
   ]
  },
  {
   "cell_type": "code",
   "execution_count": null,
   "id": "52d8f119-179a-4c6e-b77c-a49109767989",
   "metadata": {},
   "outputs": [],
   "source": []
  },
  {
   "cell_type": "markdown",
   "id": "114446ec-3559-42be-8a88-0ec524a9ce86",
   "metadata": {},
   "source": [
    "# Question 17"
   ]
  },
  {
   "cell_type": "markdown",
   "id": "fd8e0411-4161-4071-b929-ebb9eb3a10d6",
   "metadata": {},
   "source": [
    "Pop an element from a set"
   ]
  },
  {
   "cell_type": "code",
   "execution_count": 294,
   "id": "483ffe55-acf1-4d48-89f0-d85b99cb022c",
   "metadata": {},
   "outputs": [
    {
     "name": "stdout",
     "output_type": "stream",
     "text": [
      "set before poping element: {'kolkata', 'pune', 'bangalore', 'delhi', 'chennai'}\n",
      "set after poping element: {'pune', 'bangalore', 'delhi', 'chennai'}\n"
     ]
    }
   ],
   "source": [
    "# taking a set \n",
    "set_18 = {'kolkata', 'chennai', 'pune', 'bangalore', 'delhi'}\n",
    "\n",
    "\n",
    "# printing set \n",
    "print(\"set before poping element:\", set_18)\n",
    "\n",
    "\n",
    "# poping an element from the list\n",
    "set_18.pop()\n",
    "\n",
    "\n",
    "# printing the result\n",
    "print(\"set after poping element:\", set_18)\n",
    "\n"
   ]
  },
  {
   "cell_type": "code",
   "execution_count": null,
   "id": "ec640ec8-d2cf-4434-a679-cfc1f5799b34",
   "metadata": {},
   "outputs": [],
   "source": []
  },
  {
   "cell_type": "markdown",
   "id": "4d21fa7b-0918-4d0e-a6cf-dcc20844696c",
   "metadata": {},
   "source": [
    "# Question 18"
   ]
  },
  {
   "cell_type": "markdown",
   "id": "b47fd61c-309a-4e4f-842a-ebe2608c5376",
   "metadata": {},
   "source": [
    "Check if two sets have no elements in common"
   ]
  },
  {
   "cell_type": "code",
   "execution_count": null,
   "id": "a79fb416-d388-4e81-bc48-66bc5bbcc882",
   "metadata": {},
   "outputs": [],
   "source": [
    "# if no elements in common in these two sets, then it returns True "
   ]
  },
  {
   "cell_type": "code",
   "execution_count": 5,
   "id": "ed145f77-ac6c-4914-9f16-6fd716023920",
   "metadata": {},
   "outputs": [
    {
     "name": "stdout",
     "output_type": "stream",
     "text": [
      "set_19 and set_20 is  {1, 2, 3} and {4, 5, 6}\n",
      "in these sets, have no common elements in common? True\n"
     ]
    }
   ],
   "source": [
    "set_19 = {1, 2, 3}\n",
    "set_20 = {4, 5, 6}\n",
    "\n",
    "print(f\"set_19 and set_20 is \", set_19, \"and\", set_20)\n",
    "\n",
    "def check_no_elements_in_common(set_19, set_20): # Checks if two given sets have no elements in common.\n",
    "    return set_19.isdisjoint(set_20)\n",
    "\n",
    "print(\"in these sets, have no common elements in common?\", check_no_elements_in_common(set_19, set_20))\n",
    "# if there is no common elements, it returns true, \n",
    "# if there is some common elements present, it returns false"
   ]
  },
  {
   "cell_type": "code",
   "execution_count": null,
   "id": "7069c511-966e-4f26-b2da-21ac5ce89f5f",
   "metadata": {},
   "outputs": [],
   "source": []
  },
  {
   "cell_type": "markdown",
   "id": "3b48d7cc-ca5d-43c6-bb8f-871656eb9761",
   "metadata": {},
   "source": [
    "# Question 19"
   ]
  },
  {
   "cell_type": "markdown",
   "id": "a46d06b2-3bf0-4960-9730-69f36e0e77bc",
   "metadata": {},
   "source": [
    "Find the symmetric difference between two sets"
   ]
  },
  {
   "cell_type": "code",
   "execution_count": null,
   "id": "6fa23386-3aee-4fae-9e89-5b3b7782dce5",
   "metadata": {},
   "outputs": [],
   "source": [
    "# we can use symmetric_difference() function in this scenario"
   ]
  },
  {
   "cell_type": "code",
   "execution_count": 8,
   "id": "7ec1a178-0cd4-416a-ba92-4cccfb56bd70",
   "metadata": {},
   "outputs": [
    {
     "name": "stdout",
     "output_type": "stream",
     "text": [
      " set_21 and set_22 is: {1, 2, 3, 4, 5} and  {3, 4, 6, 7, 9}\n",
      " symmetric difference between two sets are: {1, 2, 5, 6, 7, 9}\n"
     ]
    }
   ],
   "source": [
    "set_21 = {1, 2, 3, 4, 5}\n",
    "set_22 = {6, 7, 3, 9, 4}\n",
    "\n",
    "# printing the sets\n",
    "print(f\" set_21 and set_22 is: {set_21} and  {set_22}\")\n",
    "\n",
    "print(\" symmetric difference between these two sets are:\", set_21.symmetric_difference(set_22)) # printing the difference"
   ]
  },
  {
   "cell_type": "code",
   "execution_count": null,
   "id": "6e1c33fa-7a05-4ee1-b356-520c7c6553e1",
   "metadata": {},
   "outputs": [],
   "source": []
  },
  {
   "cell_type": "markdown",
   "id": "c3730d4c-04ef-4dfb-8c70-1b2d51c45634",
   "metadata": {},
   "source": [
    "# Question 20"
   ]
  },
  {
   "cell_type": "markdown",
   "id": "e1f9c8ca-b617-4aa1-b87e-0b925c45b10b",
   "metadata": {},
   "source": [
    "Update a set with elements from another set"
   ]
  },
  {
   "cell_type": "code",
   "execution_count": 7,
   "id": "3c0495a7-dc37-4f36-b958-263daaf7b3ae",
   "metadata": {},
   "outputs": [
    {
     "name": "stdout",
     "output_type": "stream",
     "text": [
      "set_23 and set_24 is: {1, 2, 3} and {5, 6, 7}\n",
      "{1, 2, 3, 5, 6, 7}\n"
     ]
    }
   ],
   "source": [
    "# we need two set for this case\n",
    "\n",
    "set_23 = {1,2,3}\n",
    "\n",
    "set_24 = {5,6,7}\n",
    "\n",
    "print(f\"set_23 and set_24 is: {set_23} and {set_24}\")\n",
    "\n",
    "\n",
    "# Update method\n",
    "set_23.update(set_24)\n",
    "\n",
    "\n",
    "# Print the updated set\n",
    "print(set_23)"
   ]
  },
  {
   "cell_type": "code",
   "execution_count": null,
   "id": "dd6ae729-ce0a-4076-9d1b-5c6da1815be4",
   "metadata": {},
   "outputs": [],
   "source": []
  },
  {
   "cell_type": "markdown",
   "id": "3fecdef9-6143-467b-98b1-8dd97599a1be",
   "metadata": {},
   "source": [
    "# Question 21"
   ]
  },
  {
   "cell_type": "markdown",
   "id": "8457591b-49cc-451a-8f9a-291bcc45cfb1",
   "metadata": {},
   "source": [
    "Create a set of the first 5 prime numbers"
   ]
  },
  {
   "cell_type": "code",
   "execution_count": 9,
   "id": "6ff67eb4-fd90-4533-90fd-5bfdb32dafb7",
   "metadata": {},
   "outputs": [
    {
     "name": "stdout",
     "output_type": "stream",
     "text": [
      "{2, 3, 5, 7, 11}\n"
     ]
    }
   ],
   "source": [
    "# Function to check if a number is prime\n",
    "\n",
    "def is_prime(num): # user defined function is created\n",
    "    if num <= 1:\n",
    "        return False # if the number is less than or equal to 1 then the number is not prime since number 1 is not prime number\n",
    "    for i in range(2, int(num**0.5) + 1):\n",
    "        if num % i == 0:\n",
    "            return False \n",
    "    return True # if the num is divisible by i then its not a prime number. if not divisible, then it can be return true as the number is \n",
    "# prime number\n",
    "\n",
    "\n",
    "# Creating a set of the first 5 prime numbers\n",
    "first_5_primes = set()\n",
    "num = 2  # Starting with the first prime number\n",
    "\n",
    "\n",
    "while len(first_5_primes) < 5: # also using while loop, this question can be answered \n",
    "    if is_prime(num):\n",
    "        first_5_primes.add(num)\n",
    "    num += 1\n",
    "    \n",
    "    \n",
    "# Printing the set\n",
    "print(first_5_primes)"
   ]
  },
  {
   "cell_type": "code",
   "execution_count": null,
   "id": "da8d6746-f708-4047-89a2-5db02e7d4216",
   "metadata": {},
   "outputs": [],
   "source": []
  },
  {
   "cell_type": "markdown",
   "id": "cc4158aa-bee6-44b2-b59e-c6d580b7c456",
   "metadata": {},
   "source": [
    "# Question 22"
   ]
  },
  {
   "cell_type": "markdown",
   "id": "05125832-5bbb-4c9e-8699-d7decde5484f",
   "metadata": {},
   "source": [
    "Check if two sets are identical"
   ]
  },
  {
   "cell_type": "code",
   "execution_count": 12,
   "id": "2d09688b-05bc-41bd-a673-f13b31064075",
   "metadata": {},
   "outputs": [
    {
     "name": "stdout",
     "output_type": "stream",
     "text": [
      " set_24 and set_25 are: {1, 2, 3, 4, 5} and {1, 2, 3, 4, 5}\n",
      "these two sets are identical\n"
     ]
    }
   ],
   "source": [
    "# in this case we need two sets \n",
    "\n",
    "set_24 = {1,2,3,4,5}\n",
    "\n",
    "set_25 = {1,2,3,4,5}\n",
    "\n",
    "# printing the sets\n",
    "print(f\" set_24 and set_25 are: {set_24} and {set_25}\")\n",
    "\n",
    "\n",
    "# if else statement can be used in this scenario\n",
    "\n",
    "if set_24 == set_25:\n",
    "    print('these two sets are identical')\n",
    "else:\n",
    "    print('these two sets are identical')\n"
   ]
  },
  {
   "cell_type": "code",
   "execution_count": null,
   "id": "8c098c56-31fa-4236-a873-d36631984ba3",
   "metadata": {},
   "outputs": [],
   "source": []
  },
  {
   "cell_type": "markdown",
   "id": "22a34f62-c33e-4f1b-a5a3-51b712c73650",
   "metadata": {},
   "source": [
    "# Question 23"
   ]
  },
  {
   "cell_type": "markdown",
   "id": "27a9c01f-0ffb-4899-9f40-4f2467969c70",
   "metadata": {},
   "source": [
    "Create a frozen set"
   ]
  },
  {
   "cell_type": "code",
   "execution_count": 13,
   "id": "821b6c4c-5b4c-4058-8b5f-b04813e09d48",
   "metadata": {},
   "outputs": [
    {
     "name": "stdout",
     "output_type": "stream",
     "text": [
      "frozenset({'orange', 'banana', 'apple'})\n"
     ]
    }
   ],
   "source": [
    "# frozenset returns an immutable set\n",
    "\n",
    "# creating a frozen set\n",
    "\n",
    "fruits = frozenset([\"apple\", \"banana\", \"orange\"])\n",
    "\n",
    "# printing the frozen set\n",
    "\n",
    "print(fruits)"
   ]
  },
  {
   "cell_type": "code",
   "execution_count": 16,
   "id": "52865597-64ec-495d-8a54-8be42a07380e",
   "metadata": {},
   "outputs": [
    {
     "ename": "AttributeError",
     "evalue": "'frozenset' object has no attribute 'add'",
     "output_type": "error",
     "traceback": [
      "\u001b[0;31m---------------------------------------------------------------------------\u001b[0m",
      "\u001b[0;31mAttributeError\u001b[0m                            Traceback (most recent call last)",
      "Cell \u001b[0;32mIn[16], line 3\u001b[0m\n\u001b[1;32m      1\u001b[0m \u001b[38;5;66;03m# checking wheather any value can be append to the fruits set \u001b[39;00m\n\u001b[0;32m----> 3\u001b[0m \u001b[43mfruits\u001b[49m\u001b[38;5;241;43m.\u001b[39;49m\u001b[43madd\u001b[49m(\u001b[38;5;124m\"\u001b[39m\u001b[38;5;124mpink\u001b[39m\u001b[38;5;124m\"\u001b[39m)\n\u001b[1;32m      4\u001b[0m \u001b[38;5;66;03m# it will show an error\u001b[39;00m\n\u001b[1;32m      5\u001b[0m \n\u001b[1;32m      6\u001b[0m \n\u001b[1;32m      7\u001b[0m \u001b[38;5;66;03m# also we can check by using append() function which also show an error\u001b[39;00m\n\u001b[1;32m      8\u001b[0m fruits\u001b[38;5;241m.\u001b[39mappend(\u001b[38;5;124m\"\u001b[39m\u001b[38;5;124mpink\u001b[39m\u001b[38;5;124m\"\u001b[39m)\n",
      "\u001b[0;31mAttributeError\u001b[0m: 'frozenset' object has no attribute 'add'"
     ]
    }
   ],
   "source": [
    "# checking wheather any value can be append to the fruits set \n",
    "\n",
    "fruits.add(\"pink\")\n",
    "# it will show an error\n",
    "\n",
    "\n",
    "# again printing fruits \n",
    "\n",
    "\n",
    "print(fruits) # it will show an error append in the set since the set is frozen"
   ]
  },
  {
   "cell_type": "code",
   "execution_count": null,
   "id": "e55da606-3973-405d-8389-0799dcb5a187",
   "metadata": {},
   "outputs": [],
   "source": []
  },
  {
   "cell_type": "markdown",
   "id": "59615ac8-e000-4381-9d22-17350199af26",
   "metadata": {},
   "source": [
    "# Question 24"
   ]
  },
  {
   "cell_type": "markdown",
   "id": "64b91207-c886-433d-a7f1-73fa70602d3c",
   "metadata": {},
   "source": [
    "Check if a set is disjoint with another set"
   ]
  },
  {
   "cell_type": "code",
   "execution_count": null,
   "id": "1a2903ba-dd38-47ff-9f71-4b912f7c1b1a",
   "metadata": {},
   "outputs": [],
   "source": [
    "# isdisjoint() function can be used in this case"
   ]
  },
  {
   "cell_type": "code",
   "execution_count": 18,
   "id": "52dd1771-37e9-42be-b925-65da1b25c9bb",
   "metadata": {},
   "outputs": [
    {
     "name": "stdout",
     "output_type": "stream",
     "text": [
      " values of set_26, set_27, and set_28 are: {2, 4, 5, 6}, {8, 9, 10, 7}, {1, 2}\n",
      "set_26 and set_27 are disjoint? True\n",
      "set_26 and set_28 are disjoint? False\n"
     ]
    }
   ],
   "source": [
    "# creating sets\n",
    "\n",
    "set_26 = {2, 4, 5, 6}\n",
    "set_27 = {7, 8, 9, 10}\n",
    "set_28 = {1, 2}\n",
    "\n",
    "\n",
    "# printing the sets\n",
    "print(f\" values of set_26, set_27, and set_28 are: {set_26}, {set_27}, {set_28}\")\n",
    "\n",
    "\n",
    "# checking of disjoint of two sets\n",
    "print(\"set_26 and set_27 are disjoint?\",\n",
    "\tset_26.isdisjoint(set_27))\n",
    "\n",
    "print(\"set_26 and set_28 are disjoint?\",\n",
    "\tset_26.isdisjoint(set_28))"
   ]
  },
  {
   "cell_type": "code",
   "execution_count": null,
   "id": "4a490631-887c-43f3-8c96-50292e79648d",
   "metadata": {},
   "outputs": [],
   "source": []
  },
  {
   "cell_type": "markdown",
   "id": "a3257007-9ead-460a-9ce4-e2b134d57c2a",
   "metadata": {},
   "source": [
    "# Question 25"
   ]
  },
  {
   "cell_type": "markdown",
   "id": "ffff443f-a9ae-4086-84f4-fa98e10a740b",
   "metadata": {},
   "source": [
    "Create a set of squares of numbers from 1 to 5"
   ]
  },
  {
   "cell_type": "code",
   "execution_count": null,
   "id": "30a1734f-73d2-422a-bf27-36b9b9010af2",
   "metadata": {},
   "outputs": [],
   "source": [
    "# Create a set of squares of numbers from 1 to 5"
   ]
  },
  {
   "cell_type": "code",
   "execution_count": 19,
   "id": "c93bfe28-d9ee-4165-ba17-ff7aa834255f",
   "metadata": {},
   "outputs": [
    {
     "name": "stdout",
     "output_type": "stream",
     "text": [
      "{1, 4, 9, 16, 25}\n"
     ]
    }
   ],
   "source": [
    "squares_set = set()\n",
    "\n",
    "for num in range(1, 6): # for loop can be used in this case\n",
    "    square = num ** 2\n",
    "    squares_set.add(square)\n",
    "    \n",
    "\n",
    "# Printing the set\n",
    "print(squares_set)"
   ]
  },
  {
   "cell_type": "code",
   "execution_count": null,
   "id": "861a8911-80c2-4438-a6a3-b7f627d07942",
   "metadata": {},
   "outputs": [],
   "source": []
  },
  {
   "cell_type": "markdown",
   "id": "58c90bed-39da-4965-b1ae-a228d13d335a",
   "metadata": {},
   "source": [
    "# Question 26"
   ]
  },
  {
   "cell_type": "markdown",
   "id": "6657a06e-c33e-4f61-9ba9-6e5cc292e8df",
   "metadata": {},
   "source": [
    "Filter out all even numbers from a set"
   ]
  },
  {
   "cell_type": "code",
   "execution_count": 35,
   "id": "bdd3aca4-bc16-4084-ba69-83fc3c73f019",
   "metadata": {},
   "outputs": [
    {
     "name": "stdout",
     "output_type": "stream",
     "text": [
      "before filtering out, the initial set: {1, 2, 3, 4, 5, 6, 7, 8, 9, 10}\n",
      "after filtering out, the set of even number is :{2, 4, 6, 8, 10}\n"
     ]
    }
   ],
   "source": [
    "# first we make a set\n",
    "set_29 = {1,2,3,4,5,6,7,8,9,10}\n",
    "even_set = set()\n",
    "\n",
    "# printing the set \n",
    "print(f\"before filtering out, the initial set: {set_29}\")\n",
    "\n",
    "\n",
    "# for loop can be used in this case\n",
    "\n",
    "for i in set_29:\n",
    "    if i%2 == 0:\n",
    "        even_set.add(i)\n",
    "print(f\"after filtering out, the set of even number is :{even_set}\")\n",
    "        \n"
   ]
  },
  {
   "cell_type": "code",
   "execution_count": null,
   "id": "7b1caa43-fe61-47d8-a952-f3da1e5e5cd7",
   "metadata": {},
   "outputs": [],
   "source": []
  },
  {
   "cell_type": "markdown",
   "id": "f99b925b-32e9-4144-9976-04776df31ad5",
   "metadata": {},
   "source": [
    "# Question 27"
   ]
  },
  {
   "cell_type": "markdown",
   "id": "6df1bc4c-9d61-477e-aec1-5e32e0efc112",
   "metadata": {},
   "source": [
    "Multiply all elements in a set by 2"
   ]
  },
  {
   "cell_type": "code",
   "execution_count": 38,
   "id": "337f2927-acc6-4cf3-a9c7-f8318df9d670",
   "metadata": {},
   "outputs": [
    {
     "name": "stdout",
     "output_type": "stream",
     "text": [
      "set before multiplying elements by 2: {1, 2, 3, 4, 5}\n",
      "set after multiplied the previous set by 2: {2, 4, 6, 8, 10}\n"
     ]
    }
   ],
   "source": [
    "# first we make a set \n",
    "\n",
    "set_30 = {1,2,3,4,5}\n",
    "\n",
    "#printing the set \n",
    "print(f\"set before multiplying elements by 2: {set_30}\")\n",
    "\n",
    "\n",
    "# Create a new set with elements multiplied by 2\n",
    "multiplied_set = {x * 2 for x in set_30}\n",
    "\n",
    "\n",
    "# Printing the result set\n",
    "print(f\"set after multiplied the previous set by 2: {multiplied_set}\")"
   ]
  },
  {
   "cell_type": "code",
   "execution_count": null,
   "id": "7709bd73-682b-49eb-bfd6-ab842bc5e2af",
   "metadata": {},
   "outputs": [],
   "source": []
  },
  {
   "cell_type": "markdown",
   "id": "eafd30ca-fa83-480a-8c73-ea58e63324f0",
   "metadata": {},
   "source": [
    "# Question 28"
   ]
  },
  {
   "cell_type": "markdown",
   "id": "444cb40f-3108-431d-a048-04d160cd6dee",
   "metadata": {},
   "source": [
    "Create a set of random numbers"
   ]
  },
  {
   "cell_type": "code",
   "execution_count": 41,
   "id": "26aaf668-b3d7-4803-a26d-88baa07da0fe",
   "metadata": {},
   "outputs": [
    {
     "name": "stdout",
     "output_type": "stream",
     "text": [
      "set of random numbers are: {33, 98, 38, 72, 92}\n"
     ]
    }
   ],
   "source": [
    "# we have to import random for this case \n",
    "import random \n",
    "\n",
    "\n",
    "# Create an empty list\n",
    "numbers = set()\n",
    "\n",
    "# Generate 10 random numbers between 1 and 100\n",
    "for i in range(5):\n",
    "    numbers.add(random.randint(1, 100))\n",
    "\n",
    "# Print the list of random numbers\n",
    "print(f\"set of random numbers are: {numbers}\")"
   ]
  },
  {
   "cell_type": "code",
   "execution_count": null,
   "id": "e937f764-345d-4d6d-94e8-2a38a6aa348d",
   "metadata": {},
   "outputs": [],
   "source": []
  },
  {
   "cell_type": "markdown",
   "id": "2db60c0e-d992-4644-a160-5d2292da5d8c",
   "metadata": {},
   "source": [
    "# Question 29"
   ]
  },
  {
   "cell_type": "markdown",
   "id": "4234138c-3f33-478c-8c24-1b05b28e5c10",
   "metadata": {},
   "source": [
    "Check if a set is empty"
   ]
  },
  {
   "cell_type": "code",
   "execution_count": 42,
   "id": "f836c129-bdee-49c8-8c76-eac38cbb8aeb",
   "metadata": {},
   "outputs": [
    {
     "name": "stdout",
     "output_type": "stream",
     "text": [
      "The set is empty.\n"
     ]
    }
   ],
   "source": [
    "# first we make an empty set\n",
    "my_set = {}\n",
    "\n",
    "\n",
    "# if-else statement can be used in this case\n",
    "\n",
    "if len(my_set) == 0:\n",
    "    print(\"The set is empty.\")\n",
    "else:\n",
    "    print(\"The set is not empty.\")\n",
    "    \n",
    "    \n"
   ]
  },
  {
   "cell_type": "code",
   "execution_count": null,
   "id": "a9e0cdef-673c-4d30-a407-70a38fe4fb32",
   "metadata": {},
   "outputs": [],
   "source": []
  },
  {
   "cell_type": "markdown",
   "id": "63dc9472-a8c2-4557-aaf4-ac081a8456f1",
   "metadata": {},
   "source": [
    "# Question 30"
   ]
  },
  {
   "cell_type": "markdown",
   "id": "3a87ad2d-a8fc-4e50-83f0-04476c634fb4",
   "metadata": {},
   "source": [
    "Create a nested set (hint: use frozenset)"
   ]
  },
  {
   "cell_type": "code",
   "execution_count": 46,
   "id": "58496c74-354d-4713-b705-7389f70917c7",
   "metadata": {},
   "outputs": [
    {
     "name": "stdout",
     "output_type": "stream",
     "text": [
      "set_31, set_32 and set_33 are: frozenset({1, 2, 3}), frozenset({3, 4, 5}), frozenset({5, 6, 7})\n",
      "nested_set: {frozenset({1, 2, 3}), frozenset({5, 6, 7}), frozenset({3, 4, 5})}\n"
     ]
    }
   ],
   "source": [
    "# Creating some frozensets\n",
    "set_31 = frozenset([1, 2, 3])\n",
    "set_32 = frozenset([3, 4, 5])\n",
    "set_33 = frozenset([5, 6, 7])\n",
    "\n",
    "print(f\"set_31, set_32 and set_33 are: {set_31}, {set_32}, {set_33}\")\n",
    "\n",
    "\n",
    "# Creating a nested set containing the frozensets\n",
    "nested_set = {set_31, set_32, set_33}\n",
    "\n",
    "# Printing the nested set\n",
    "print(f\"nested_set: {nested_set}\")"
   ]
  },
  {
   "cell_type": "code",
   "execution_count": null,
   "id": "f2fae452-ecc7-4e56-83cd-3b7c681cb589",
   "metadata": {},
   "outputs": [],
   "source": []
  },
  {
   "cell_type": "markdown",
   "id": "2fa99e66-f09f-4508-abf9-cb5a04991eb6",
   "metadata": {},
   "source": [
    "# Question 31"
   ]
  },
  {
   "cell_type": "markdown",
   "id": "4d3a4fb8-7484-4e74-918f-dc916b665ce5",
   "metadata": {},
   "source": [
    "Remove an element from a set using the discard method"
   ]
  },
  {
   "cell_type": "code",
   "execution_count": 49,
   "id": "498c0736-9cf4-4be7-acd5-39e45824f8be",
   "metadata": {},
   "outputs": [
    {
     "name": "stdout",
     "output_type": "stream",
     "text": [
      "before discarding element, set was: {1, 2, 3, 4, 5}\n",
      "after discaring element, set is: {1, 2, 4, 5}\n"
     ]
    }
   ],
   "source": [
    "# making a set \n",
    "set_34 = {1,2,3,4,5}\n",
    "\n",
    "\n",
    "# printing the set \n",
    "print(f\"before discarding element, set was: {set_34}\")\n",
    "\n",
    "\n",
    "# Removing an element using the discard method\n",
    "set_34.discard(3)\n",
    "\n",
    "\n",
    "# printing the set again to check in the code is implemented properly or not\n",
    "print(f\"after discaring element, set is: {set_34}\")"
   ]
  },
  {
   "cell_type": "code",
   "execution_count": null,
   "id": "8d9eb587-c2f4-4342-a639-fcad11d59319",
   "metadata": {},
   "outputs": [],
   "source": []
  },
  {
   "cell_type": "markdown",
   "id": "7a665dd5-9444-4a41-9082-36d1f3e0fcf5",
   "metadata": {},
   "source": [
    "# Question 32"
   ]
  },
  {
   "cell_type": "markdown",
   "id": "19e6f23e-538b-4150-91c4-ce481bf61ddb",
   "metadata": {},
   "source": [
    "Compare two sets"
   ]
  },
  {
   "cell_type": "code",
   "execution_count": 50,
   "id": "70f10cb8-4e1e-409c-935a-7fa1f6f3892b",
   "metadata": {},
   "outputs": [
    {
     "name": "stdout",
     "output_type": "stream",
     "text": [
      "The sets are equal\n"
     ]
    }
   ],
   "source": [
    "# first we take two sets of some values\n",
    "set_35 = {1, 2, 3}\n",
    "set_36 = {3, 2, 1}\n",
    "\n",
    "\n",
    "# if the values if the sets are equal then it prints 'equal' or unequal values shows 'not equal'\n",
    "\n",
    "if set_35 == set_36:\n",
    "    print(\"The sets are equal\")\n",
    "else:\n",
    "    print(\"The sets are not equal\")"
   ]
  },
  {
   "cell_type": "code",
   "execution_count": null,
   "id": "57a4e122-7631-4e5a-a452-c82b9d6d9158",
   "metadata": {},
   "outputs": [],
   "source": []
  },
  {
   "cell_type": "markdown",
   "id": "0ede8c71-7f7d-4153-9fbb-d92ab8adf58e",
   "metadata": {},
   "source": [
    "# Question 33"
   ]
  },
  {
   "cell_type": "markdown",
   "id": "169502df-0cbf-4c0a-a2a0-46a214a02afd",
   "metadata": {},
   "source": [
    "Create a set from a string"
   ]
  },
  {
   "cell_type": "code",
   "execution_count": 52,
   "id": "d7717940-08e1-443d-b33b-58b4b4b7005f",
   "metadata": {},
   "outputs": [
    {
     "name": "stdout",
     "output_type": "stream",
     "text": [
      "string: pwskills\n",
      "string_to_set: {'p', 'l', 'k', 'w', 'i', 's'}\n"
     ]
    }
   ],
   "source": [
    "# taking a string\n",
    "normal_string = 'pwskills'\n",
    "\n",
    "# printing string\n",
    "print(f\"string: {normal_string}\")\n",
    "\n",
    "\n",
    "# converting string to set\n",
    "string_to_set = set(normal_string)\n",
    "\n",
    "\n",
    "# Printing set\n",
    "print(f\"string_to_set: {string_to_set}\")"
   ]
  },
  {
   "cell_type": "code",
   "execution_count": null,
   "id": "9a09aa2a-9a9b-4543-8938-f862ec9af22d",
   "metadata": {},
   "outputs": [],
   "source": []
  },
  {
   "cell_type": "markdown",
   "id": "b2762718-b1a5-45ed-92c6-8180fedf1f03",
   "metadata": {},
   "source": [
    "# Question 34"
   ]
  },
  {
   "cell_type": "markdown",
   "id": "3df67c41-bead-44bd-adca-a3e82075628e",
   "metadata": {},
   "source": [
    "Convert a set of strings to a set of integers"
   ]
  },
  {
   "cell_type": "code",
   "execution_count": 55,
   "id": "7b58162b-2ae6-4e76-9e8d-3f93bb900839",
   "metadata": {},
   "outputs": [
    {
     "name": "stdout",
     "output_type": "stream",
     "text": [
      "set of string: {'2', '1', '3'}\n",
      "set of integers: {1, 2, 3}\n"
     ]
    }
   ],
   "source": [
    "# Creating a set of strings\n",
    "string_set = {'1', '2', '3'}\n",
    "\n",
    "#printing set\n",
    "print(f\"set of string: {string_set}\")\n",
    "\n",
    "\n",
    "# implementing code\n",
    "integers = {int(s) for s in string_set}\n",
    "\n",
    "\n",
    "# Print the set of integers\n",
    "print(f\"set of integers: {integers}\")"
   ]
  },
  {
   "cell_type": "code",
   "execution_count": null,
   "id": "2ff5d677-4fdd-48fc-bebc-c154e6b7c078",
   "metadata": {},
   "outputs": [],
   "source": []
  },
  {
   "cell_type": "markdown",
   "id": "bd0800c1-b976-4de1-bb77-5b4cf17e68fe",
   "metadata": {},
   "source": [
    "# Question 35"
   ]
  },
  {
   "cell_type": "markdown",
   "id": "807ff797-27a7-4bbf-b8e3-126eda45a460",
   "metadata": {},
   "source": [
    "Convert a set of integers to a set of strings"
   ]
  },
  {
   "cell_type": "code",
   "execution_count": 57,
   "id": "57a74196-e179-44ef-9210-7838ec2e5465",
   "metadata": {},
   "outputs": [
    {
     "name": "stdout",
     "output_type": "stream",
     "text": [
      "set of integers: {1, 2, 3}\n",
      "the set of string after converting:  {'2', '1', '3'}\n"
     ]
    }
   ],
   "source": [
    "# Creating a set of integers\n",
    "integers = {1, 2, 3}\n",
    "\n",
    "\n",
    "# printing the set of integers\n",
    "print(f\"set of integers: {integers}\")\n",
    "\n",
    "\n",
    "# implementing code to convert set of integers to set of strings\n",
    "strings = {str(integer) for integer in integers}\n",
    "\n",
    "\n",
    "# Print the set of strings\n",
    "print(f\"the set of string after converting:  {strings}\")"
   ]
  },
  {
   "cell_type": "code",
   "execution_count": null,
   "id": "d56df75b-cfcf-4ed4-b390-ab058bd13200",
   "metadata": {},
   "outputs": [],
   "source": []
  },
  {
   "cell_type": "markdown",
   "id": "bd886cde-67d8-4c10-b498-511fd8a4fff7",
   "metadata": {},
   "source": [
    "# Question 36"
   ]
  },
  {
   "cell_type": "markdown",
   "id": "d3b65736-e43a-4440-9856-47e8484efc85",
   "metadata": {},
   "source": [
    "Create a set from a tuple"
   ]
  },
  {
   "cell_type": "code",
   "execution_count": 59,
   "id": "c658c735-1601-4859-a9b8-980580dde427",
   "metadata": {},
   "outputs": [
    {
     "name": "stdout",
     "output_type": "stream",
     "text": [
      "tuple : (1, 2, 3)\n",
      "creating set from tuple: {1, 2, 3}\n"
     ]
    }
   ],
   "source": [
    "# Creating set \n",
    "tuple_1 = (1,2,3)\n",
    "\n",
    "\n",
    "# printing the tuple\n",
    "print(f\"tuple : {tuple_1}\")\n",
    "\n",
    "\n",
    "# implementing code for converting set from a tuple\n",
    "set_from_tuple = set(tuple_1)\n",
    "\n",
    "\n",
    "\n",
    "# printing the set\n",
    "print(f\"creating set from tuple: {set_from_tuple}\")"
   ]
  },
  {
   "cell_type": "code",
   "execution_count": null,
   "id": "939ebc87-b4c0-412a-9cb0-153540541d7f",
   "metadata": {},
   "outputs": [],
   "source": []
  },
  {
   "cell_type": "markdown",
   "id": "7741704b-4323-40ae-94d9-5c2e879209c7",
   "metadata": {},
   "source": [
    "# Question 37"
   ]
  },
  {
   "cell_type": "markdown",
   "id": "bbbd243f-14e0-4606-be62-92d6cc546d5e",
   "metadata": {},
   "source": [
    "Convert a set to a tuple"
   ]
  },
  {
   "cell_type": "code",
   "execution_count": 60,
   "id": "42c5bf5e-141a-4b87-b1ff-3989705cac55",
   "metadata": {},
   "outputs": [
    {
     "name": "stdout",
     "output_type": "stream",
     "text": [
      "set: {1, 2, 3, 4, 5, 6}\n",
      "after converting set to tuple: (1, 2, 3, 4, 5, 6)\n"
     ]
    }
   ],
   "source": [
    "# creating a set\n",
    "set_37 = {1,2,3,4,5,6}\n",
    "\n",
    "\n",
    "# printing the set \n",
    "print(f\"set: {set_37}\")\n",
    "\n",
    "\n",
    "# converting set to a tuple\n",
    "set_to_tuple = tuple(set_37)\n",
    "\n",
    "\n",
    "# printing the set\n",
    "print(f\"after converting set to tuple: {set_to_tuple}\")"
   ]
  },
  {
   "cell_type": "code",
   "execution_count": null,
   "id": "3a03a5f6-6d6d-464d-b83d-e035a3c0fe28",
   "metadata": {},
   "outputs": [],
   "source": []
  },
  {
   "cell_type": "markdown",
   "id": "7bcc573b-e57b-4bf7-9f9d-2ef4a8243ec9",
   "metadata": {},
   "source": [
    "# Question 38"
   ]
  },
  {
   "cell_type": "markdown",
   "id": "79522ad6-bdd3-4ed0-ac20-dfb93d19fc5e",
   "metadata": {},
   "source": [
    "Find the maximum value in a set"
   ]
  },
  {
   "cell_type": "code",
   "execution_count": 62,
   "id": "ee189a05-169e-49a7-877f-797ab4f29f76",
   "metadata": {},
   "outputs": [
    {
     "name": "stdout",
     "output_type": "stream",
     "text": [
      "set: {1, 2, 3, 4, 5, 6, 7, 8, 9}\n",
      "The maximum value in the set is: 9\n"
     ]
    }
   ],
   "source": [
    "# Creating a set\n",
    "set_38 = {5,2,7,8,9,4,5,6,2,1,7,3}\n",
    "\n",
    "\n",
    "# printing the set \n",
    "print(f\"set: {set_38}\")\n",
    "\n",
    "\n",
    "# Finding the maximum value in the set\n",
    "max_value = max(set_38)\n",
    "\n",
    "\n",
    "# Print the maximum value\n",
    "print(\"The maximum value in the set is:\", max_value)"
   ]
  },
  {
   "cell_type": "code",
   "execution_count": null,
   "id": "41dd68fa-2dae-4ff2-974e-d1c7ed1dee4d",
   "metadata": {},
   "outputs": [],
   "source": []
  },
  {
   "cell_type": "markdown",
   "id": "0f4c84df-099b-470b-b944-2fd47fee2706",
   "metadata": {},
   "source": [
    "# Question 39"
   ]
  },
  {
   "cell_type": "markdown",
   "id": "744d923c-c7d7-4069-b9f2-6fc63d1babb0",
   "metadata": {},
   "source": [
    "Find the minimum value in a set"
   ]
  },
  {
   "cell_type": "code",
   "execution_count": 63,
   "id": "baee0d4f-dd0c-406c-918a-92930b6a595c",
   "metadata": {},
   "outputs": [
    {
     "name": "stdout",
     "output_type": "stream",
     "text": [
      "set: {1, 2, 3, 4, 5, 6, 7, 8, 9}\n",
      "The minimum value in the set is: 1\n"
     ]
    }
   ],
   "source": [
    "# Creating a set\n",
    "set_38 = {5,2,7,8,9,4,5,6,2,1,7,3}\n",
    "\n",
    "\n",
    "# printing the value \n",
    "print(f\"set: {set_38}\")\n",
    "\n",
    "\n",
    "# Finding the minimum value in the set\n",
    "min_value = min(set_38)\n",
    "\n",
    "\n",
    "# Print the minimum value\n",
    "print(\"The minimum value in the set is:\", min_value)"
   ]
  },
  {
   "cell_type": "code",
   "execution_count": null,
   "id": "2ab77590-7fa4-4a67-a4fe-c988edd2c264",
   "metadata": {},
   "outputs": [],
   "source": []
  },
  {
   "cell_type": "markdown",
   "id": "4733ee11-2a74-4592-98a8-1fbee6fdc2aa",
   "metadata": {},
   "source": [
    "# Question 40"
   ]
  },
  {
   "cell_type": "markdown",
   "id": "92bb7a81-954f-4e0f-ba0c-f069466f7b2e",
   "metadata": {},
   "source": [
    "Create a set from user input"
   ]
  },
  {
   "cell_type": "code",
   "execution_count": 65,
   "id": "38e1870e-6d59-4442-b3d2-ddfac0f5ec25",
   "metadata": {},
   "outputs": [
    {
     "name": "stdin",
     "output_type": "stream",
     "text": [
      "Enter values for the set, separated by commas:  1,5,6,9\n"
     ]
    },
    {
     "name": "stdout",
     "output_type": "stream",
     "text": [
      "set: {'6', '1', '9', '5'}\n"
     ]
    }
   ],
   "source": [
    "# Creating a set.\n",
    "set_40 = set()\n",
    "\n",
    "# asking the user to enter values for the set.\n",
    "values = input(\"Enter values for the set, separated by commas: \")\n",
    "\n",
    "\n",
    "# Adding the user's input to the set.\n",
    "set_40.update(values.split(\",\"))\n",
    "\n",
    "\n",
    "# Printing the set value.\n",
    "print(f\"set: {set_40}\")"
   ]
  },
  {
   "cell_type": "code",
   "execution_count": null,
   "id": "aa5b879b-ec50-4923-b216-21e6885993a7",
   "metadata": {},
   "outputs": [],
   "source": []
  },
  {
   "cell_type": "markdown",
   "id": "881d85ad-06e7-4afd-825c-fa4dc592e054",
   "metadata": {},
   "source": [
    "# Question 41"
   ]
  },
  {
   "cell_type": "markdown",
   "id": "a7131f91-b795-49ae-be86-75844b406e82",
   "metadata": {},
   "source": [
    "Check if the intersection of two sets is empty"
   ]
  },
  {
   "cell_type": "code",
   "execution_count": 66,
   "id": "03e258be-44d9-414c-83b4-fd09759a4446",
   "metadata": {},
   "outputs": [
    {
     "name": "stdout",
     "output_type": "stream",
     "text": [
      "the set_41 and set_42 are: {1, 2, 3, 4} and {8, 5, 6, 7}\n",
      "The sets have no common elements (intersection is empty).\n"
     ]
    }
   ],
   "source": [
    "# Creating two sets\n",
    "set_41 = {1, 2, 3, 4}\n",
    "set_42 = {5, 6, 7, 8}\n",
    "\n",
    "\n",
    "# printing the set \n",
    "print(f\"the set_41 and set_42 are: {set_41} and {set_42}\")\n",
    "\n",
    "# Check if the intersection is empty\n",
    "if set_41.isdisjoint(set_42):\n",
    "    print(\"The sets have no common elements (intersection is empty).\")\n",
    "else:\n",
    "    print(\"The sets have some common elements.\")"
   ]
  },
  {
   "cell_type": "code",
   "execution_count": null,
   "id": "ea6f7c05-e3a2-42bd-9c1c-235981c17277",
   "metadata": {},
   "outputs": [],
   "source": []
  },
  {
   "cell_type": "markdown",
   "id": "7f2ce0cb-36ba-4835-b560-7c1769b76ca1",
   "metadata": {},
   "source": [
    "# Question 42"
   ]
  },
  {
   "cell_type": "markdown",
   "id": "411c32b1-3a0a-43d2-a295-378afc212324",
   "metadata": {},
   "source": [
    "Create a set of the first 5 Fibonacci numbers"
   ]
  },
  {
   "cell_type": "code",
   "execution_count": 69,
   "id": "b491fe58-bf91-495a-921a-56a8d4109ed6",
   "metadata": {},
   "outputs": [
    {
     "name": "stdout",
     "output_type": "stream",
     "text": [
      "first five fibonacci numbers set is: {1, 2, 3, 5, 8}\n"
     ]
    }
   ],
   "source": [
    "# Function to generate the first n Fibonacci numbers and return them in a set\n",
    "\n",
    "def generate_fibonacci_set(n): # user-defined function created\n",
    "    fibonacci_set = set()\n",
    "    a, b = 1, 2\n",
    "    for _ in range(n): # for loop can be used in this case\n",
    "        fibonacci_set.add(a) # it will add the value to the set \n",
    "        a, b = b, a + b\n",
    "    return fibonacci_set\n",
    "\n",
    "# Generating the first 5 Fibonacci numbers\n",
    "first_5_fibonacci_set = generate_fibonacci_set(5)\n",
    "\n",
    "# Print the set\n",
    "print(f\"first five fibonacci numbers set is: {first_5_fibonacci_set}\")"
   ]
  },
  {
   "cell_type": "code",
   "execution_count": null,
   "id": "4c73786e-3f06-462c-b6f2-a3cef996b677",
   "metadata": {},
   "outputs": [],
   "source": []
  },
  {
   "cell_type": "markdown",
   "id": "69b61706-058d-4cda-b42a-2b95420cbe02",
   "metadata": {},
   "source": [
    "# Question 43"
   ]
  },
  {
   "cell_type": "markdown",
   "id": "3663d7b8-1468-4720-a7e3-7e9e632d3e9e",
   "metadata": {},
   "source": [
    "Remove duplicates from a list using sets"
   ]
  },
  {
   "cell_type": "code",
   "execution_count": 72,
   "id": "f2686072-a52f-4bef-85c3-d0e022d4f413",
   "metadata": {},
   "outputs": [
    {
     "name": "stdout",
     "output_type": "stream",
     "text": [
      "list before removing duplicate: [1, 2, 2, 3, 7, 7, 7, 3, 4, 2, 4, 5]\n",
      "list after removing duplicate values: [1, 2, 3, 4, 5, 7]\n"
     ]
    }
   ],
   "source": [
    "# Creating a list with duplicates\n",
    "list_01 = [1, 2, 2, 3, 7, 7, 7, 3, 4, 2, 4, 5]\n",
    "\n",
    "\n",
    "# printing the list\n",
    "print(f\"list before removing duplicate: {list_01}\")\n",
    "\n",
    "# Removing duplicates using sets\n",
    "no_duplicate_list = list(set(list_01))\n",
    "\n",
    "# Printing the list without duplicates values\n",
    "print(f\"list after removing duplicate values: {no_duplicate_list}\")"
   ]
  },
  {
   "cell_type": "code",
   "execution_count": null,
   "id": "02166be5-b8db-4274-88ca-c7292764c9ba",
   "metadata": {},
   "outputs": [],
   "source": []
  },
  {
   "cell_type": "markdown",
   "id": "0f2c2a1c-aa73-492c-a2e5-84ec3e15316a",
   "metadata": {},
   "source": [
    "# Question 44"
   ]
  },
  {
   "cell_type": "markdown",
   "id": "45d145bc-8528-4665-a110-b947e2f38cd4",
   "metadata": {},
   "source": [
    "Check if two sets have the same elements, regardless of their count"
   ]
  },
  {
   "cell_type": "code",
   "execution_count": 121,
   "id": "97725905-ffe4-4a52-bde5-c7a63a7e80ba",
   "metadata": {},
   "outputs": [
    {
     "name": "stdout",
     "output_type": "stream",
     "text": [
      "The sets have the same elements.\n"
     ]
    }
   ],
   "source": [
    "# Creating two sets with some values\n",
    "set1 = {1, 2, 3, 4}\n",
    "set2 = {4, 3, 2, 1}\n",
    "\n",
    "# Checking if the sets have same elements\n",
    "if set1 == set2:\n",
    "    print(\"The sets have the same elements.\")\n",
    "else:\n",
    "    print(\"The sets do not have the same elements.\")"
   ]
  },
  {
   "cell_type": "code",
   "execution_count": null,
   "id": "bc75f858-5430-4ccf-a6c1-a98a931284fc",
   "metadata": {},
   "outputs": [],
   "source": []
  },
  {
   "cell_type": "markdown",
   "id": "888be0b0-4a10-474c-8704-7e55dfe26f3a",
   "metadata": {},
   "source": [
    "# Question 45"
   ]
  },
  {
   "cell_type": "markdown",
   "id": "676cadcc-dcc4-4b3d-b3b2-842c11692671",
   "metadata": {},
   "source": [
    "Create a set of the first `n` powers of 2"
   ]
  },
  {
   "cell_type": "code",
   "execution_count": 73,
   "id": "824e9a66-6359-4872-9462-37058babc38e",
   "metadata": {},
   "outputs": [
    {
     "name": "stdout",
     "output_type": "stream",
     "text": [
      "{1, 2, 4, 8, 16}\n"
     ]
    }
   ],
   "source": [
    "# Code to generating the first n powers of 2 and returning them in a set\n",
    "def generate_powers_of_2_set(n):\n",
    "    \n",
    "    powers_of_2_set = set()\n",
    "    \n",
    "    for i in range(n):\n",
    "        power_of_2 = 2 ** i\n",
    "        powers_of_2_set.add(power_of_2)\n",
    "        \n",
    "    return powers_of_2_set\n",
    "\n",
    "# Generating the first n powers of 2 (here we take, n = 5)\n",
    "n = 5\n",
    "first_n_powers_of_2_set = generate_powers_of_2_set(n)\n",
    "\n",
    "# Printing the set\n",
    "print(first_n_powers_of_2_set)"
   ]
  },
  {
   "cell_type": "code",
   "execution_count": null,
   "id": "b5bc0970-21f5-4189-8c21-f99ab62f533f",
   "metadata": {},
   "outputs": [],
   "source": []
  },
  {
   "cell_type": "markdown",
   "id": "e02d4107-8ae0-4f16-a109-132b51bd0a5d",
   "metadata": {},
   "source": [
    "# Question 46"
   ]
  },
  {
   "cell_type": "markdown",
   "id": "7d38e912-21a5-4e48-80b2-d20ac4c6924c",
   "metadata": {},
   "source": [
    "Find the common elements between a set and a list"
   ]
  },
  {
   "cell_type": "code",
   "execution_count": 74,
   "id": "16f5354f-8959-4248-8d02-1ff1bd4928dc",
   "metadata": {},
   "outputs": [
    {
     "name": "stdout",
     "output_type": "stream",
     "text": [
      "set: {1, 2, 3, 4, 5}\n",
      "list: [3, 4, 5, 6, 7]\n",
      "Common elements: {3, 4, 5}\n"
     ]
    }
   ],
   "source": [
    "# Creating a set\n",
    "my_set = {1, 2, 3, 4, 5}\n",
    "\n",
    "\n",
    "# printing set \n",
    "print(f\"set: {my_set}\")\n",
    "\n",
    "# Create a list\n",
    "my_list = [3, 4, 5, 6, 7]\n",
    "\n",
    "\n",
    "#printing list\n",
    "print(f\"list: {my_list}\")\n",
    "\n",
    "# Convert the list to a set and find the common elements\n",
    "common_elements = set(my_list) & my_set\n",
    "\n",
    "# Print the common elements\n",
    "print(\"Common elements:\", common_elements)"
   ]
  },
  {
   "cell_type": "code",
   "execution_count": null,
   "id": "59246686-4862-4b03-ae69-b1c1475b3263",
   "metadata": {},
   "outputs": [],
   "source": []
  },
  {
   "cell_type": "markdown",
   "id": "cf327b07-5ddc-4309-abb0-c4c423502450",
   "metadata": {},
   "source": [
    "# Question 47"
   ]
  },
  {
   "cell_type": "markdown",
   "id": "ac08cca7-5db0-494f-b64f-d88c741942f6",
   "metadata": {},
   "source": [
    "Create a set of the first `n` triangular numbers"
   ]
  },
  {
   "cell_type": "code",
   "execution_count": 76,
   "id": "a4ef68ad-2f2e-4c6a-b214-1e15117100ef",
   "metadata": {},
   "outputs": [
    {
     "name": "stdout",
     "output_type": "stream",
     "text": [
      "set of first 5 triangular numbers: {1, 3, 6, 10, 15}\n"
     ]
    }
   ],
   "source": [
    "# Function to generate the first n triangular numbers and return them in a set\n",
    "# user defined function can be used in this case\n",
    "\n",
    "def generate_triangular_numbers_set(n):\n",
    "    triangular_numbers_set = set()\n",
    "    \n",
    "    for i in range(1, n + 1): # for loop is used in this case\n",
    "        \n",
    "        triangular_number = i * (i + 1) // 2\n",
    "        triangular_numbers_set.add(triangular_number) # adding values in the triangular_numbers_set\n",
    "    return triangular_numbers_set # returning values\n",
    "\n",
    "# Generating the first n triangular numbers (e.g., n = 5)\n",
    "n = 5\n",
    "first_n_triangular_numbers_set = generate_triangular_numbers_set(n)\n",
    "\n",
    "# Printing the set\n",
    "print(f\"set of first 5 triangular numbers: {first_n_triangular_numbers_set}\")"
   ]
  },
  {
   "cell_type": "code",
   "execution_count": null,
   "id": "d86a19b3-8a0b-4524-a3e6-9cae75f0854d",
   "metadata": {},
   "outputs": [],
   "source": []
  },
  {
   "cell_type": "markdown",
   "id": "923f619d-c066-45b3-9227-eb9f2d403136",
   "metadata": {},
   "source": [
    "# Question 48"
   ]
  },
  {
   "cell_type": "markdown",
   "id": "7ead3bfc-de2c-4bdf-8821-5e51af43cad3",
   "metadata": {},
   "source": [
    "Check if a set contains another set as a subset"
   ]
  },
  {
   "cell_type": "code",
   "execution_count": 129,
   "id": "088d60f9-9cb7-462c-adb4-e33d94aeb19d",
   "metadata": {},
   "outputs": [
    {
     "name": "stdout",
     "output_type": "stream",
     "text": [
      "set_49 is a subset of set_48\n"
     ]
    }
   ],
   "source": [
    "# Creating two sets\n",
    "set_48 = {1, 2, 3, 4, 5}\n",
    "set_49 = {2, 3}\n",
    "\n",
    "# Check if set2 is a subset of set1\n",
    "if set_49.issubset(set_48):\n",
    "    print(\"set_49 is a subset of set_48\")\n",
    "else:\n",
    "    print(\"set_49 is not a subset of set_48\")"
   ]
  },
  {
   "cell_type": "code",
   "execution_count": null,
   "id": "e1621477-c010-4a5b-b6c1-34f072c13ad8",
   "metadata": {},
   "outputs": [],
   "source": []
  },
  {
   "cell_type": "markdown",
   "id": "c1f66774-4314-48ea-97ea-90fcdea5e04c",
   "metadata": {},
   "source": [
    "# Question 49"
   ]
  },
  {
   "cell_type": "markdown",
   "id": "3714b416-c77e-467f-822b-446333f67d8f",
   "metadata": {},
   "source": [
    "Create a set of alternating 1s and 0s of length `n`"
   ]
  },
  {
   "cell_type": "code",
   "execution_count": 77,
   "id": "03354d4c-4c19-41c2-bc4b-6d0f845d8b59",
   "metadata": {},
   "outputs": [
    {
     "data": {
      "text/plain": [
       "{0, 1}"
      ]
     },
     "execution_count": 77,
     "metadata": {},
     "output_type": "execute_result"
    }
   ],
   "source": [
    "# creating user defined function\n",
    "def create_alternating_set(n):\n",
    "    set_of_alternating_1s_and_0s = set()\n",
    "    for i in range(n):\n",
    "        if i % 2 == 0:\n",
    "            set_of_alternating_1s_and_0s.add(1)\n",
    "        else:\n",
    "            set_of_alternating_1s_and_0s.add(0)\n",
    "            return set_of_alternating_1s_and_0s\n",
    "        \n",
    "        \n",
    "# testing the code \n",
    "create_alternating_set(5)"
   ]
  },
  {
   "cell_type": "code",
   "execution_count": null,
   "id": "3be01135-ffb7-4be6-99c6-beba153bb9cb",
   "metadata": {},
   "outputs": [],
   "source": []
  },
  {
   "cell_type": "markdown",
   "id": "2c39e203-0e1a-4b7a-b1f7-a64bcb0c36d5",
   "metadata": {},
   "source": [
    "# Question 50 "
   ]
  },
  {
   "cell_type": "markdown",
   "id": "df4742e8-dd4b-4551-b546-f1a6870fd304",
   "metadata": {},
   "source": [
    "Merge multiple sets into one"
   ]
  },
  {
   "cell_type": "code",
   "execution_count": 80,
   "id": "deba0f9c-0639-4c35-8221-681779cee031",
   "metadata": {},
   "outputs": [
    {
     "name": "stdout",
     "output_type": "stream",
     "text": [
      "before merging the sets are: {1, 2, 3}, {9, 5, 7} and {10, 11, 12, 13}\n",
      "after merging, the final set is: {1, 2, 3, 5, 7, 9, 10, 11, 12, 13}\n"
     ]
    }
   ],
   "source": [
    "# this question can be answerd by using itertools library\n",
    "# importing itertools library\n",
    "import itertools\n",
    "\n",
    "\n",
    "# creating multiple sets\n",
    "set_50 = {1,2,3}\n",
    "set_51 = {5,7,9}\n",
    "set_52 = {10,13,11,12}\n",
    "\n",
    "\n",
    "#printing sets\n",
    "print(f\"before merging the sets are: {set_50}, {set_51} and {set_52}\")\n",
    "\n",
    "\n",
    "# merging all sets by using itertools library\n",
    "merged_set = set(itertools.chain(set_50,set_51,set_52))\n",
    "\n",
    "\n",
    "# printing the value\n",
    "print(f\"after merging, the final set is: {merged_set}\")"
   ]
  },
  {
   "cell_type": "code",
   "execution_count": 32,
   "id": "5c07567f-5460-4626-ad56-3dcf8c418bca",
   "metadata": {},
   "outputs": [],
   "source": [
    "# creating multiple sets\n",
    "\n",
    "set_50 = {1,2,3}\n",
    "set_51 = {5,7,9}\n",
    "set_52 = {10,13,11,12}"
   ]
  },
  {
   "cell_type": "code",
   "execution_count": 33,
   "id": "de87c2b7-09e9-4feb-b663-58c16d3139d1",
   "metadata": {},
   "outputs": [],
   "source": [
    "# merging all sets by using itertools library\n",
    "\n",
    "merged_set = set(itertools.chain(set_50,set_51,set_52))"
   ]
  },
  {
   "cell_type": "code",
   "execution_count": 34,
   "id": "df1bd996-3134-4f59-966f-e86e54258228",
   "metadata": {},
   "outputs": [
    {
     "name": "stdout",
     "output_type": "stream",
     "text": [
      "{1, 2, 3, 5, 7, 9, 10, 11, 12, 13}\n"
     ]
    }
   ],
   "source": [
    "# printing the value\n",
    "\n",
    "print(merged_set)"
   ]
  },
  {
   "cell_type": "code",
   "execution_count": null,
   "id": "53bf63e6-b763-494c-a785-742e4f725236",
   "metadata": {},
   "outputs": [],
   "source": []
  }
 ],
 "metadata": {
  "kernelspec": {
   "display_name": "Python 3 (ipykernel)",
   "language": "python",
   "name": "python3"
  },
  "language_info": {
   "codemirror_mode": {
    "name": "ipython",
    "version": 3
   },
   "file_extension": ".py",
   "mimetype": "text/x-python",
   "name": "python",
   "nbconvert_exporter": "python",
   "pygments_lexer": "ipython3",
   "version": "3.10.8"
  }
 },
 "nbformat": 4,
 "nbformat_minor": 5
}
